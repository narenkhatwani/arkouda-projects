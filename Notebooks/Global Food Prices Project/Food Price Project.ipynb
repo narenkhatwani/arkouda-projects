{
 "cells": [
  {
   "cell_type": "markdown",
   "metadata": {},
   "source": [
    "# Importing all dependencies"
   ]
  },
  {
   "cell_type": "code",
   "execution_count": 34,
   "metadata": {},
   "outputs": [],
   "source": [
    "import chardet\n",
    "import pandas as pd\n",
    "import numpy as np\n",
    "import csv\n",
    "from forex_python.converter import CurrencyRates"
   ]
  },
  {
   "cell_type": "markdown",
   "metadata": {},
   "source": [
    "# Importing and connecting Arkouda"
   ]
  },
  {
   "cell_type": "code",
   "execution_count": 35,
   "metadata": {},
   "outputs": [],
   "source": [
    "import arkouda as ak"
   ]
  },
  {
   "cell_type": "code",
   "execution_count": 36,
   "metadata": {},
   "outputs": [
    {
     "name": "stderr",
     "output_type": "stream",
     "text": [
      "/Users/narenkhatwani/Documents/GitHub/arkouda/arkouda/client.py:146: RuntimeWarning: Version mismatch between client (v2021.10.07+2.g1fd7670.dirty) and server (v2021.08.20+18.g7a657ad); this may cause some commands to fail or behave incorrectly! Updating arkouda is strongly recommended.\n",
      "  warnings.warn(('Version mismatch between client ({}) and server ({}); ' +\n",
      "connected to arkouda server tcp://*:5555\n"
     ]
    }
   ],
   "source": [
    "ak.connect(connect_url='tcp://MacBook-Pro-7.local:5555 ') #connecting to arkouda server"
   ]
  },
  {
   "cell_type": "markdown",
   "metadata": {},
   "source": [
    "# 1. Read the Data"
   ]
  },
  {
   "cell_type": "code",
   "execution_count": 37,
   "metadata": {},
   "outputs": [
    {
     "name": "stdout",
     "output_type": "stream",
     "text": [
      "adm0_id,adm0_name,adm1_id,adm1_name,mkt_id,mkt_name,cm_id,cm_name,cur_id,cur_name,pt_id,pt_name,um_id,um_name,mp_month,mp_year,mp_price,mp_commoditysource\r\n",
      "1,Afghanistan,272,Badakhshan,266,Fayzabad,55,Bread,87,AFN,15,Retail,5,KG,1,2014,50.0,WFP\r\n",
      "1,Afghanistan,272,Badakhshan,266,Fayzabad,55,Bread,87,AFN,15,Retail,5,KG,2,2014,50.0,WFP\r\n",
      "1,Afghanistan,272,Badakhshan,266,Fayzabad,55,Bread,87,AFN,15,Retail,5,KG,3,2014,50.0,WFP\r\n",
      "1,Afghanistan,272,Badakhshan,266,Fayzabad,55,Bread,87,AFN,15,Retail,5,KG,4,2014,50.0,WFP\r\n",
      "1,Afghanistan,272,Badakhshan,266,Fayzabad,55,Bread,87,AFN,15,Retail,5,KG,5,2014,50.0,WFP\r\n",
      "1,Afghanistan,272,Badakhshan,266,Fayzabad,55,Bread,87,AFN,15,Retail,5,KG,6,2014,50.0,WFP\r\n",
      "1,Afghanistan,272,Badakhshan,266,Fayzabad,55,Bread,87,AFN,15,Retail,5,KG,7,2014,50.0,WFP\r\n",
      "1,Afghanistan,272,Badakhshan,266,Fayzabad,55,Bread,87,AFN,15,Retail,5,KG,8,2014,50.0,WFP\r\n",
      "1,Afghanistan,272,Badakhshan,266,Fayzabad,55,Bread,87,AFN,15,Retail,5,KG,9,2014,50.0,WFP\r\n"
     ]
    }
   ],
   "source": [
    "#Printing the first few values from the DataSet\n",
    "!head /Users/narenkhatwani/Desktop/Resources/CSV_files/wfp_market_food_prices.csv"
   ]
  },
  {
   "cell_type": "code",
   "execution_count": 38,
   "metadata": {},
   "outputs": [
    {
     "data": {
      "text/plain": [
       "{'encoding': 'ascii', 'confidence': 1.0, 'language': ''}"
      ]
     },
     "execution_count": 38,
     "metadata": {},
     "output_type": "execute_result"
    }
   ],
   "source": [
    "#Checking the encoding of the csv file, resolved the partial encoding error\n",
    "with open(\"/Users/narenkhatwani/Desktop/Resources/CSV_files/wfp_market_food_prices.csv\", 'rb') as rawdata:\n",
    "    result = chardet.detect(rawdata.read(100000))\n",
    "result"
   ]
  },
  {
   "cell_type": "markdown",
   "metadata": {},
   "source": [
    "## Column Name Descriptions\n",
    "1. adm0_id: country id\n",
    "2. adm0_name: country name\n",
    "3. adm1_id: locality id\n",
    "4. adm1_name: locality name\n",
    "5. mkt_id: market id\n",
    "6. mkt_name: market name\n",
    "7. cm_id: commodity purchase id\n",
    "8. cm_name: commodity purchased\n",
    "9. cur_id: currency id\n",
    "10. cur_name: name of currency\n",
    "11. pt_id: market type id\n",
    "12. pt_name: market type (Retail/Wholesale/Producer/Farm Gate)\n",
    "13. um_id: measurement id\n",
    "14. um_name: unit of goods measurement\n",
    "15. mp_month: month recorded\n",
    "16. mpyear: year recorded *mpprice: price paid\n",
    "17. mp_commoditysource: Source supplying price information"
   ]
  },
  {
   "cell_type": "code",
   "execution_count": 39,
   "metadata": {},
   "outputs": [
    {
     "data": {
      "text/html": [
       "<div>\n",
       "<style scoped>\n",
       "    .dataframe tbody tr th:only-of-type {\n",
       "        vertical-align: middle;\n",
       "    }\n",
       "\n",
       "    .dataframe tbody tr th {\n",
       "        vertical-align: top;\n",
       "    }\n",
       "\n",
       "    .dataframe thead th {\n",
       "        text-align: right;\n",
       "    }\n",
       "</style>\n",
       "<table border=\"1\" class=\"dataframe\">\n",
       "  <thead>\n",
       "    <tr style=\"text-align: right;\">\n",
       "      <th></th>\n",
       "      <th>adm0_id</th>\n",
       "      <th>adm0_name</th>\n",
       "      <th>adm1_id</th>\n",
       "      <th>adm1_name</th>\n",
       "      <th>mkt_id</th>\n",
       "      <th>mkt_name</th>\n",
       "      <th>cm_id</th>\n",
       "      <th>cm_name</th>\n",
       "      <th>cur_id</th>\n",
       "      <th>cur_name</th>\n",
       "      <th>pt_id</th>\n",
       "      <th>pt_name</th>\n",
       "      <th>um_id</th>\n",
       "      <th>um_name</th>\n",
       "      <th>mp_month</th>\n",
       "      <th>mp_year</th>\n",
       "      <th>mp_price</th>\n",
       "      <th>mp_commoditysource</th>\n",
       "    </tr>\n",
       "  </thead>\n",
       "  <tbody>\n",
       "    <tr>\n",
       "      <th>0</th>\n",
       "      <td>1</td>\n",
       "      <td>Afghanistan</td>\n",
       "      <td>272</td>\n",
       "      <td>Badakhshan</td>\n",
       "      <td>266</td>\n",
       "      <td>Fayzabad</td>\n",
       "      <td>55</td>\n",
       "      <td>Bread - Retail</td>\n",
       "      <td>0</td>\n",
       "      <td>AFN</td>\n",
       "      <td>15</td>\n",
       "      <td>Retail</td>\n",
       "      <td>5</td>\n",
       "      <td>KG</td>\n",
       "      <td>1</td>\n",
       "      <td>2014</td>\n",
       "      <td>50.0</td>\n",
       "      <td>NaN</td>\n",
       "    </tr>\n",
       "    <tr>\n",
       "      <th>1</th>\n",
       "      <td>1</td>\n",
       "      <td>Afghanistan</td>\n",
       "      <td>272</td>\n",
       "      <td>Badakhshan</td>\n",
       "      <td>266</td>\n",
       "      <td>Fayzabad</td>\n",
       "      <td>55</td>\n",
       "      <td>Bread - Retail</td>\n",
       "      <td>0</td>\n",
       "      <td>AFN</td>\n",
       "      <td>15</td>\n",
       "      <td>Retail</td>\n",
       "      <td>5</td>\n",
       "      <td>KG</td>\n",
       "      <td>2</td>\n",
       "      <td>2014</td>\n",
       "      <td>50.0</td>\n",
       "      <td>NaN</td>\n",
       "    </tr>\n",
       "    <tr>\n",
       "      <th>2</th>\n",
       "      <td>1</td>\n",
       "      <td>Afghanistan</td>\n",
       "      <td>272</td>\n",
       "      <td>Badakhshan</td>\n",
       "      <td>266</td>\n",
       "      <td>Fayzabad</td>\n",
       "      <td>55</td>\n",
       "      <td>Bread - Retail</td>\n",
       "      <td>0</td>\n",
       "      <td>AFN</td>\n",
       "      <td>15</td>\n",
       "      <td>Retail</td>\n",
       "      <td>5</td>\n",
       "      <td>KG</td>\n",
       "      <td>3</td>\n",
       "      <td>2014</td>\n",
       "      <td>50.0</td>\n",
       "      <td>NaN</td>\n",
       "    </tr>\n",
       "    <tr>\n",
       "      <th>3</th>\n",
       "      <td>1</td>\n",
       "      <td>Afghanistan</td>\n",
       "      <td>272</td>\n",
       "      <td>Badakhshan</td>\n",
       "      <td>266</td>\n",
       "      <td>Fayzabad</td>\n",
       "      <td>55</td>\n",
       "      <td>Bread - Retail</td>\n",
       "      <td>0</td>\n",
       "      <td>AFN</td>\n",
       "      <td>15</td>\n",
       "      <td>Retail</td>\n",
       "      <td>5</td>\n",
       "      <td>KG</td>\n",
       "      <td>4</td>\n",
       "      <td>2014</td>\n",
       "      <td>50.0</td>\n",
       "      <td>NaN</td>\n",
       "    </tr>\n",
       "    <tr>\n",
       "      <th>4</th>\n",
       "      <td>1</td>\n",
       "      <td>Afghanistan</td>\n",
       "      <td>272</td>\n",
       "      <td>Badakhshan</td>\n",
       "      <td>266</td>\n",
       "      <td>Fayzabad</td>\n",
       "      <td>55</td>\n",
       "      <td>Bread - Retail</td>\n",
       "      <td>0</td>\n",
       "      <td>AFN</td>\n",
       "      <td>15</td>\n",
       "      <td>Retail</td>\n",
       "      <td>5</td>\n",
       "      <td>KG</td>\n",
       "      <td>5</td>\n",
       "      <td>2014</td>\n",
       "      <td>50.0</td>\n",
       "      <td>NaN</td>\n",
       "    </tr>\n",
       "  </tbody>\n",
       "</table>\n",
       "</div>"
      ],
      "text/plain": [
       "   adm0_id    adm0_name  adm1_id   adm1_name  mkt_id  mkt_name  cm_id  \\\n",
       "0        1  Afghanistan      272  Badakhshan     266  Fayzabad     55   \n",
       "1        1  Afghanistan      272  Badakhshan     266  Fayzabad     55   \n",
       "2        1  Afghanistan      272  Badakhshan     266  Fayzabad     55   \n",
       "3        1  Afghanistan      272  Badakhshan     266  Fayzabad     55   \n",
       "4        1  Afghanistan      272  Badakhshan     266  Fayzabad     55   \n",
       "\n",
       "          cm_name  cur_id cur_name  pt_id pt_name  um_id um_name  mp_month  \\\n",
       "0  Bread - Retail       0      AFN     15  Retail      5      KG         1   \n",
       "1  Bread - Retail       0      AFN     15  Retail      5      KG         2   \n",
       "2  Bread - Retail       0      AFN     15  Retail      5      KG         3   \n",
       "3  Bread - Retail       0      AFN     15  Retail      5      KG         4   \n",
       "4  Bread - Retail       0      AFN     15  Retail      5      KG         5   \n",
       "\n",
       "   mp_year  mp_price  mp_commoditysource  \n",
       "0     2014      50.0                 NaN  \n",
       "1     2014      50.0                 NaN  \n",
       "2     2014      50.0                 NaN  \n",
       "3     2014      50.0                 NaN  \n",
       "4     2014      50.0                 NaN  "
      ]
     },
     "execution_count": 39,
     "metadata": {},
     "output_type": "execute_result"
    }
   ],
   "source": [
    "#Reading the csv file and creating a dataframe\n",
    "df=pd.read_csv(\"/Users/narenkhatwani/Desktop/Resources/CSV_files/utf8/wfpvam_foodprices_utf8.csv\")\n",
    "\n",
    "#displaying the top 5 rows for testing\n",
    "df.head(5)"
   ]
  },
  {
   "cell_type": "markdown",
   "metadata": {},
   "source": [
    "#### In order to read the csv stating a specific encoding we can use the encoding parameter"
   ]
  },
  {
   "cell_type": "code",
   "execution_count": 40,
   "metadata": {},
   "outputs": [],
   "source": [
    "#df=pd.read_csv(\"/Users/narenkhatwani/Documents/GitHub/arkouda/Notebooks/Resources/wfp_market_food_prices_utf8.csv,encoding='ascii')"
   ]
  },
  {
   "cell_type": "markdown",
   "metadata": {},
   "source": [
    "# 2. Cleaning the Data "
   ]
  },
  {
   "cell_type": "markdown",
   "metadata": {},
   "source": [
    "## 2.1 Convert the csv to hdf file using to_hdf method of Python (not recommended)"
   ]
  },
  {
   "cell_type": "code",
   "execution_count": 41,
   "metadata": {},
   "outputs": [
    {
     "name": "stderr",
     "output_type": "stream",
     "text": [
      "/Users/narenkhatwani/opt/anaconda3/lib/python3.8/site-packages/IPython/core/interactiveshell.py:3071: DtypeWarning: Columns (3) have mixed types.Specify dtype option on import or set low_memory=False.\n",
      "  has_raised = await self.run_ast_nodes(code_ast.body, cell_name,\n"
     ]
    }
   ],
   "source": [
    "df2=pd.read_csv(\"/Users/narenkhatwani/Desktop/Resources/CSV_files/utf8/wfpvam_foodprices_utf8.csv\")\n",
    "\n",
    "df2.to_hdf(\"/Users/narenkhatwani/Desktop/Resources/CSV_files/to_hdf/Food_prices_hdf5.h5\", 'data', mode='w', format='table')\n"
   ]
  },
  {
   "cell_type": "code",
   "execution_count": 42,
   "metadata": {},
   "outputs": [
    {
     "name": "stdout",
     "output_type": "stream",
     "text": [
      "   adm0_id    adm0_name  adm1_id   adm1_name  mkt_id  mkt_name  cm_id  \\\n",
      "0        1  Afghanistan      272  Badakhshan     266  Fayzabad     55   \n",
      "1        1  Afghanistan      272  Badakhshan     266  Fayzabad     55   \n",
      "2        1  Afghanistan      272  Badakhshan     266  Fayzabad     55   \n",
      "3        1  Afghanistan      272  Badakhshan     266  Fayzabad     55   \n",
      "4        1  Afghanistan      272  Badakhshan     266  Fayzabad     55   \n",
      "\n",
      "          cm_name  cur_id cur_name  pt_id pt_name  um_id um_name  mp_month  \\\n",
      "0  Bread - Retail       0      AFN     15  Retail      5      KG         1   \n",
      "1  Bread - Retail       0      AFN     15  Retail      5      KG         2   \n",
      "2  Bread - Retail       0      AFN     15  Retail      5      KG         3   \n",
      "3  Bread - Retail       0      AFN     15  Retail      5      KG         4   \n",
      "4  Bread - Retail       0      AFN     15  Retail      5      KG         5   \n",
      "\n",
      "   mp_year  mp_price  mp_commoditysource  \n",
      "0     2014      50.0                 NaN  \n",
      "1     2014      50.0                 NaN  \n",
      "2     2014      50.0                 NaN  \n",
      "3     2014      50.0                 NaN  \n",
      "4     2014      50.0                 NaN  \n"
     ]
    }
   ],
   "source": [
    "print(pd.read_hdf('/Users/narenkhatwani/Desktop/Resources/CSV_files/to_hdf/Food_prices_hdf5.h5', 'data').head(5))"
   ]
  },
  {
   "cell_type": "markdown",
   "metadata": {},
   "source": [
    "## 2.2 Conversion to .hdf5 using Pandas"
   ]
  },
  {
   "cell_type": "code",
   "execution_count": 43,
   "metadata": {},
   "outputs": [
    {
     "name": "stderr",
     "output_type": "stream",
     "text": [
      "/Users/narenkhatwani/opt/anaconda3/lib/python3.8/site-packages/IPython/core/interactiveshell.py:3071: DtypeWarning: Columns (3) have mixed types.Specify dtype option on import or set low_memory=False.\n",
      "  has_raised = await self.run_ast_nodes(code_ast.body, cell_name,\n"
     ]
    }
   ],
   "source": [
    "pdgreen = pd.read_csv('/Users/narenkhatwani/Desktop/Resources/CSV_files/utf8/wfpvam_foodprices_utf8.csv')\n",
    "# transfer columns of DataFrame to arkouda\n",
    "def ak_create_akdict_from_df(df):\n",
    "    akdict = {}\n",
    "    for cname in df.keys():\n",
    "        if df[cname].dtype.name == 'object':\n",
    "            akdict[cname] = ak.from_series(df[cname],dtype=np.str)\n",
    "        else:\n",
    "            akdict[cname] = ak.from_series(df[cname])\n",
    "\n",
    "    return akdict"
   ]
  },
  {
   "cell_type": "code",
   "execution_count": 44,
   "metadata": {},
   "outputs": [],
   "source": [
    "#Passing the dataframe through the converter function to procure hdf file\n",
    "green_from_pandas = ak_create_akdict_from_df(pdgreen)"
   ]
  },
  {
   "cell_type": "code",
   "execution_count": 45,
   "metadata": {},
   "outputs": [
    {
     "name": "stdout",
     "output_type": "stream",
     "text": [
      "{'adm0_id': array([1 1 1 ... 152 152 152]), 'adm0_name': array(['Afghanistan', 'Afghanistan', 'Afghanistan', ... , 'Malawi', 'Malawi', 'Malawi']), 'adm1_id': array([272 272 272 ... 1890 1890 1890]), 'adm1_name': array(['Badakhshan', 'Badakhshan', 'Badakhshan', ... , 'Southern Region', 'Southern Region', 'Southern Region']), 'mkt_id': array([266 266 266 ... 823 823 823]), 'mkt_name': array(['Fayzabad', 'Fayzabad', 'Fayzabad', ... , 'Thondwe', 'Thondwe', 'Thondwe']), 'cm_id': array([55 55 55 ... 51 51 51]), 'cm_name': array(['Bread - Retail', 'Bread - Retail', 'Bread - Retail', ... , 'Maize - Retail', 'Maize - Retail', 'Maize - Retail']), 'cur_id': array([0 0 0 ... 0 0 0]), 'cur_name': array(['AFN', 'AFN', 'AFN', ... , 'MWK', 'MWK', 'MWK']), 'pt_id': array([15 15 15 ... 15 15 15]), 'pt_name': array(['Retail', 'Retail', 'Retail', ... , 'Retail', 'Retail', 'Retail']), 'um_id': array([5 5 5 ... 5 5 5]), 'um_name': array(['KG', 'KG', 'KG', ... , 'KG', 'KG', 'KG']), 'mp_month': array([1 2 3 ... 12 1 7]), 'mp_year': array([2014 2014 2014 ... 2014 2015 2015]), 'mp_price': array([50 50 50 ... 74.329999999999998 81.349999999999994 111.48999999999999]), 'mp_commoditysource': array([nan nan nan ... nan nan nan])}\n"
     ]
    }
   ],
   "source": [
    "print(green_from_pandas)"
   ]
  },
  {
   "cell_type": "code",
   "execution_count": 46,
   "metadata": {},
   "outputs": [],
   "source": [
    "data_pandas_hdf_convert= green_from_pandas"
   ]
  },
  {
   "cell_type": "code",
   "execution_count": 47,
   "metadata": {},
   "outputs": [
    {
     "data": {
      "text/plain": [
       "array([1 1 1 ... 152 152 152])"
      ]
     },
     "execution_count": 47,
     "metadata": {},
     "output_type": "execute_result"
    }
   ],
   "source": [
    "data_pandas_hdf_convert['adm0_id']"
   ]
  },
  {
   "cell_type": "markdown",
   "metadata": {},
   "source": [
    "## 2.3 Conversion to .hdf5 using Arkouda"
   ]
  },
  {
   "cell_type": "markdown",
   "metadata": {},
   "source": [
    "### Handling Currency Conversion"
   ]
  },
  {
   "cell_type": "code",
   "execution_count": 49,
   "metadata": {},
   "outputs": [],
   "source": [
    "c = CurrencyRates()"
   ]
  },
  {
   "cell_type": "code",
   "execution_count": 50,
   "metadata": {},
   "outputs": [],
   "source": [
    "a_dict=c.get_rates('USD')"
   ]
  },
  {
   "cell_type": "code",
   "execution_count": 51,
   "metadata": {},
   "outputs": [
    {
     "data": {
      "text/plain": [
       "{'EUR': 0.8643789437289308,\n",
       " 'JPY': 113.89921341516121,\n",
       " 'BGN': 1.6905523381450427,\n",
       " 'CZK': 22.014867317832138,\n",
       " 'DKK': 6.428991269772668,\n",
       " 'GBP': 0.7377474284726424,\n",
       " 'HUF': 311.055406690293,\n",
       " 'PLN': 3.9819344800760654,\n",
       " 'RON': 4.27815714409197,\n",
       " 'SEK': 8.562537816578788,\n",
       " 'CHF': 0.9122655372115134,\n",
       " 'ISK': 129.82971734808538,\n",
       " 'NOK': 8.521912006223529,\n",
       " 'HRK': 6.5035871726164745,\n",
       " 'RUB': 71.52243063358976,\n",
       " 'TRY': 9.72452243063359,\n",
       " 'AUD': 1.3486040280058778,\n",
       " 'BRL': 5.604028005877776,\n",
       " 'CAD': 1.2416803526666091,\n",
       " 'CNY': 6.394934739389748,\n",
       " 'HKD': 7.784510329328378,\n",
       " 'IDR': 14364.871639726856,\n",
       " 'INR': 74.41913734981415,\n",
       " 'KRW': 1183.6200190163368,\n",
       " 'MXN': 20.588728498573772,\n",
       " 'MYR': 4.153513700406258,\n",
       " 'NZD': 1.403319215143919,\n",
       " 'PHP': 50.63445414469703,\n",
       " 'SGD': 1.3507649753652,\n",
       " 'THB': 33.31489324920045,\n",
       " 'ZAR': 15.2040798686144,\n",
       " 'USD': 1}"
      ]
     },
     "execution_count": 51,
     "metadata": {},
     "output_type": "execute_result"
    }
   ],
   "source": [
    "a_dict.update(USD=1)\n",
    "\n",
    "a_dict"
   ]
  },
  {
   "cell_type": "code",
   "execution_count": 53,
   "metadata": {},
   "outputs": [],
   "source": [
    "(pd.DataFrame.from_dict(data=a_dict, orient='index').to_csv('/Users/narenkhatwani/Desktop/Resources/CSV_files/currency_rates/dict_file.csv', header=True))\n",
    "\n",
    "\n",
    "header = [\"cur_name\", \"conversion_rate\"]\n",
    "\n",
    "with open('/Users/narenkhatwani/Desktop/Resources/CSV_files/currency_rates/dict_file.csv', 'r') as fp:\n",
    "    reader = csv.DictReader(fp, fieldnames=header)\n",
    "\n",
    "    # use newline='' to avoid adding new CR at end of line\n",
    "    with open('/Users/narenkhatwani/Desktop/Resources/CSV_files/currency_rates/clean_rates.csv', 'w', newline='') as fh: \n",
    "        writer = csv.DictWriter(fh, fieldnames=reader.fieldnames)\n",
    "        writer.writeheader()\n",
    "        header_mapping = next(reader)\n",
    "        writer.writerows(reader)#working"
   ]
  },
  {
   "cell_type": "code",
   "execution_count": 54,
   "metadata": {},
   "outputs": [],
   "source": [
    "data1 = pd.read_csv('/Users/narenkhatwani/Desktop/Resources/CSV_files/utf8/wfpvam_foodprices_utf8.csv') \n",
    "\n",
    "data2 = pd.read_csv('/Users/narenkhatwani/Desktop/Resources/CSV_files/currency_rates/clean_rates.csv') \n",
    "\n",
    "# using merge function by setting how='left' \n",
    "\n",
    "output2 = pd.merge(data1, data2,on='cur_name',how='left') \n",
    "\n",
    "# displaying result "
   ]
  },
  {
   "cell_type": "code",
   "execution_count": 58,
   "metadata": {},
   "outputs": [
    {
     "data": {
      "text/html": [
       "<div>\n",
       "<style scoped>\n",
       "    .dataframe tbody tr th:only-of-type {\n",
       "        vertical-align: middle;\n",
       "    }\n",
       "\n",
       "    .dataframe tbody tr th {\n",
       "        vertical-align: top;\n",
       "    }\n",
       "\n",
       "    .dataframe thead th {\n",
       "        text-align: right;\n",
       "    }\n",
       "</style>\n",
       "<table border=\"1\" class=\"dataframe\">\n",
       "  <thead>\n",
       "    <tr style=\"text-align: right;\">\n",
       "      <th></th>\n",
       "      <th>adm0_id</th>\n",
       "      <th>adm0_name</th>\n",
       "      <th>adm1_id</th>\n",
       "      <th>adm1_name</th>\n",
       "      <th>mkt_id</th>\n",
       "      <th>mkt_name</th>\n",
       "      <th>cm_id</th>\n",
       "      <th>cm_name</th>\n",
       "      <th>cur_id</th>\n",
       "      <th>cur_name</th>\n",
       "      <th>pt_id</th>\n",
       "      <th>pt_name</th>\n",
       "      <th>um_id</th>\n",
       "      <th>um_name</th>\n",
       "      <th>mp_month</th>\n",
       "      <th>mp_year</th>\n",
       "      <th>mp_price</th>\n",
       "      <th>mp_commoditysource</th>\n",
       "      <th>conversion_rate</th>\n",
       "    </tr>\n",
       "  </thead>\n",
       "  <tbody>\n",
       "    <tr>\n",
       "      <th>0</th>\n",
       "      <td>1</td>\n",
       "      <td>Afghanistan</td>\n",
       "      <td>272</td>\n",
       "      <td>Badakhshan</td>\n",
       "      <td>266</td>\n",
       "      <td>Fayzabad</td>\n",
       "      <td>55</td>\n",
       "      <td>Bread - Retail</td>\n",
       "      <td>0</td>\n",
       "      <td>AFN</td>\n",
       "      <td>15</td>\n",
       "      <td>Retail</td>\n",
       "      <td>5</td>\n",
       "      <td>KG</td>\n",
       "      <td>1</td>\n",
       "      <td>2014</td>\n",
       "      <td>50.0</td>\n",
       "      <td>NaN</td>\n",
       "      <td>NaN</td>\n",
       "    </tr>\n",
       "    <tr>\n",
       "      <th>1</th>\n",
       "      <td>1</td>\n",
       "      <td>Afghanistan</td>\n",
       "      <td>272</td>\n",
       "      <td>Badakhshan</td>\n",
       "      <td>266</td>\n",
       "      <td>Fayzabad</td>\n",
       "      <td>55</td>\n",
       "      <td>Bread - Retail</td>\n",
       "      <td>0</td>\n",
       "      <td>AFN</td>\n",
       "      <td>15</td>\n",
       "      <td>Retail</td>\n",
       "      <td>5</td>\n",
       "      <td>KG</td>\n",
       "      <td>2</td>\n",
       "      <td>2014</td>\n",
       "      <td>50.0</td>\n",
       "      <td>NaN</td>\n",
       "      <td>NaN</td>\n",
       "    </tr>\n",
       "    <tr>\n",
       "      <th>2</th>\n",
       "      <td>1</td>\n",
       "      <td>Afghanistan</td>\n",
       "      <td>272</td>\n",
       "      <td>Badakhshan</td>\n",
       "      <td>266</td>\n",
       "      <td>Fayzabad</td>\n",
       "      <td>55</td>\n",
       "      <td>Bread - Retail</td>\n",
       "      <td>0</td>\n",
       "      <td>AFN</td>\n",
       "      <td>15</td>\n",
       "      <td>Retail</td>\n",
       "      <td>5</td>\n",
       "      <td>KG</td>\n",
       "      <td>3</td>\n",
       "      <td>2014</td>\n",
       "      <td>50.0</td>\n",
       "      <td>NaN</td>\n",
       "      <td>NaN</td>\n",
       "    </tr>\n",
       "    <tr>\n",
       "      <th>3</th>\n",
       "      <td>1</td>\n",
       "      <td>Afghanistan</td>\n",
       "      <td>272</td>\n",
       "      <td>Badakhshan</td>\n",
       "      <td>266</td>\n",
       "      <td>Fayzabad</td>\n",
       "      <td>55</td>\n",
       "      <td>Bread - Retail</td>\n",
       "      <td>0</td>\n",
       "      <td>AFN</td>\n",
       "      <td>15</td>\n",
       "      <td>Retail</td>\n",
       "      <td>5</td>\n",
       "      <td>KG</td>\n",
       "      <td>4</td>\n",
       "      <td>2014</td>\n",
       "      <td>50.0</td>\n",
       "      <td>NaN</td>\n",
       "      <td>NaN</td>\n",
       "    </tr>\n",
       "    <tr>\n",
       "      <th>4</th>\n",
       "      <td>1</td>\n",
       "      <td>Afghanistan</td>\n",
       "      <td>272</td>\n",
       "      <td>Badakhshan</td>\n",
       "      <td>266</td>\n",
       "      <td>Fayzabad</td>\n",
       "      <td>55</td>\n",
       "      <td>Bread - Retail</td>\n",
       "      <td>0</td>\n",
       "      <td>AFN</td>\n",
       "      <td>15</td>\n",
       "      <td>Retail</td>\n",
       "      <td>5</td>\n",
       "      <td>KG</td>\n",
       "      <td>5</td>\n",
       "      <td>2014</td>\n",
       "      <td>50.0</td>\n",
       "      <td>NaN</td>\n",
       "      <td>NaN</td>\n",
       "    </tr>\n",
       "  </tbody>\n",
       "</table>\n",
       "</div>"
      ],
      "text/plain": [
       "   adm0_id    adm0_name  adm1_id   adm1_name  mkt_id  mkt_name  cm_id  \\\n",
       "0        1  Afghanistan      272  Badakhshan     266  Fayzabad     55   \n",
       "1        1  Afghanistan      272  Badakhshan     266  Fayzabad     55   \n",
       "2        1  Afghanistan      272  Badakhshan     266  Fayzabad     55   \n",
       "3        1  Afghanistan      272  Badakhshan     266  Fayzabad     55   \n",
       "4        1  Afghanistan      272  Badakhshan     266  Fayzabad     55   \n",
       "\n",
       "          cm_name  cur_id cur_name  pt_id pt_name  um_id um_name  mp_month  \\\n",
       "0  Bread - Retail       0      AFN     15  Retail      5      KG         1   \n",
       "1  Bread - Retail       0      AFN     15  Retail      5      KG         2   \n",
       "2  Bread - Retail       0      AFN     15  Retail      5      KG         3   \n",
       "3  Bread - Retail       0      AFN     15  Retail      5      KG         4   \n",
       "4  Bread - Retail       0      AFN     15  Retail      5      KG         5   \n",
       "\n",
       "   mp_year  mp_price  mp_commoditysource  conversion_rate  \n",
       "0     2014      50.0                 NaN              NaN  \n",
       "1     2014      50.0                 NaN              NaN  \n",
       "2     2014      50.0                 NaN              NaN  \n",
       "3     2014      50.0                 NaN              NaN  \n",
       "4     2014      50.0                 NaN              NaN  "
      ]
     },
     "execution_count": 58,
     "metadata": {},
     "output_type": "execute_result"
    }
   ],
   "source": [
    "output2.head(5) "
   ]
  },
  {
   "cell_type": "code",
   "execution_count": 59,
   "metadata": {},
   "outputs": [],
   "source": [
    "output3 = output2[output2['conversion_rate'].notna()]"
   ]
  },
  {
   "cell_type": "code",
   "execution_count": 60,
   "metadata": {},
   "outputs": [
    {
     "data": {
      "text/html": [
       "<div>\n",
       "<style scoped>\n",
       "    .dataframe tbody tr th:only-of-type {\n",
       "        vertical-align: middle;\n",
       "    }\n",
       "\n",
       "    .dataframe tbody tr th {\n",
       "        vertical-align: top;\n",
       "    }\n",
       "\n",
       "    .dataframe thead th {\n",
       "        text-align: right;\n",
       "    }\n",
       "</style>\n",
       "<table border=\"1\" class=\"dataframe\">\n",
       "  <thead>\n",
       "    <tr style=\"text-align: right;\">\n",
       "      <th></th>\n",
       "      <th>adm0_id</th>\n",
       "      <th>adm0_name</th>\n",
       "      <th>adm1_id</th>\n",
       "      <th>adm1_name</th>\n",
       "      <th>mkt_id</th>\n",
       "      <th>mkt_name</th>\n",
       "      <th>cm_id</th>\n",
       "      <th>cm_name</th>\n",
       "      <th>cur_id</th>\n",
       "      <th>cur_name</th>\n",
       "      <th>pt_id</th>\n",
       "      <th>pt_name</th>\n",
       "      <th>um_id</th>\n",
       "      <th>um_name</th>\n",
       "      <th>mp_month</th>\n",
       "      <th>mp_year</th>\n",
       "      <th>mp_price</th>\n",
       "      <th>mp_commoditysource</th>\n",
       "      <th>conversion_rate</th>\n",
       "    </tr>\n",
       "  </thead>\n",
       "  <tbody>\n",
       "    <tr>\n",
       "      <th>47965</th>\n",
       "      <td>115</td>\n",
       "      <td>Bassas da India</td>\n",
       "      <td>0</td>\n",
       "      <td>NaN</td>\n",
       "      <td>1887</td>\n",
       "      <td>National Average</td>\n",
       "      <td>52</td>\n",
       "      <td>Rice - Retail</td>\n",
       "      <td>0</td>\n",
       "      <td>INR</td>\n",
       "      <td>15</td>\n",
       "      <td>Retail</td>\n",
       "      <td>5</td>\n",
       "      <td>KG</td>\n",
       "      <td>7</td>\n",
       "      <td>2015</td>\n",
       "      <td>27.52</td>\n",
       "      <td>NaN</td>\n",
       "      <td>74.419137</td>\n",
       "    </tr>\n",
       "    <tr>\n",
       "      <th>47966</th>\n",
       "      <td>115</td>\n",
       "      <td>Bassas da India</td>\n",
       "      <td>0</td>\n",
       "      <td>NaN</td>\n",
       "      <td>1887</td>\n",
       "      <td>National Average</td>\n",
       "      <td>52</td>\n",
       "      <td>Rice - Retail</td>\n",
       "      <td>0</td>\n",
       "      <td>INR</td>\n",
       "      <td>15</td>\n",
       "      <td>Retail</td>\n",
       "      <td>5</td>\n",
       "      <td>KG</td>\n",
       "      <td>8</td>\n",
       "      <td>2015</td>\n",
       "      <td>27.34</td>\n",
       "      <td>NaN</td>\n",
       "      <td>74.419137</td>\n",
       "    </tr>\n",
       "    <tr>\n",
       "      <th>47967</th>\n",
       "      <td>115</td>\n",
       "      <td>Bassas da India</td>\n",
       "      <td>0</td>\n",
       "      <td>NaN</td>\n",
       "      <td>1887</td>\n",
       "      <td>National Average</td>\n",
       "      <td>52</td>\n",
       "      <td>Rice - Retail</td>\n",
       "      <td>0</td>\n",
       "      <td>INR</td>\n",
       "      <td>15</td>\n",
       "      <td>Retail</td>\n",
       "      <td>5</td>\n",
       "      <td>KG</td>\n",
       "      <td>9</td>\n",
       "      <td>2015</td>\n",
       "      <td>27.40</td>\n",
       "      <td>NaN</td>\n",
       "      <td>74.419137</td>\n",
       "    </tr>\n",
       "    <tr>\n",
       "      <th>47968</th>\n",
       "      <td>115</td>\n",
       "      <td>Bassas da India</td>\n",
       "      <td>0</td>\n",
       "      <td>NaN</td>\n",
       "      <td>1887</td>\n",
       "      <td>National Average</td>\n",
       "      <td>52</td>\n",
       "      <td>Rice - Retail</td>\n",
       "      <td>0</td>\n",
       "      <td>INR</td>\n",
       "      <td>15</td>\n",
       "      <td>Retail</td>\n",
       "      <td>5</td>\n",
       "      <td>KG</td>\n",
       "      <td>1</td>\n",
       "      <td>2016</td>\n",
       "      <td>27.06</td>\n",
       "      <td>NaN</td>\n",
       "      <td>74.419137</td>\n",
       "    </tr>\n",
       "    <tr>\n",
       "      <th>47969</th>\n",
       "      <td>115</td>\n",
       "      <td>Bassas da India</td>\n",
       "      <td>0</td>\n",
       "      <td>NaN</td>\n",
       "      <td>1887</td>\n",
       "      <td>National Average</td>\n",
       "      <td>52</td>\n",
       "      <td>Rice - Retail</td>\n",
       "      <td>0</td>\n",
       "      <td>INR</td>\n",
       "      <td>15</td>\n",
       "      <td>Retail</td>\n",
       "      <td>5</td>\n",
       "      <td>KG</td>\n",
       "      <td>2</td>\n",
       "      <td>2016</td>\n",
       "      <td>27.04</td>\n",
       "      <td>NaN</td>\n",
       "      <td>74.419137</td>\n",
       "    </tr>\n",
       "  </tbody>\n",
       "</table>\n",
       "</div>"
      ],
      "text/plain": [
       "       adm0_id        adm0_name  adm1_id adm1_name  mkt_id          mkt_name  \\\n",
       "47965      115  Bassas da India        0       NaN    1887  National Average   \n",
       "47966      115  Bassas da India        0       NaN    1887  National Average   \n",
       "47967      115  Bassas da India        0       NaN    1887  National Average   \n",
       "47968      115  Bassas da India        0       NaN    1887  National Average   \n",
       "47969      115  Bassas da India        0       NaN    1887  National Average   \n",
       "\n",
       "       cm_id        cm_name  cur_id cur_name  pt_id pt_name  um_id um_name  \\\n",
       "47965     52  Rice - Retail       0      INR     15  Retail      5      KG   \n",
       "47966     52  Rice - Retail       0      INR     15  Retail      5      KG   \n",
       "47967     52  Rice - Retail       0      INR     15  Retail      5      KG   \n",
       "47968     52  Rice - Retail       0      INR     15  Retail      5      KG   \n",
       "47969     52  Rice - Retail       0      INR     15  Retail      5      KG   \n",
       "\n",
       "       mp_month  mp_year  mp_price  mp_commoditysource  conversion_rate  \n",
       "47965         7     2015     27.52                 NaN        74.419137  \n",
       "47966         8     2015     27.34                 NaN        74.419137  \n",
       "47967         9     2015     27.40                 NaN        74.419137  \n",
       "47968         1     2016     27.06                 NaN        74.419137  \n",
       "47969         2     2016     27.04                 NaN        74.419137  "
      ]
     },
     "execution_count": 60,
     "metadata": {},
     "output_type": "execute_result"
    }
   ],
   "source": [
    "output3.head(5)"
   ]
  },
  {
   "cell_type": "code",
   "execution_count": 61,
   "metadata": {},
   "outputs": [],
   "source": [
    "output3.to_csv('/Users/narenkhatwani/Desktop/Resources/Final_csv_cleaned/global_food_clean.csv', index=False)"
   ]
  },
  {
   "cell_type": "code",
   "execution_count": 63,
   "metadata": {},
   "outputs": [
    {
     "name": "stdout",
     "output_type": "stream",
     "text": [
      "Ignoring column adm0_name because dtype \"object\" has no HDF5 equivalent.\n",
      "Ignoring column mkt_name because dtype \"object\" has no HDF5 equivalent.\n",
      "Ignoring column cm_name because dtype \"object\" has no HDF5 equivalent.\n",
      "Ignoring column cur_name because dtype \"object\" has no HDF5 equivalent.\n",
      "Ignoring column pt_name because dtype \"object\" has no HDF5 equivalent.\n",
      "Ignoring column um_name because dtype \"object\" has no HDF5 equivalent.\n",
      "Columns to be extracted:\n",
      "<class 'pandas.core.frame.DataFrame'>\n",
      "RangeIndex: 1000 entries, 0 to 999\n",
      "Data columns (total 13 columns):\n",
      " #   Column              Non-Null Count  Dtype  \n",
      "---  ------              --------------  -----  \n",
      " 0   adm0_id             1000 non-null   int64  \n",
      " 1   adm1_id             1000 non-null   int64  \n",
      " 2   adm1_name           0 non-null      float64\n",
      " 3   mkt_id              1000 non-null   int64  \n",
      " 4   cm_id               1000 non-null   int64  \n",
      " 5   cur_id              1000 non-null   int64  \n",
      " 6   pt_id               1000 non-null   int64  \n",
      " 7   um_id               1000 non-null   int64  \n",
      " 8   mp_month            1000 non-null   int64  \n",
      " 9   mp_year             1000 non-null   int64  \n",
      " 10  mp_price            1000 non-null   float64\n",
      " 11  mp_commoditysource  0 non-null      float64\n",
      " 12  conversion_rate     1000 non-null   float64\n",
      "dtypes: float64(4), int64(9)\n",
      "memory usage: 101.7 KB\n",
      "None\n",
      "  0%|                                                     | 0/1 [00:00<?, ?it/s]/Users/narenkhatwani/Documents/GitHub/arkouda/converter/csv2hdf.py:31: DtypeWarning: Columns (3) have mixed types.Specify dtype option on import or set low_memory=False.\n",
      "  hdflow.convert_files(args.filenames, args.outdir, args.extension, CUSTOM[args.format], args.jobs)\n",
      "Column 0             NaN\n",
      "1             NaN\n",
      "2             NaN\n",
      "3             NaN\n",
      "4             NaN\n",
      "           ...   \n",
      "224889    Tookyoo\n",
      "224890    Tookyoo\n",
      "224891    Tookyoo\n",
      "224892    Tookyoo\n",
      "224893    Tookyoo\n",
      "Name: adm1_name, Length: 224894, dtype: object\n",
      "100%|█████████████████████████████████████████████| 1/1 [00:01<00:00,  1.96s/it]\n"
     ]
    }
   ],
   "source": [
    "!python3 /Users/narenkhatwani/Documents/GitHub/arkouda/converter/csv2hdf.py \\\n",
    "--formats-file=/Users/narenkhatwani/Desktop/Resources/formatter_file/formatter_file.py\\\n",
    "--format=yellow \\\n",
    "--outdir=/Users/narenkhatwani/Desktop/Resources/Csv_final_pruned_merged\\\n",
    "/Users/narenkhatwani/Desktop/Resources/Final_csv_cleaned/global_food_clean.csv"
   ]
  },
  {
   "cell_type": "code",
   "execution_count": 64,
   "metadata": {},
   "outputs": [],
   "source": [
    "green_from_HDF5 = ak.read_all('/Users/narenkhatwani/Desktop/Resources_arkouda/wfpvam_foodprices_utf8.hdf')"
   ]
  },
  {
   "cell_type": "code",
   "execution_count": 65,
   "metadata": {},
   "outputs": [
    {
     "data": {
      "text/plain": [
       "['adm0_id',\n",
       " 'adm1_id',\n",
       " 'cm_id',\n",
       " 'cur_id',\n",
       " 'mkt_id',\n",
       " 'mp_commoditysource',\n",
       " 'mp_month',\n",
       " 'mp_price',\n",
       " 'mp_year',\n",
       " 'pt_id',\n",
       " 'um_id']"
      ]
     },
     "execution_count": 65,
     "metadata": {},
     "output_type": "execute_result"
    }
   ],
   "source": [
    "ak.get_datasets('/Users/narenkhatwani/Desktop/Resources_arkouda/wfpvam_foodprices_utf8.hdf')"
   ]
  },
  {
   "cell_type": "code",
   "execution_count": 66,
   "metadata": {},
   "outputs": [],
   "source": [
    "data=green_from_HDF5"
   ]
  },
  {
   "cell_type": "code",
   "execution_count": 67,
   "metadata": {},
   "outputs": [
    {
     "data": {
      "text/plain": [
       "array([1 1 1 ... 152 152 152])"
      ]
     },
     "execution_count": 67,
     "metadata": {},
     "output_type": "execute_result"
    }
   ],
   "source": [
    "data['adm0_id']"
   ]
  },
  {
   "cell_type": "code",
   "execution_count": 68,
   "metadata": {},
   "outputs": [
    {
     "data": {
      "text/plain": [
       "array([272 272 272 ... 1890 1890 1890])"
      ]
     },
     "execution_count": 68,
     "metadata": {},
     "output_type": "execute_result"
    }
   ],
   "source": [
    "data['adm1_id']"
   ]
  },
  {
   "cell_type": "code",
   "execution_count": 69,
   "metadata": {},
   "outputs": [],
   "source": [
    "data['test_product']=data['adm0_id']*data['adm1_id']"
   ]
  },
  {
   "cell_type": "code",
   "execution_count": 70,
   "metadata": {},
   "outputs": [
    {
     "data": {
      "text/plain": [
       "array([272 272 272 ... 287280 287280 287280])"
      ]
     },
     "execution_count": 70,
     "metadata": {},
     "output_type": "execute_result"
    }
   ],
   "source": [
    "data['test_product']"
   ]
  },
  {
   "cell_type": "markdown",
   "metadata": {},
   "source": [
    "## Arkouda Configuration"
   ]
  },
  {
   "cell_type": "code",
   "execution_count": 71,
   "metadata": {},
   "outputs": [],
   "source": [
    "cfg=ak.get_config()"
   ]
  },
  {
   "cell_type": "code",
   "execution_count": 72,
   "metadata": {},
   "outputs": [
    {
     "data": {
      "text/plain": [
       "{'arkoudaVersion': 'v2021.08.20+18.g7a657ad',\n",
       " 'ZMQVersion': '4.3.2',\n",
       " 'HDF5Version': '1.12.1',\n",
       " 'serverHostname': 'MacBook-Pro-7.local',\n",
       " 'ServerPort': 5555,\n",
       " 'numLocales': 1,\n",
       " 'numPUs': 4,\n",
       " 'maxTaskPar': 4,\n",
       " 'physicalMemory': 8589934592,\n",
       " 'distributionType': 'domain(1,int(64),false)',\n",
       " 'LocaleConfigs': [{'id': 0,\n",
       "   'name': 'MacBook-Pro-7.local',\n",
       "   'numPUs': 4,\n",
       "   'maxTaskPar': 4,\n",
       "   'physicalMemory': 8589934592}],\n",
       " 'authenticate': False,\n",
       " 'logLevel': 'INFO',\n",
       " 'byteorder': 'little'}"
      ]
     },
     "execution_count": 72,
     "metadata": {},
     "output_type": "execute_result"
    }
   ],
   "source": [
    "cfg"
   ]
  },
  {
   "cell_type": "code",
   "execution_count": null,
   "metadata": {},
   "outputs": [],
   "source": []
  }
 ],
 "metadata": {
  "kernelspec": {
   "display_name": "Python 3",
   "language": "python",
   "name": "python3"
  },
  "language_info": {
   "codemirror_mode": {
    "name": "ipython",
    "version": 3
   },
   "file_extension": ".py",
   "mimetype": "text/x-python",
   "name": "python",
   "nbconvert_exporter": "python",
   "pygments_lexer": "ipython3",
   "version": "3.8.3"
  }
 },
 "nbformat": 4,
 "nbformat_minor": 4
}
