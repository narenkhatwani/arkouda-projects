{
 "cells": [
  {
   "cell_type": "markdown",
   "metadata": {},
   "source": [
    "# Importing all dependencies"
   ]
  },
  {
   "cell_type": "code",
   "execution_count": 1,
   "metadata": {},
   "outputs": [],
   "source": [
    "import chardet\n",
    "import pandas as pd\n",
    "import numpy as np\n",
    "import csv\n",
    "from forex_python.converter import CurrencyRates"
   ]
  },
  {
   "cell_type": "markdown",
   "metadata": {},
   "source": [
    "# Importing and connecting Arkouda"
   ]
  },
  {
   "cell_type": "code",
   "execution_count": 2,
   "metadata": {},
   "outputs": [
    {
     "name": "stdout",
     "output_type": "stream",
     "text": [
      "    _         _                   _       \n",
      "   / \\   _ __| | _____  _   _  __| | __ _ \n",
      "  / _ \\ | '__| |/ / _ \\| | | |/ _` |/ _` |\n",
      " / ___ \\| |  |   < (_) | |_| | (_| | (_| |\n",
      "/_/   \\_\\_|  |_|\\_\\___/ \\__,_|\\__,_|\\__,_|\n",
      "                                          \n",
      "\n",
      "Client Version: v2021.10.07+3.g1e77539.dirty\n"
     ]
    }
   ],
   "source": [
    "import arkouda as ak"
   ]
  },
  {
   "cell_type": "code",
   "execution_count": 3,
   "metadata": {},
   "outputs": [
    {
     "name": "stderr",
     "output_type": "stream",
     "text": [
      "/Users/narenkhatwani/Documents/GitHub/arkouda/arkouda/client.py:146: RuntimeWarning: Version mismatch between client (v2021.10.07+3.g1e77539.dirty) and server (v2021.08.20+18.g7a657ad); this may cause some commands to fail or behave incorrectly! Updating arkouda is strongly recommended.\n",
      "  warnings.warn(('Version mismatch between client ({}) and server ({}); ' +\n",
      "connected to arkouda server tcp://*:5555\n"
     ]
    }
   ],
   "source": [
    "ak.connect(connect_url='tcp://MacBook-Pro-7.local:5555 ') #connecting to arkouda server"
   ]
  },
  {
   "cell_type": "markdown",
   "metadata": {},
   "source": [
    "# 1. Read the Data"
   ]
  },
  {
   "cell_type": "code",
   "execution_count": 4,
   "metadata": {},
   "outputs": [
    {
     "name": "stdout",
     "output_type": "stream",
     "text": [
      "adm0_id,adm0_name,adm1_id,adm1_name,mkt_id,mkt_name,cm_id,cm_name,cur_id,cur_name,pt_id,pt_name,um_id,um_name,mp_month,mp_year,mp_price,mp_commoditysource\r\n",
      "1,Afghanistan,272,Badakhshan,266,Fayzabad,55,Bread,87,AFN,15,Retail,5,KG,1,2014,50.0,WFP\r\n",
      "1,Afghanistan,272,Badakhshan,266,Fayzabad,55,Bread,87,AFN,15,Retail,5,KG,2,2014,50.0,WFP\r\n",
      "1,Afghanistan,272,Badakhshan,266,Fayzabad,55,Bread,87,AFN,15,Retail,5,KG,3,2014,50.0,WFP\r\n",
      "1,Afghanistan,272,Badakhshan,266,Fayzabad,55,Bread,87,AFN,15,Retail,5,KG,4,2014,50.0,WFP\r\n",
      "1,Afghanistan,272,Badakhshan,266,Fayzabad,55,Bread,87,AFN,15,Retail,5,KG,5,2014,50.0,WFP\r\n",
      "1,Afghanistan,272,Badakhshan,266,Fayzabad,55,Bread,87,AFN,15,Retail,5,KG,6,2014,50.0,WFP\r\n",
      "1,Afghanistan,272,Badakhshan,266,Fayzabad,55,Bread,87,AFN,15,Retail,5,KG,7,2014,50.0,WFP\r\n",
      "1,Afghanistan,272,Badakhshan,266,Fayzabad,55,Bread,87,AFN,15,Retail,5,KG,8,2014,50.0,WFP\r\n",
      "1,Afghanistan,272,Badakhshan,266,Fayzabad,55,Bread,87,AFN,15,Retail,5,KG,9,2014,50.0,WFP\r\n"
     ]
    }
   ],
   "source": [
    "#Printing the first few values from the DataSet\n",
    "!head /Users/narenkhatwani/Desktop/Resources/CSV_files/wfp_market_food_prices.csv"
   ]
  },
  {
   "cell_type": "code",
   "execution_count": 5,
   "metadata": {},
   "outputs": [
    {
     "data": {
      "text/plain": [
       "{'encoding': 'ascii', 'confidence': 1.0, 'language': ''}"
      ]
     },
     "execution_count": 5,
     "metadata": {},
     "output_type": "execute_result"
    }
   ],
   "source": [
    "#Checking the encoding of the csv file, resolved the partial encoding error\n",
    "with open(\"/Users/narenkhatwani/Desktop/Resources/CSV_files/wfp_market_food_prices.csv\", 'rb') as rawdata:\n",
    "    result = chardet.detect(rawdata.read(100000))\n",
    "result"
   ]
  },
  {
   "cell_type": "markdown",
   "metadata": {},
   "source": [
    "## Column Name Descriptions\n",
    "1. adm0_id: country id\n",
    "2. adm0_name: country name\n",
    "3. adm1_id: locality id\n",
    "4. adm1_name: locality name\n",
    "5. mkt_id: market id\n",
    "6. mkt_name: market name\n",
    "7. cm_id: commodity purchase id\n",
    "8. cm_name: commodity purchased\n",
    "9. cur_id: currency id\n",
    "10. cur_name: name of currency\n",
    "11. pt_id: market type id\n",
    "12. pt_name: market type (Retail/Wholesale/Producer/Farm Gate)\n",
    "13. um_id: measurement id\n",
    "14. um_name: unit of goods measurement\n",
    "15. mp_month: month recorded\n",
    "16. mpyear: year recorded *mpprice: price paid\n",
    "17. mp_commoditysource: Source supplying price information"
   ]
  },
  {
   "cell_type": "code",
   "execution_count": 6,
   "metadata": {},
   "outputs": [
    {
     "name": "stderr",
     "output_type": "stream",
     "text": [
      "/Users/narenkhatwani/opt/anaconda3/lib/python3.8/site-packages/IPython/core/interactiveshell.py:3071: DtypeWarning: Columns (3) have mixed types.Specify dtype option on import or set low_memory=False.\n",
      "  has_raised = await self.run_ast_nodes(code_ast.body, cell_name,\n"
     ]
    },
    {
     "data": {
      "text/html": [
       "<div>\n",
       "<style scoped>\n",
       "    .dataframe tbody tr th:only-of-type {\n",
       "        vertical-align: middle;\n",
       "    }\n",
       "\n",
       "    .dataframe tbody tr th {\n",
       "        vertical-align: top;\n",
       "    }\n",
       "\n",
       "    .dataframe thead th {\n",
       "        text-align: right;\n",
       "    }\n",
       "</style>\n",
       "<table border=\"1\" class=\"dataframe\">\n",
       "  <thead>\n",
       "    <tr style=\"text-align: right;\">\n",
       "      <th></th>\n",
       "      <th>adm0_id</th>\n",
       "      <th>adm0_name</th>\n",
       "      <th>adm1_id</th>\n",
       "      <th>adm1_name</th>\n",
       "      <th>mkt_id</th>\n",
       "      <th>mkt_name</th>\n",
       "      <th>cm_id</th>\n",
       "      <th>cm_name</th>\n",
       "      <th>cur_id</th>\n",
       "      <th>cur_name</th>\n",
       "      <th>pt_id</th>\n",
       "      <th>pt_name</th>\n",
       "      <th>um_id</th>\n",
       "      <th>um_name</th>\n",
       "      <th>mp_month</th>\n",
       "      <th>mp_year</th>\n",
       "      <th>mp_price</th>\n",
       "      <th>mp_commoditysource</th>\n",
       "    </tr>\n",
       "  </thead>\n",
       "  <tbody>\n",
       "    <tr>\n",
       "      <th>0</th>\n",
       "      <td>1</td>\n",
       "      <td>Afghanistan</td>\n",
       "      <td>272</td>\n",
       "      <td>Badakhshan</td>\n",
       "      <td>266</td>\n",
       "      <td>Fayzabad</td>\n",
       "      <td>55</td>\n",
       "      <td>Bread - Retail</td>\n",
       "      <td>0</td>\n",
       "      <td>AFN</td>\n",
       "      <td>15</td>\n",
       "      <td>Retail</td>\n",
       "      <td>5</td>\n",
       "      <td>KG</td>\n",
       "      <td>1</td>\n",
       "      <td>2014</td>\n",
       "      <td>50.0</td>\n",
       "      <td>NaN</td>\n",
       "    </tr>\n",
       "    <tr>\n",
       "      <th>1</th>\n",
       "      <td>1</td>\n",
       "      <td>Afghanistan</td>\n",
       "      <td>272</td>\n",
       "      <td>Badakhshan</td>\n",
       "      <td>266</td>\n",
       "      <td>Fayzabad</td>\n",
       "      <td>55</td>\n",
       "      <td>Bread - Retail</td>\n",
       "      <td>0</td>\n",
       "      <td>AFN</td>\n",
       "      <td>15</td>\n",
       "      <td>Retail</td>\n",
       "      <td>5</td>\n",
       "      <td>KG</td>\n",
       "      <td>2</td>\n",
       "      <td>2014</td>\n",
       "      <td>50.0</td>\n",
       "      <td>NaN</td>\n",
       "    </tr>\n",
       "    <tr>\n",
       "      <th>2</th>\n",
       "      <td>1</td>\n",
       "      <td>Afghanistan</td>\n",
       "      <td>272</td>\n",
       "      <td>Badakhshan</td>\n",
       "      <td>266</td>\n",
       "      <td>Fayzabad</td>\n",
       "      <td>55</td>\n",
       "      <td>Bread - Retail</td>\n",
       "      <td>0</td>\n",
       "      <td>AFN</td>\n",
       "      <td>15</td>\n",
       "      <td>Retail</td>\n",
       "      <td>5</td>\n",
       "      <td>KG</td>\n",
       "      <td>3</td>\n",
       "      <td>2014</td>\n",
       "      <td>50.0</td>\n",
       "      <td>NaN</td>\n",
       "    </tr>\n",
       "    <tr>\n",
       "      <th>3</th>\n",
       "      <td>1</td>\n",
       "      <td>Afghanistan</td>\n",
       "      <td>272</td>\n",
       "      <td>Badakhshan</td>\n",
       "      <td>266</td>\n",
       "      <td>Fayzabad</td>\n",
       "      <td>55</td>\n",
       "      <td>Bread - Retail</td>\n",
       "      <td>0</td>\n",
       "      <td>AFN</td>\n",
       "      <td>15</td>\n",
       "      <td>Retail</td>\n",
       "      <td>5</td>\n",
       "      <td>KG</td>\n",
       "      <td>4</td>\n",
       "      <td>2014</td>\n",
       "      <td>50.0</td>\n",
       "      <td>NaN</td>\n",
       "    </tr>\n",
       "    <tr>\n",
       "      <th>4</th>\n",
       "      <td>1</td>\n",
       "      <td>Afghanistan</td>\n",
       "      <td>272</td>\n",
       "      <td>Badakhshan</td>\n",
       "      <td>266</td>\n",
       "      <td>Fayzabad</td>\n",
       "      <td>55</td>\n",
       "      <td>Bread - Retail</td>\n",
       "      <td>0</td>\n",
       "      <td>AFN</td>\n",
       "      <td>15</td>\n",
       "      <td>Retail</td>\n",
       "      <td>5</td>\n",
       "      <td>KG</td>\n",
       "      <td>5</td>\n",
       "      <td>2014</td>\n",
       "      <td>50.0</td>\n",
       "      <td>NaN</td>\n",
       "    </tr>\n",
       "  </tbody>\n",
       "</table>\n",
       "</div>"
      ],
      "text/plain": [
       "   adm0_id    adm0_name  adm1_id   adm1_name  mkt_id  mkt_name  cm_id  \\\n",
       "0        1  Afghanistan      272  Badakhshan     266  Fayzabad     55   \n",
       "1        1  Afghanistan      272  Badakhshan     266  Fayzabad     55   \n",
       "2        1  Afghanistan      272  Badakhshan     266  Fayzabad     55   \n",
       "3        1  Afghanistan      272  Badakhshan     266  Fayzabad     55   \n",
       "4        1  Afghanistan      272  Badakhshan     266  Fayzabad     55   \n",
       "\n",
       "          cm_name  cur_id cur_name  pt_id pt_name  um_id um_name  mp_month  \\\n",
       "0  Bread - Retail       0      AFN     15  Retail      5      KG         1   \n",
       "1  Bread - Retail       0      AFN     15  Retail      5      KG         2   \n",
       "2  Bread - Retail       0      AFN     15  Retail      5      KG         3   \n",
       "3  Bread - Retail       0      AFN     15  Retail      5      KG         4   \n",
       "4  Bread - Retail       0      AFN     15  Retail      5      KG         5   \n",
       "\n",
       "   mp_year  mp_price  mp_commoditysource  \n",
       "0     2014      50.0                 NaN  \n",
       "1     2014      50.0                 NaN  \n",
       "2     2014      50.0                 NaN  \n",
       "3     2014      50.0                 NaN  \n",
       "4     2014      50.0                 NaN  "
      ]
     },
     "execution_count": 6,
     "metadata": {},
     "output_type": "execute_result"
    }
   ],
   "source": [
    "#Reading the csv file and creating a dataframe\n",
    "df=pd.read_csv(\"/Users/narenkhatwani/Desktop/Resources/CSV_files/utf8/wfpvam_foodprices_utf8.csv\")\n",
    "\n",
    "#displaying the top 5 rows for testing\n",
    "df.head(5)"
   ]
  },
  {
   "cell_type": "markdown",
   "metadata": {},
   "source": [
    "#### In order to read the csv stating a specific encoding we can use the encoding parameter"
   ]
  },
  {
   "cell_type": "code",
   "execution_count": 7,
   "metadata": {},
   "outputs": [],
   "source": [
    "#df=pd.read_csv(\"/Users/narenkhatwani/Documents/GitHub/arkouda/Notebooks/Resources/wfp_market_food_prices_utf8.csv,encoding='ascii')"
   ]
  },
  {
   "cell_type": "markdown",
   "metadata": {},
   "source": [
    "# 2. Cleaning the Data "
   ]
  },
  {
   "cell_type": "markdown",
   "metadata": {},
   "source": [
    "## 2.1 Convert the csv to hdf file using to_hdf method of Python (not recommended)"
   ]
  },
  {
   "cell_type": "code",
   "execution_count": 8,
   "metadata": {},
   "outputs": [
    {
     "name": "stderr",
     "output_type": "stream",
     "text": [
      "/Users/narenkhatwani/opt/anaconda3/lib/python3.8/site-packages/IPython/core/interactiveshell.py:3071: DtypeWarning: Columns (3) have mixed types.Specify dtype option on import or set low_memory=False.\n",
      "  has_raised = await self.run_ast_nodes(code_ast.body, cell_name,\n"
     ]
    }
   ],
   "source": [
    "df2=pd.read_csv(\"/Users/narenkhatwani/Desktop/Resources/CSV_files/utf8/wfpvam_foodprices_utf8.csv\")\n",
    "\n",
    "df2.to_hdf(\"/Users/narenkhatwani/Desktop/Resources/CSV_files/to_hdf/Food_prices_hdf5.h5\", 'data', mode='w', format='table')\n"
   ]
  },
  {
   "cell_type": "code",
   "execution_count": 9,
   "metadata": {},
   "outputs": [
    {
     "name": "stdout",
     "output_type": "stream",
     "text": [
      "   adm0_id    adm0_name  adm1_id   adm1_name  mkt_id  mkt_name  cm_id  \\\n",
      "0        1  Afghanistan      272  Badakhshan     266  Fayzabad     55   \n",
      "1        1  Afghanistan      272  Badakhshan     266  Fayzabad     55   \n",
      "2        1  Afghanistan      272  Badakhshan     266  Fayzabad     55   \n",
      "3        1  Afghanistan      272  Badakhshan     266  Fayzabad     55   \n",
      "4        1  Afghanistan      272  Badakhshan     266  Fayzabad     55   \n",
      "\n",
      "          cm_name  cur_id cur_name  pt_id pt_name  um_id um_name  mp_month  \\\n",
      "0  Bread - Retail       0      AFN     15  Retail      5      KG         1   \n",
      "1  Bread - Retail       0      AFN     15  Retail      5      KG         2   \n",
      "2  Bread - Retail       0      AFN     15  Retail      5      KG         3   \n",
      "3  Bread - Retail       0      AFN     15  Retail      5      KG         4   \n",
      "4  Bread - Retail       0      AFN     15  Retail      5      KG         5   \n",
      "\n",
      "   mp_year  mp_price  mp_commoditysource  \n",
      "0     2014      50.0                 NaN  \n",
      "1     2014      50.0                 NaN  \n",
      "2     2014      50.0                 NaN  \n",
      "3     2014      50.0                 NaN  \n",
      "4     2014      50.0                 NaN  \n"
     ]
    }
   ],
   "source": [
    "print(pd.read_hdf('/Users/narenkhatwani/Desktop/Resources/CSV_files/to_hdf/Food_prices_hdf5.h5', 'data').head(5))"
   ]
  },
  {
   "cell_type": "markdown",
   "metadata": {},
   "source": [
    "## 2.2 Conversion to .hdf5 using Pandas"
   ]
  },
  {
   "cell_type": "code",
   "execution_count": 10,
   "metadata": {},
   "outputs": [
    {
     "name": "stderr",
     "output_type": "stream",
     "text": [
      "/Users/narenkhatwani/opt/anaconda3/lib/python3.8/site-packages/IPython/core/interactiveshell.py:3071: DtypeWarning: Columns (3) have mixed types.Specify dtype option on import or set low_memory=False.\n",
      "  has_raised = await self.run_ast_nodes(code_ast.body, cell_name,\n"
     ]
    }
   ],
   "source": [
    "pdgreen = pd.read_csv('/Users/narenkhatwani/Desktop/Resources/CSV_files/utf8/wfpvam_foodprices_utf8.csv')\n",
    "# transfer columns of DataFrame to arkouda\n",
    "def ak_create_akdict_from_df(df):\n",
    "    akdict = {}\n",
    "    for cname in df.keys():\n",
    "        if df[cname].dtype.name == 'object':\n",
    "            akdict[cname] = ak.from_series(df[cname],dtype=np.str)\n",
    "        else:\n",
    "            akdict[cname] = ak.from_series(df[cname])\n",
    "\n",
    "    return akdict"
   ]
  },
  {
   "cell_type": "code",
   "execution_count": 11,
   "metadata": {},
   "outputs": [],
   "source": [
    "#Passing the dataframe through the converter function to procure hdf file\n",
    "green_from_pandas = ak_create_akdict_from_df(pdgreen)"
   ]
  },
  {
   "cell_type": "code",
   "execution_count": 12,
   "metadata": {},
   "outputs": [
    {
     "name": "stdout",
     "output_type": "stream",
     "text": [
      "{'adm0_id': array([1 1 1 ... 152 152 152]), 'adm0_name': array(['Afghanistan', 'Afghanistan', 'Afghanistan', ... , 'Malawi', 'Malawi', 'Malawi']), 'adm1_id': array([272 272 272 ... 1890 1890 1890]), 'adm1_name': array(['Badakhshan', 'Badakhshan', 'Badakhshan', ... , 'Southern Region', 'Southern Region', 'Southern Region']), 'mkt_id': array([266 266 266 ... 823 823 823]), 'mkt_name': array(['Fayzabad', 'Fayzabad', 'Fayzabad', ... , 'Thondwe', 'Thondwe', 'Thondwe']), 'cm_id': array([55 55 55 ... 51 51 51]), 'cm_name': array(['Bread - Retail', 'Bread - Retail', 'Bread - Retail', ... , 'Maize - Retail', 'Maize - Retail', 'Maize - Retail']), 'cur_id': array([0 0 0 ... 0 0 0]), 'cur_name': array(['AFN', 'AFN', 'AFN', ... , 'MWK', 'MWK', 'MWK']), 'pt_id': array([15 15 15 ... 15 15 15]), 'pt_name': array(['Retail', 'Retail', 'Retail', ... , 'Retail', 'Retail', 'Retail']), 'um_id': array([5 5 5 ... 5 5 5]), 'um_name': array(['KG', 'KG', 'KG', ... , 'KG', 'KG', 'KG']), 'mp_month': array([1 2 3 ... 12 1 7]), 'mp_year': array([2014 2014 2014 ... 2014 2015 2015]), 'mp_price': array([50 50 50 ... 74.329999999999998 81.349999999999994 111.48999999999999]), 'mp_commoditysource': array([nan nan nan ... nan nan nan])}\n"
     ]
    }
   ],
   "source": [
    "print(green_from_pandas)"
   ]
  },
  {
   "cell_type": "code",
   "execution_count": 13,
   "metadata": {},
   "outputs": [],
   "source": [
    "data_pandas_hdf_convert= green_from_pandas"
   ]
  },
  {
   "cell_type": "code",
   "execution_count": 14,
   "metadata": {},
   "outputs": [
    {
     "data": {
      "text/plain": [
       "array([1 1 1 ... 152 152 152])"
      ]
     },
     "execution_count": 14,
     "metadata": {},
     "output_type": "execute_result"
    }
   ],
   "source": [
    "data_pandas_hdf_convert['adm0_id']"
   ]
  },
  {
   "cell_type": "markdown",
   "metadata": {},
   "source": [
    "## 2.3 Conversion to .hdf5 using Arkouda"
   ]
  },
  {
   "cell_type": "markdown",
   "metadata": {},
   "source": [
    "### Handling Currency Conversion"
   ]
  },
  {
   "cell_type": "code",
   "execution_count": 15,
   "metadata": {},
   "outputs": [],
   "source": [
    "c = CurrencyRates()"
   ]
  },
  {
   "cell_type": "code",
   "execution_count": 16,
   "metadata": {},
   "outputs": [],
   "source": [
    "a_dict=c.get_rates('USD')"
   ]
  },
  {
   "cell_type": "code",
   "execution_count": 17,
   "metadata": {},
   "outputs": [
    {
     "data": {
      "text/plain": [
       "{'EUR': 0.8726003490401397,\n",
       " 'JPY': 113.95287958115185,\n",
       " 'BGN': 1.7066317626527052,\n",
       " 'CZK': 22.03664921465969,\n",
       " 'DKK': 6.489703315881327,\n",
       " 'GBP': 0.7464048865619547,\n",
       " 'HUF': 318.324607329843,\n",
       " 'PLN': 4.03979057591623,\n",
       " 'RON': 4.317102966841187,\n",
       " 'SEK': 8.695287958115184,\n",
       " 'CHF': 0.9215532286212915,\n",
       " 'ISK': 131.239092495637,\n",
       " 'NOK': 8.699389179755673,\n",
       " 'HRK': 6.554799301919721,\n",
       " 'RUB': 71.14424083769634,\n",
       " 'TRY': 9.913176265270508,\n",
       " 'AUD': 1.3698952879581154,\n",
       " 'BRL': 5.443542757417103,\n",
       " 'CAD': 1.2582024432809773,\n",
       " 'CNY': 6.395462478184992,\n",
       " 'HKD': 7.792233856893543,\n",
       " 'IDR': 14260.314136125655,\n",
       " 'INR': 74.44066317626528,\n",
       " 'KRW': 1180.7417102966842,\n",
       " 'MXN': 20.538132635253056,\n",
       " 'MYR': 4.167975567190227,\n",
       " 'NZD': 1.4239092495636998,\n",
       " 'PHP': 50.062827225130896,\n",
       " 'SGD': 1.3539267015706808,\n",
       " 'THB': 32.85514834205934,\n",
       " 'ZAR': 15.250872600349041,\n",
       " 'USD': 1,\n",
       " 'AFN': 91.3}"
      ]
     },
     "execution_count": 17,
     "metadata": {},
     "output_type": "execute_result"
    }
   ],
   "source": [
    "a_dict.update(USD=1)\n",
    "a_dict.update(AFN=91.30)\n",
    "\n",
    "a_dict"
   ]
  },
  {
   "cell_type": "code",
   "execution_count": 18,
   "metadata": {},
   "outputs": [],
   "source": [
    "(pd.DataFrame.from_dict(data=a_dict, orient='index').to_csv('/Users/narenkhatwani/Desktop/Resources/CSV_files/currency_rates/dict_file.csv', header=True))\n",
    "\n",
    "\n",
    "header = [\"cur_name\", \"conversion_rate\"]\n",
    "\n",
    "with open('/Users/narenkhatwani/Desktop/Resources/CSV_files/currency_rates/dict_file.csv', 'r') as fp:\n",
    "    reader = csv.DictReader(fp, fieldnames=header)\n",
    "\n",
    "    # use newline='' to avoid adding new CR at end of line\n",
    "    with open('/Users/narenkhatwani/Desktop/Resources/CSV_files/currency_rates/clean_rates.csv', 'w', newline='') as fh: \n",
    "        writer = csv.DictWriter(fh, fieldnames=reader.fieldnames)\n",
    "        writer.writeheader()\n",
    "        header_mapping = next(reader)\n",
    "        writer.writerows(reader)#working"
   ]
  },
  {
   "cell_type": "code",
   "execution_count": 19,
   "metadata": {},
   "outputs": [],
   "source": [
    "data1 = pd.read_csv('/Users/narenkhatwani/Desktop/Resources/CSV_files/utf8/wfpvam_foodprices_utf8.csv') \n",
    "\n",
    "data2 = pd.read_csv('/Users/narenkhatwani/Desktop/Resources/CSV_files/currency_rates/clean_rates.csv') \n",
    "\n",
    "# using merge function by setting how='left' \n",
    "\n",
    "output2 = pd.merge(data1, data2,on='cur_name',how='left') \n",
    "\n",
    "# displaying result "
   ]
  },
  {
   "cell_type": "code",
   "execution_count": 20,
   "metadata": {},
   "outputs": [
    {
     "data": {
      "text/html": [
       "<div>\n",
       "<style scoped>\n",
       "    .dataframe tbody tr th:only-of-type {\n",
       "        vertical-align: middle;\n",
       "    }\n",
       "\n",
       "    .dataframe tbody tr th {\n",
       "        vertical-align: top;\n",
       "    }\n",
       "\n",
       "    .dataframe thead th {\n",
       "        text-align: right;\n",
       "    }\n",
       "</style>\n",
       "<table border=\"1\" class=\"dataframe\">\n",
       "  <thead>\n",
       "    <tr style=\"text-align: right;\">\n",
       "      <th></th>\n",
       "      <th>adm0_id</th>\n",
       "      <th>adm0_name</th>\n",
       "      <th>adm1_id</th>\n",
       "      <th>adm1_name</th>\n",
       "      <th>mkt_id</th>\n",
       "      <th>mkt_name</th>\n",
       "      <th>cm_id</th>\n",
       "      <th>cm_name</th>\n",
       "      <th>cur_id</th>\n",
       "      <th>cur_name</th>\n",
       "      <th>pt_id</th>\n",
       "      <th>pt_name</th>\n",
       "      <th>um_id</th>\n",
       "      <th>um_name</th>\n",
       "      <th>mp_month</th>\n",
       "      <th>mp_year</th>\n",
       "      <th>mp_price</th>\n",
       "      <th>mp_commoditysource</th>\n",
       "      <th>conversion_rate</th>\n",
       "    </tr>\n",
       "  </thead>\n",
       "  <tbody>\n",
       "    <tr>\n",
       "      <th>0</th>\n",
       "      <td>1</td>\n",
       "      <td>Afghanistan</td>\n",
       "      <td>272</td>\n",
       "      <td>Badakhshan</td>\n",
       "      <td>266</td>\n",
       "      <td>Fayzabad</td>\n",
       "      <td>55</td>\n",
       "      <td>Bread - Retail</td>\n",
       "      <td>0</td>\n",
       "      <td>AFN</td>\n",
       "      <td>15</td>\n",
       "      <td>Retail</td>\n",
       "      <td>5</td>\n",
       "      <td>KG</td>\n",
       "      <td>1</td>\n",
       "      <td>2014</td>\n",
       "      <td>50.0</td>\n",
       "      <td>NaN</td>\n",
       "      <td>91.3</td>\n",
       "    </tr>\n",
       "    <tr>\n",
       "      <th>1</th>\n",
       "      <td>1</td>\n",
       "      <td>Afghanistan</td>\n",
       "      <td>272</td>\n",
       "      <td>Badakhshan</td>\n",
       "      <td>266</td>\n",
       "      <td>Fayzabad</td>\n",
       "      <td>55</td>\n",
       "      <td>Bread - Retail</td>\n",
       "      <td>0</td>\n",
       "      <td>AFN</td>\n",
       "      <td>15</td>\n",
       "      <td>Retail</td>\n",
       "      <td>5</td>\n",
       "      <td>KG</td>\n",
       "      <td>2</td>\n",
       "      <td>2014</td>\n",
       "      <td>50.0</td>\n",
       "      <td>NaN</td>\n",
       "      <td>91.3</td>\n",
       "    </tr>\n",
       "    <tr>\n",
       "      <th>2</th>\n",
       "      <td>1</td>\n",
       "      <td>Afghanistan</td>\n",
       "      <td>272</td>\n",
       "      <td>Badakhshan</td>\n",
       "      <td>266</td>\n",
       "      <td>Fayzabad</td>\n",
       "      <td>55</td>\n",
       "      <td>Bread - Retail</td>\n",
       "      <td>0</td>\n",
       "      <td>AFN</td>\n",
       "      <td>15</td>\n",
       "      <td>Retail</td>\n",
       "      <td>5</td>\n",
       "      <td>KG</td>\n",
       "      <td>3</td>\n",
       "      <td>2014</td>\n",
       "      <td>50.0</td>\n",
       "      <td>NaN</td>\n",
       "      <td>91.3</td>\n",
       "    </tr>\n",
       "    <tr>\n",
       "      <th>3</th>\n",
       "      <td>1</td>\n",
       "      <td>Afghanistan</td>\n",
       "      <td>272</td>\n",
       "      <td>Badakhshan</td>\n",
       "      <td>266</td>\n",
       "      <td>Fayzabad</td>\n",
       "      <td>55</td>\n",
       "      <td>Bread - Retail</td>\n",
       "      <td>0</td>\n",
       "      <td>AFN</td>\n",
       "      <td>15</td>\n",
       "      <td>Retail</td>\n",
       "      <td>5</td>\n",
       "      <td>KG</td>\n",
       "      <td>4</td>\n",
       "      <td>2014</td>\n",
       "      <td>50.0</td>\n",
       "      <td>NaN</td>\n",
       "      <td>91.3</td>\n",
       "    </tr>\n",
       "    <tr>\n",
       "      <th>4</th>\n",
       "      <td>1</td>\n",
       "      <td>Afghanistan</td>\n",
       "      <td>272</td>\n",
       "      <td>Badakhshan</td>\n",
       "      <td>266</td>\n",
       "      <td>Fayzabad</td>\n",
       "      <td>55</td>\n",
       "      <td>Bread - Retail</td>\n",
       "      <td>0</td>\n",
       "      <td>AFN</td>\n",
       "      <td>15</td>\n",
       "      <td>Retail</td>\n",
       "      <td>5</td>\n",
       "      <td>KG</td>\n",
       "      <td>5</td>\n",
       "      <td>2014</td>\n",
       "      <td>50.0</td>\n",
       "      <td>NaN</td>\n",
       "      <td>91.3</td>\n",
       "    </tr>\n",
       "  </tbody>\n",
       "</table>\n",
       "</div>"
      ],
      "text/plain": [
       "   adm0_id    adm0_name  adm1_id   adm1_name  mkt_id  mkt_name  cm_id  \\\n",
       "0        1  Afghanistan      272  Badakhshan     266  Fayzabad     55   \n",
       "1        1  Afghanistan      272  Badakhshan     266  Fayzabad     55   \n",
       "2        1  Afghanistan      272  Badakhshan     266  Fayzabad     55   \n",
       "3        1  Afghanistan      272  Badakhshan     266  Fayzabad     55   \n",
       "4        1  Afghanistan      272  Badakhshan     266  Fayzabad     55   \n",
       "\n",
       "          cm_name  cur_id cur_name  pt_id pt_name  um_id um_name  mp_month  \\\n",
       "0  Bread - Retail       0      AFN     15  Retail      5      KG         1   \n",
       "1  Bread - Retail       0      AFN     15  Retail      5      KG         2   \n",
       "2  Bread - Retail       0      AFN     15  Retail      5      KG         3   \n",
       "3  Bread - Retail       0      AFN     15  Retail      5      KG         4   \n",
       "4  Bread - Retail       0      AFN     15  Retail      5      KG         5   \n",
       "\n",
       "   mp_year  mp_price  mp_commoditysource  conversion_rate  \n",
       "0     2014      50.0                 NaN             91.3  \n",
       "1     2014      50.0                 NaN             91.3  \n",
       "2     2014      50.0                 NaN             91.3  \n",
       "3     2014      50.0                 NaN             91.3  \n",
       "4     2014      50.0                 NaN             91.3  "
      ]
     },
     "execution_count": 20,
     "metadata": {},
     "output_type": "execute_result"
    }
   ],
   "source": [
    "output2.head(5) "
   ]
  },
  {
   "cell_type": "code",
   "execution_count": 21,
   "metadata": {},
   "outputs": [],
   "source": [
    "output3 = output2[output2['conversion_rate'].notna()]"
   ]
  },
  {
   "cell_type": "code",
   "execution_count": 22,
   "metadata": {},
   "outputs": [
    {
     "data": {
      "text/html": [
       "<div>\n",
       "<style scoped>\n",
       "    .dataframe tbody tr th:only-of-type {\n",
       "        vertical-align: middle;\n",
       "    }\n",
       "\n",
       "    .dataframe tbody tr th {\n",
       "        vertical-align: top;\n",
       "    }\n",
       "\n",
       "    .dataframe thead th {\n",
       "        text-align: right;\n",
       "    }\n",
       "</style>\n",
       "<table border=\"1\" class=\"dataframe\">\n",
       "  <thead>\n",
       "    <tr style=\"text-align: right;\">\n",
       "      <th></th>\n",
       "      <th>adm0_id</th>\n",
       "      <th>adm0_name</th>\n",
       "      <th>adm1_id</th>\n",
       "      <th>adm1_name</th>\n",
       "      <th>mkt_id</th>\n",
       "      <th>mkt_name</th>\n",
       "      <th>cm_id</th>\n",
       "      <th>cm_name</th>\n",
       "      <th>cur_id</th>\n",
       "      <th>cur_name</th>\n",
       "      <th>pt_id</th>\n",
       "      <th>pt_name</th>\n",
       "      <th>um_id</th>\n",
       "      <th>um_name</th>\n",
       "      <th>mp_month</th>\n",
       "      <th>mp_year</th>\n",
       "      <th>mp_price</th>\n",
       "      <th>mp_commoditysource</th>\n",
       "      <th>conversion_rate</th>\n",
       "    </tr>\n",
       "  </thead>\n",
       "  <tbody>\n",
       "    <tr>\n",
       "      <th>0</th>\n",
       "      <td>1</td>\n",
       "      <td>Afghanistan</td>\n",
       "      <td>272</td>\n",
       "      <td>Badakhshan</td>\n",
       "      <td>266</td>\n",
       "      <td>Fayzabad</td>\n",
       "      <td>55</td>\n",
       "      <td>Bread - Retail</td>\n",
       "      <td>0</td>\n",
       "      <td>AFN</td>\n",
       "      <td>15</td>\n",
       "      <td>Retail</td>\n",
       "      <td>5</td>\n",
       "      <td>KG</td>\n",
       "      <td>1</td>\n",
       "      <td>2014</td>\n",
       "      <td>50.0</td>\n",
       "      <td>NaN</td>\n",
       "      <td>91.3</td>\n",
       "    </tr>\n",
       "    <tr>\n",
       "      <th>1</th>\n",
       "      <td>1</td>\n",
       "      <td>Afghanistan</td>\n",
       "      <td>272</td>\n",
       "      <td>Badakhshan</td>\n",
       "      <td>266</td>\n",
       "      <td>Fayzabad</td>\n",
       "      <td>55</td>\n",
       "      <td>Bread - Retail</td>\n",
       "      <td>0</td>\n",
       "      <td>AFN</td>\n",
       "      <td>15</td>\n",
       "      <td>Retail</td>\n",
       "      <td>5</td>\n",
       "      <td>KG</td>\n",
       "      <td>2</td>\n",
       "      <td>2014</td>\n",
       "      <td>50.0</td>\n",
       "      <td>NaN</td>\n",
       "      <td>91.3</td>\n",
       "    </tr>\n",
       "    <tr>\n",
       "      <th>2</th>\n",
       "      <td>1</td>\n",
       "      <td>Afghanistan</td>\n",
       "      <td>272</td>\n",
       "      <td>Badakhshan</td>\n",
       "      <td>266</td>\n",
       "      <td>Fayzabad</td>\n",
       "      <td>55</td>\n",
       "      <td>Bread - Retail</td>\n",
       "      <td>0</td>\n",
       "      <td>AFN</td>\n",
       "      <td>15</td>\n",
       "      <td>Retail</td>\n",
       "      <td>5</td>\n",
       "      <td>KG</td>\n",
       "      <td>3</td>\n",
       "      <td>2014</td>\n",
       "      <td>50.0</td>\n",
       "      <td>NaN</td>\n",
       "      <td>91.3</td>\n",
       "    </tr>\n",
       "    <tr>\n",
       "      <th>3</th>\n",
       "      <td>1</td>\n",
       "      <td>Afghanistan</td>\n",
       "      <td>272</td>\n",
       "      <td>Badakhshan</td>\n",
       "      <td>266</td>\n",
       "      <td>Fayzabad</td>\n",
       "      <td>55</td>\n",
       "      <td>Bread - Retail</td>\n",
       "      <td>0</td>\n",
       "      <td>AFN</td>\n",
       "      <td>15</td>\n",
       "      <td>Retail</td>\n",
       "      <td>5</td>\n",
       "      <td>KG</td>\n",
       "      <td>4</td>\n",
       "      <td>2014</td>\n",
       "      <td>50.0</td>\n",
       "      <td>NaN</td>\n",
       "      <td>91.3</td>\n",
       "    </tr>\n",
       "    <tr>\n",
       "      <th>4</th>\n",
       "      <td>1</td>\n",
       "      <td>Afghanistan</td>\n",
       "      <td>272</td>\n",
       "      <td>Badakhshan</td>\n",
       "      <td>266</td>\n",
       "      <td>Fayzabad</td>\n",
       "      <td>55</td>\n",
       "      <td>Bread - Retail</td>\n",
       "      <td>0</td>\n",
       "      <td>AFN</td>\n",
       "      <td>15</td>\n",
       "      <td>Retail</td>\n",
       "      <td>5</td>\n",
       "      <td>KG</td>\n",
       "      <td>5</td>\n",
       "      <td>2014</td>\n",
       "      <td>50.0</td>\n",
       "      <td>NaN</td>\n",
       "      <td>91.3</td>\n",
       "    </tr>\n",
       "  </tbody>\n",
       "</table>\n",
       "</div>"
      ],
      "text/plain": [
       "   adm0_id    adm0_name  adm1_id   adm1_name  mkt_id  mkt_name  cm_id  \\\n",
       "0        1  Afghanistan      272  Badakhshan     266  Fayzabad     55   \n",
       "1        1  Afghanistan      272  Badakhshan     266  Fayzabad     55   \n",
       "2        1  Afghanistan      272  Badakhshan     266  Fayzabad     55   \n",
       "3        1  Afghanistan      272  Badakhshan     266  Fayzabad     55   \n",
       "4        1  Afghanistan      272  Badakhshan     266  Fayzabad     55   \n",
       "\n",
       "          cm_name  cur_id cur_name  pt_id pt_name  um_id um_name  mp_month  \\\n",
       "0  Bread - Retail       0      AFN     15  Retail      5      KG         1   \n",
       "1  Bread - Retail       0      AFN     15  Retail      5      KG         2   \n",
       "2  Bread - Retail       0      AFN     15  Retail      5      KG         3   \n",
       "3  Bread - Retail       0      AFN     15  Retail      5      KG         4   \n",
       "4  Bread - Retail       0      AFN     15  Retail      5      KG         5   \n",
       "\n",
       "   mp_year  mp_price  mp_commoditysource  conversion_rate  \n",
       "0     2014      50.0                 NaN             91.3  \n",
       "1     2014      50.0                 NaN             91.3  \n",
       "2     2014      50.0                 NaN             91.3  \n",
       "3     2014      50.0                 NaN             91.3  \n",
       "4     2014      50.0                 NaN             91.3  "
      ]
     },
     "execution_count": 22,
     "metadata": {},
     "output_type": "execute_result"
    }
   ],
   "source": [
    "output3.head(5)"
   ]
  },
  {
   "cell_type": "code",
   "execution_count": 23,
   "metadata": {},
   "outputs": [],
   "source": [
    "output3.to_csv('/Users/narenkhatwani/Desktop/Resources/Final_csv_cleaned/global_food_clean.csv', index=False)"
   ]
  },
  {
   "cell_type": "code",
   "execution_count": 24,
   "metadata": {},
   "outputs": [
    {
     "name": "stdout",
     "output_type": "stream",
     "text": [
      "Ignoring column adm0_name because dtype \"object\" has no HDF5 equivalent.\n",
      "Ignoring column adm1_name because dtype \"object\" has no HDF5 equivalent.\n",
      "Ignoring column mkt_name because dtype \"object\" has no HDF5 equivalent.\n",
      "Ignoring column cm_name because dtype \"object\" has no HDF5 equivalent.\n",
      "Ignoring column cur_name because dtype \"object\" has no HDF5 equivalent.\n",
      "Ignoring column pt_name because dtype \"object\" has no HDF5 equivalent.\n",
      "Ignoring column um_name because dtype \"object\" has no HDF5 equivalent.\n",
      "Columns to be extracted:\n",
      "<class 'pandas.core.frame.DataFrame'>\n",
      "RangeIndex: 1000 entries, 0 to 999\n",
      "Data columns (total 12 columns):\n",
      " #   Column              Non-Null Count  Dtype  \n",
      "---  ------              --------------  -----  \n",
      " 0   adm0_id             1000 non-null   int64  \n",
      " 1   adm1_id             1000 non-null   int64  \n",
      " 2   mkt_id              1000 non-null   int64  \n",
      " 3   cm_id               1000 non-null   int64  \n",
      " 4   cur_id              1000 non-null   int64  \n",
      " 5   pt_id               1000 non-null   int64  \n",
      " 6   um_id               1000 non-null   int64  \n",
      " 7   mp_month            1000 non-null   int64  \n",
      " 8   mp_year             1000 non-null   int64  \n",
      " 9   mp_price            1000 non-null   float64\n",
      " 10  mp_commoditysource  0 non-null      float64\n",
      " 11  conversion_rate     1000 non-null   float64\n",
      "dtypes: float64(3), int64(9)\n",
      "memory usage: 93.9 KB\n",
      "None\n",
      "100%|█████████████████████████████████████████████| 1/1 [00:00<00:00,  2.30it/s]\n"
     ]
    }
   ],
   "source": [
    "!python3 /Users/narenkhatwani/Documents/GitHub/arkouda/converter/csv2hdf.py \\\n",
    "--formats-file=/Users/narenkhatwani/Desktop/Resources/formatter_file/formatter_file.py\\\n",
    "--format=yellow \\\n",
    "--outdir=/Users/narenkhatwani/Desktop/Resources/Csv_final_pruned_merged\\\n",
    "/Users/narenkhatwani/Desktop/Resources/Final_csv_cleaned/global_food_clean.csv"
   ]
  },
  {
   "cell_type": "markdown",
   "metadata": {},
   "source": [
    "## 2.4 Countries IDs and mapping Data for later use"
   ]
  },
  {
   "cell_type": "code",
   "execution_count": 25,
   "metadata": {},
   "outputs": [
    {
     "name": "stderr",
     "output_type": "stream",
     "text": [
      "/Users/narenkhatwani/opt/anaconda3/lib/python3.8/site-packages/IPython/core/interactiveshell.py:3071: DtypeWarning: Columns (3) have mixed types.Specify dtype option on import or set low_memory=False.\n",
      "  has_raised = await self.run_ast_nodes(code_ast.body, cell_name,\n"
     ]
    },
    {
     "name": "stdout",
     "output_type": "stream",
     "text": [
      "{1: 'Afghanistan', 4: 'Algeria', 8: 'Angola', 12: 'Argentina', 13: 'Armenia', 19: 'Azerbaijan', 23: 'Bangladesh', 115: 'Bassas da India', 26: 'Belarus', 29: 'Benin', 31: 'Bhutan', 33: 'Bolivia', 42: 'Burkina Faso', 43: 'Burundi', 44: 'Cambodia', 45: 'Cameroon', 47: 'Cape Verde', 49: 'Central African Republic', 50: 'Chad', 52: 'China', 57: 'Colombia', 59: 'Congo', 61: 'Costa Rica', 66: \"Cote d'Ivoire\", 68: 'Democratic Republic of the Congo', 70: 'Djibouti', 72: 'Dominican Republic', 73: 'Ecuador', 40765: 'Egypt', 75: 'El Salvador', 77: 'Eritrea', 79: 'Ethiopia', 89: 'Gabon', 90: 'Gambia', 92: 'Georgia', 94: 'Ghana', 103: 'Guatemala', 106: 'Guinea', 105: 'Guinea-Bissau', 108: 'Haiti', 111: 'Honduras', 116: 'Indonesia', 117: 'Iran  (Islamic Republic of)', 118: 'Iraq', 126: 'Japan', 130: 'Jordan', 132: 'Kazakhstan', 133: 'Kenya', 138: 'Kyrgyzstan', 139: \"Lao People's Democratic Republic\", 141: 'Lebanon', 142: 'Lesotho', 144: 'Liberia', 145: 'Libya', 150: 'Madagascar', 152: 'Malawi'}\n"
     ]
    }
   ],
   "source": [
    "countries_df=pd.read_csv(\"/Users/narenkhatwani/Desktop/Resources/CSV_files/utf8/wfpvam_foodprices_utf8.csv\")\n",
    "\n",
    "market_names_dictionary=pd.Series(countries_df.adm0_name.values,index=countries_df.adm0_id).to_dict()\n",
    "\n",
    "print(market_names_dictionary)"
   ]
  },
  {
   "cell_type": "code",
   "execution_count": 26,
   "metadata": {},
   "outputs": [],
   "source": [
    "#creating a dataframe\n",
    "df_country_ids = pd.DataFrame()\n",
    "#giving column names in the dataframe to the dictionary key-values\n",
    "df_country_ids['adm0_id'] = market_names_dictionary.keys()\n",
    "df_country_ids['adm0_name'] = market_names_dictionary.values()"
   ]
  },
  {
   "cell_type": "code",
   "execution_count": 27,
   "metadata": {},
   "outputs": [
    {
     "data": {
      "text/html": [
       "<div>\n",
       "<style scoped>\n",
       "    .dataframe tbody tr th:only-of-type {\n",
       "        vertical-align: middle;\n",
       "    }\n",
       "\n",
       "    .dataframe tbody tr th {\n",
       "        vertical-align: top;\n",
       "    }\n",
       "\n",
       "    .dataframe thead th {\n",
       "        text-align: right;\n",
       "    }\n",
       "</style>\n",
       "<table border=\"1\" class=\"dataframe\">\n",
       "  <thead>\n",
       "    <tr style=\"text-align: right;\">\n",
       "      <th></th>\n",
       "      <th>adm0_id</th>\n",
       "      <th>adm0_name</th>\n",
       "    </tr>\n",
       "  </thead>\n",
       "  <tbody>\n",
       "    <tr>\n",
       "      <th>0</th>\n",
       "      <td>1</td>\n",
       "      <td>Afghanistan</td>\n",
       "    </tr>\n",
       "    <tr>\n",
       "      <th>1</th>\n",
       "      <td>4</td>\n",
       "      <td>Algeria</td>\n",
       "    </tr>\n",
       "    <tr>\n",
       "      <th>2</th>\n",
       "      <td>8</td>\n",
       "      <td>Angola</td>\n",
       "    </tr>\n",
       "    <tr>\n",
       "      <th>3</th>\n",
       "      <td>12</td>\n",
       "      <td>Argentina</td>\n",
       "    </tr>\n",
       "    <tr>\n",
       "      <th>4</th>\n",
       "      <td>13</td>\n",
       "      <td>Armenia</td>\n",
       "    </tr>\n",
       "    <tr>\n",
       "      <th>5</th>\n",
       "      <td>19</td>\n",
       "      <td>Azerbaijan</td>\n",
       "    </tr>\n",
       "    <tr>\n",
       "      <th>6</th>\n",
       "      <td>23</td>\n",
       "      <td>Bangladesh</td>\n",
       "    </tr>\n",
       "    <tr>\n",
       "      <th>7</th>\n",
       "      <td>115</td>\n",
       "      <td>Bassas da India</td>\n",
       "    </tr>\n",
       "    <tr>\n",
       "      <th>8</th>\n",
       "      <td>26</td>\n",
       "      <td>Belarus</td>\n",
       "    </tr>\n",
       "    <tr>\n",
       "      <th>9</th>\n",
       "      <td>29</td>\n",
       "      <td>Benin</td>\n",
       "    </tr>\n",
       "  </tbody>\n",
       "</table>\n",
       "</div>"
      ],
      "text/plain": [
       "   adm0_id        adm0_name\n",
       "0        1      Afghanistan\n",
       "1        4          Algeria\n",
       "2        8           Angola\n",
       "3       12        Argentina\n",
       "4       13          Armenia\n",
       "5       19       Azerbaijan\n",
       "6       23       Bangladesh\n",
       "7      115  Bassas da India\n",
       "8       26          Belarus\n",
       "9       29            Benin"
      ]
     },
     "execution_count": 27,
     "metadata": {},
     "output_type": "execute_result"
    }
   ],
   "source": [
    "df_country_ids.head(10)"
   ]
  },
  {
   "cell_type": "code",
   "execution_count": 28,
   "metadata": {},
   "outputs": [
    {
     "data": {
      "text/html": [
       "<div>\n",
       "<style scoped>\n",
       "    .dataframe tbody tr th:only-of-type {\n",
       "        vertical-align: middle;\n",
       "    }\n",
       "\n",
       "    .dataframe tbody tr th {\n",
       "        vertical-align: top;\n",
       "    }\n",
       "\n",
       "    .dataframe thead th {\n",
       "        text-align: right;\n",
       "    }\n",
       "</style>\n",
       "<table border=\"1\" class=\"dataframe\">\n",
       "  <thead>\n",
       "    <tr style=\"text-align: right;\">\n",
       "      <th></th>\n",
       "      <th>adm0_id</th>\n",
       "      <th>adm0_name</th>\n",
       "    </tr>\n",
       "  </thead>\n",
       "  <tbody>\n",
       "    <tr>\n",
       "      <th>0</th>\n",
       "      <td>1</td>\n",
       "      <td>Afghanistan</td>\n",
       "    </tr>\n",
       "    <tr>\n",
       "      <th>1</th>\n",
       "      <td>4</td>\n",
       "      <td>Algeria</td>\n",
       "    </tr>\n",
       "    <tr>\n",
       "      <th>2</th>\n",
       "      <td>8</td>\n",
       "      <td>Angola</td>\n",
       "    </tr>\n",
       "    <tr>\n",
       "      <th>3</th>\n",
       "      <td>12</td>\n",
       "      <td>Argentina</td>\n",
       "    </tr>\n",
       "    <tr>\n",
       "      <th>4</th>\n",
       "      <td>13</td>\n",
       "      <td>Armenia</td>\n",
       "    </tr>\n",
       "  </tbody>\n",
       "</table>\n",
       "</div>"
      ],
      "text/plain": [
       "   adm0_id    adm0_name\n",
       "0        1  Afghanistan\n",
       "1        4      Algeria\n",
       "2        8       Angola\n",
       "3       12    Argentina\n",
       "4       13      Armenia"
      ]
     },
     "execution_count": 28,
     "metadata": {},
     "output_type": "execute_result"
    }
   ],
   "source": [
    "df_country_ids_sorted=df_country_ids.sort_values([\"adm0_id\", \"adm0_name\"], ascending=True)\n",
    "df_country_ids_sorted.head(5)"
   ]
  },
  {
   "cell_type": "markdown",
   "metadata": {},
   "source": [
    "## 2.5 Food item Mapping"
   ]
  },
  {
   "cell_type": "code",
   "execution_count": 29,
   "metadata": {},
   "outputs": [
    {
     "name": "stderr",
     "output_type": "stream",
     "text": [
      "/Users/narenkhatwani/opt/anaconda3/lib/python3.8/site-packages/IPython/core/interactiveshell.py:3071: DtypeWarning: Columns (3) have mixed types.Specify dtype option on import or set low_memory=False.\n",
      "  has_raised = await self.run_ast_nodes(code_ast.body, cell_name,\n"
     ]
    }
   ],
   "source": [
    "#as arkouda can only deal with numerical data, when we take out a pandas dataframe for analysis this will help us join the content with the dataframe\n",
    "food_item_df=pd.read_csv(\"/Users/narenkhatwani/Desktop/Resources/CSV_files/utf8/wfpvam_foodprices_utf8.csv\")"
   ]
  },
  {
   "cell_type": "code",
   "execution_count": 30,
   "metadata": {},
   "outputs": [
    {
     "name": "stdout",
     "output_type": "stream",
     "text": [
      "{55: 'Bread - Retail', 84: 'Wheat - Retail', 145: 'Rice (low quality) - Retail', 274: 'Wage (qualified labour) - Retail', 275: 'Livestock (sheep, one-year-old alive female) - Retail', 284: 'Fuel (diesel) - Retail', 305: 'Exchange rate - Retail', 465: 'Wage (non-qualified labour, non-agricultural) - Retail', 82: 'Oil (cooking) - Wholesale', 97: 'Sugar - Retail', 163: 'Pulses - Retail', 178: 'Wheat flour (high quality) - Retail', 185: 'Salt - Retail', 247: 'Rice (high quality) - Retail', 800: 'Wheat flour (low quality) - Retail', 58: 'Wheat flour - Retail', 52: 'Rice - Retail', 66: 'Beans (white) - Retail', 81: 'Milk - Retail', 83: 'Potatoes - Retail', 92: 'Eggs - Retail', 94: 'Meat (chicken) - Retail', 108: 'Lentils - Retail', 112: 'Pasta - Retail', 114: 'Tomatoes - Retail', 137: 'Oil - Retail', 141: 'Meat (beef) - Retail', 142: 'Cheese (dry) - Wholesale', 166: 'Carrots - Retail', 173: 'Onions - Retail', 254: 'Bananas - Retail', 281: 'Tea - Retail', 285: 'Fuel (petrol-gasoline) - Retail', 343: 'Fish (canned) - Retail', 345: 'Apples - Retail', 360: 'Oranges - Retail', 342: 'Milk (camel) - Retail', 344: 'Meat (camel) - Retail', 357: 'Tea (sahm) - Retail', 62: 'Oil (palm) - Retail', 74: 'Cassava flour - Retail', 76: 'Maize flour - Retail', 80: 'Rice (regular, milled) - Retail', 238: 'Milk (powder) - Retail', 306: 'Oil (soybean) - Retail', 349: 'Sugar (white) - Retail', 334: 'Salt (iodised) - Retail', 400: 'Rice (white, imported) - Retail', 517: 'Maize meal (yellow) - Retail', 518: 'Fish (mackerel, dry) - Retail', 519: 'Beans (kidney, pinto) - Retail', 133: 'Rice (white) - Wholesale', 136: 'Maize (yellow) - Wholesale', 50: 'Beans - Retail', 96: 'Oil (vegetable) - Retail', 102: 'Milk (non-pasteurized) - Retail', 140: 'Meat (pork) - Retail', 161: 'Peas (split, dry) - Retail', 181: 'Cabbage - Retail', 229: 'Apples (red) - Retail', 233: 'Cucumbers (greenhouse) - Retail', 317: 'Tomatoes (paste) - Retail', 370: 'Beetroots - Retail', 401: 'Fish (fresh) - Retail', 459: 'Bread (high grade flour) - Retail', 460: 'Bread (first grade flour) - Retail', 669: 'Buckwheat - Retail', 283: 'Fuel (kerosene) - Retail', 60: 'Rice (coarse) - Retail', 61: 'Lentils (masur) - Retail', 131: 'Rice (medium grain) - Retail', 588: 'Rice (coarse, BR-8/ 11/, Guti Sharna) - Retail', 589: 'Rice (coarse, Guti Sharna) - Retail', 175: 'Tea (black) - Retail', 184: 'Oil (sunflower) - Retail', 228: 'Oil (mustard) - Retail', 245: 'Oil (groundnut) - Retail', 325: 'Lentils (moong) - Retail', 331: 'Sugar (jaggery/gur) - Retail', 332: 'Lentils (urad) - Retail', 333: 'Ghee (vanaspati) - Retail', 463: 'Milk (pasteurized) - Retail', 244: 'Chickpeas - Retail', 51: 'Maize - Retail', 64: 'Rice (imported) - Retail', 65: 'Sorghum - Retail', 67: 'Maize (white) - Retail', 71: 'Rice (local) - Retail', 73: 'Millet - Retail', 87: 'Sweet potatoes - Retail', 99: 'Yam - Retail', 147: 'Plantains - Wholesale', 212: 'Peas (green, dry) - Retail', 248: 'Soybeans - Retail', 282: 'Sorghum (red) - Retail', 302: 'Cassava (cossette) - Retail', 315: 'Lemons - Retail', 339: 'Wheat flour (imported) - Retail', 403: 'Cassava meal (gari) - Retail', 405: 'Fish (tilapia) - Retail', 408: 'Papaya - Retail', 523: 'Okra (fresh) - Retail', 532: 'Groundnuts (Bambara) - Retail', 534: 'Peppers (red, dry) - Retail', 557: 'Groundnuts (small, unshelled) - Retail', 558: 'Cassava meal (tapioca) - Retail', 559: 'Coconut (dried) - Retail', 560: 'Yam (white) - Retail', 561: 'Fish (fresh, silvi) - Retail', 759: 'Oil (palm nut) - Retail', 761: 'Cassava meal (gari, fine) - Retail', 762: 'Yam (dry) - Retail', 764: 'Yam (flour) - Retail', 78: 'Beans (red) - Wholesale', 85: 'Beans (black) - Retail', 203: 'Rice (paddy) - Producer', 291: 'Cassava (fresh) - Retail', 763: 'Yam (yellow) - Retail', 765: 'Leafy vegetables - Retail', 760: 'Shrimps - Retail', 598: 'Taro - Retail', 721: 'Snail - Retail', 251: 'Rice (imported, Indian) - Retail', 595: 'Rice (red) - Retail', 123: 'Meat (beef, chops with bones) - Wholesale', 125: 'Meat (chicken, whole) - Retail', 126: 'Noodles (short) - Wholesale', 128: 'Potatoes (Irish, imilla) - Retail', 130: 'Rice (estaquilla) - Retail', 375: 'Bread (wheat) - Retail', 129: 'Rice (carolina 2da) - Retail', 144: 'Potatoes (black) - Wholesale', 162: 'Rice (long grain) - Wholesale', 179: 'Wheat flour (local) - Wholesale', 197: 'Rice (ordinary, first quality) - Retail', 198: 'Rice (ordinary, second quality) - Retail', 578: 'Quinoa - Wholesale', 127: 'Potatoes (Dutch) - Retail', 436: 'Rice (good quality) - Retail', 582: 'Rice (Grano de Oro) - Retail', 587: 'Rice (carolina, 1st) - Retail', 118: 'Groundnuts (unshelled) - Retail', 120: 'Beans (niebe) - Retail', 135: 'Sorghum (white) - Wholesale', 119: 'Groundnuts (shelled) - Retail', 511: 'Sorghum (local) - Wholesale', 148: 'Potatoes (Irish) - Retail', 425: 'Rice (high quality, local) - Retail', 426: 'Rice (low quality, local) - Retail', 451: 'Meat (goat) - Retail', 454: 'Avocados - Retail', 555: 'Fish (lates,dry,local) - Retail', 556: 'Fish (lates,dry,imported) - Retail', 381: 'Rice (imported, Tanzanian) - Retail', 165: 'Rice (mixed, low quality) - Retail', 277: 'Wage (non-qualified labour) - Retail', 309: 'Fish (snake head) - Retail', 310: 'Fish (catfish) - Retail', 329: 'Meat (pork, with fat) - Retail', 434: 'Eggplants - Retail', 675: 'Snake gourd - Retail', 784: 'Cabbage (chinese, flowering) - Retail', 785: 'Fish (snake head, dry) - Retail', 786: 'Eggs (duck) - Retail', 787: 'Beans (yardlong, green) - Retail', 788: 'Water spinach - Retail', 789: 'Eggs (duck, fermented) - Retail', 790: 'Fish (striped catfish) - Retail', 791: 'Wax gourd - Retail', 577: 'Prawn - Wholesale', 68: 'Cassava - Retail', 171: 'Fish (dry) - Retail', 172: 'Oil (cotton) - Retail', 182: 'Chicken - Retail', 225: 'Rice (long grain, imported) - Retail', 486: 'Fish (frozen) - Retail', 866: 'Cocoyam (macabo) - Retail', 156: 'Sesame - Retail', 886: 'Cowpeas (Red) - Wholesale', 186: 'Peas (yellow) - Retail', 56: 'Maize (local) - Retail', 158: 'Maize (imported) - Retail', 340: 'Squashes - Retail', 341: 'Fuel (gas) - Retail', 101: 'Oil (vegetable, imported) - Retail', 207: 'Meat (chicken, frozen) - Retail', 321: 'Fish (sardine, canned) - Retail', 438: 'Rice (broken, imported) - Retail', 446: 'Charcoal - Retail', 489: 'Water (drinking) - Retail', 540: 'Laundry soap - Retail', 543: 'Laundry detergent - Retail', 551: 'Pasta (spaghetti) - Retail', 139: 'Fish - Retail', 153: 'Groundnuts - Retail', 300: 'Fish (smoked) - Retail', 458: 'Beans (green, fresh) - Wholesale', 575: 'Meat (antelope, smoked) - Retail', 576: 'Meat (gazelle, smoked) - Retail', 477: 'Livestock (goat, medium-sized castrated male) - Retail', 287: 'Livestock (cattle) - Retail', 476: 'Livestock (sheep, medium-sized castrated male) - Retail', 478: 'Sorghum (berbere) - Retail', 174: 'Peanut - Wholesale', 583: 'Rice (Indica) - Wholesale', 584: 'Rice (Japonica) - Wholesale', 177: 'Wheat flour (first grade) - Retail', 105: 'Garlic - Retail', 110: 'Onions (red) - Retail', 111: 'Onions (white) - Wholesale', 150: 'Cocoa - Retail', 151: 'Coffee - Retail', 208: 'Chickpeas (imported) - Wholesale', 209: 'Coffee (instant) - Retail', 210: 'Eggs (white, AA) - Wholesale', 211: 'Meat (beef, minced) - Wholesale', 214: 'Sugar (brown) - Retail', 215: 'Sugar (brown, loaf) - Wholesale', 231: 'Cauliflower - Wholesale', 241: 'Oranges (big size) - Retail', 268: 'Beans (red, fresh) - Wholesale', 290: 'Cassava (dry) - Retail', 314: 'Cheese (local) - Retail', 322: 'Fish (tuna, canned) - Retail', 324: 'Onions (local) - Retail', 346: 'Tomatoes (local) - Retail', 404: 'Spinach - Retail', 406: 'Beans (string) - Wholesale', 409: 'Blackberry - Wholesale', 410: 'Broccoli - Wholesale', 411: 'Mangoes - Retail', 412: 'Pumpkin - Retail', 413: 'Tomatoes (dried) - Wholesale', 414: 'Cheese - Retail', 415: 'Lentils (imported) - Wholesale', 430: 'Eggs (local) - Wholesale', 456: 'Peas (fresh) - Wholesale', 533: 'Peppers (red) - Retail', 548: 'Meat (chicken, whole, frozen) - Retail', 568: 'Beans (cranberry) - Wholesale', 213: 'Potatoes (unica) - Wholesale', 407: 'Guava - Retail', 567: 'Beans (black, imported) - Wholesale', 447: 'Passion fruit - Wholesale', 307: 'Barley - Retail', 301: 'Fish (salted) - Retail', 351: 'Groundnuts (paste) - Retail', 260: 'Cassava meal (foufou) - Retail', 86: 'Rice (milled 80-20) - Wholesale', 70: 'Rice (denikassia, imported) - Retail', 72: 'Yam (florido) - Retail', 167: 'Cashew nut - Retail', 169: 'Cornstarch - Retail', 170: 'Fish (appolo) - Retail', 488: 'Cotton - Retail', 503: 'Cassava meal (attieke) - Retail', 54: 'Maize meal - Retail', 236: 'Meat (goat, with bones) - Retail', 303: 'Cassava (chikwangue) - Retail', 304: 'Transport (public) - Retail', 692: 'Transport (public, moto) - Retail', 574: 'Maize meal (imported) - Retail', 693: 'Transport (public, bus) - Retail', 77: 'Maize flour (imported) - Retail', 218: 'Cowpeas - Retail', 122: 'Rice (basmati, broken) - Retail', 580: 'Rice (Belem) - Wholesale', 222: 'Oil (vegetable, local) - Wholesale', 243: 'Tomatoes (greenhouse) - Wholesale', 318: 'Lettuce - Retail', 380: 'Rice (short grain, low quality, local) - Wholesale', 388: 'Cucumbers - Retail', 440: 'Maize (white, dry) - Wholesale', 504: 'Onions (white, dry) - Wholesale', 524: 'Pineapples - Wholesale', 713: 'Peppers (fresh) - Retail', 716: 'Watermelons - Retail', 723: 'Oat flakes - Wholesale', 724: 'Beans (pod) - Wholesale', 725: 'Onions (red, dry) - Wholesale', 726: 'Potatoes (super chola) - Wholesale', 727: 'Strawberries - Wholesale', 728: 'Melons (cantaloupe) - Wholesale', 729: 'Naranjilla (hybrid) - Wholesale', 730: 'Plantains (barraganete, mature) - Wholesale', 731: 'Plantains (barraganete, green) - Wholesale', 732: 'Plantains (dominico, mature) - Wholesale', 733: 'Plantains (dominico, green) - Wholesale', 734: 'Tree tomatoes - Wholesale', 735: 'Grapes (black) - Wholesale', 736: 'Grapes (pink) - Wholesale', 262: 'Beans (dry) - Retail', 599: 'Wheat (imported) - Wholesale', 106: 'Ghee (artificial) - Retail', 107: 'Ghee (natural) - Retail', 319: 'Cheese (picon) - Retail', 362: 'Oil (maize) - Retail', 385: 'Beans (fava, dry) - Retail', 395: 'Oil (mixed) - Retail', 468: 'Meat (beef, without bones) - Retail', 79: 'Beans (silk red) - Wholesale', 104: 'Beans (fava) - Retail', 276: 'Wage (casual labour) - Retail', 308: 'Teff - Wholesale', 473: 'Exchange rate (unofficial) - Retail', 766: 'Wheat (white) - Retail', 767: 'Teff (white) - Retail', 768: 'Barley (white) - Wholesale', 769: 'Teff (red) - Retail', 771: 'Lin seed - Wholesale', 773: 'Sorghum (mixed) - Wholesale', 774: 'Niger seed - Wholesale', 775: 'Rape seed - Wholesale', 779: 'Teff (Sergegna) - Retail', 780: 'Peas (mixed) - Wholesale', 383: 'Livestock (Goat) - Retail', 390: 'Livestock (Sheep) - Retail', 814: 'Livestock (donkey) - Retail', 671: 'Livestock (camel) - Retail', 673: 'Pasta (macaroni) - Retail', 778: 'Teff (mixed) - Retail', 810: 'Butter (cow milk) - Retail', 811: 'Butter (goat milk) - Retail', 610: 'Peas - Retail', 816: 'Livestock (ox) - Retail', 109: 'Meat - Retail', 292: 'Peppers (green) - Retail', 796: 'Kale - Retail', 839: 'Swiss chard - Retail', 776: 'Beans (haricot, white) - Wholesale', 770: 'Wheat (mixed) - Wholesale', 772: 'Barley (mixed) - Wholesale', 393: 'Beans (mung) - Retail', 353: 'Millet (finger) - Retail', 392: 'Beans (haricot) - Retail', 813: 'Livestock (bull) - Retail', 812: 'Honey - Retail', 777: 'Beans (haricot, red) - Wholesale', 382: 'Corn Soy Blend (CSB++, food aid) - Retail', 781: 'Wheat (food aid) - Retail', 782: 'Kocho - Retail', 514: 'Maize (food aid) - Retail', 249: 'Sorghum (food aid) - Retail', 100: 'Fonio - Retail', 117: 'Rice (paddy, long grain, local) - Retail', 152: 'Fish (bonga) - Retail', 176: 'Tea (green) - Retail', 183: 'Meat (mutton) - Retail', 226: 'Rice (medium grain, imported) - Retail', 227: 'Rice (small grain, imported) - Retail', 313: 'Dates - Retail', 320: 'Meat (beef, canned) - Retail', 364: 'Yogurt - Retail', 372: 'Butter - Retail', 455: 'Cassava leaves - Retail', 464: 'Meat (sheep) - Retail', 502: 'Cocoa (powder) - Retail', 63: 'Gari - Retail', 98: 'Plantains (apentu) - Retail', 479: 'Cowpeas (white) - Wholesale', 705: 'Plantains (apem) - Retail', 710: 'Tomatoes (navrongo) - Retail', 714: 'Peppers (dried) - Retail', 737: 'Yam (puna) - Retail', 744: 'Fish (mackerel, fresh) - Retail', 792: 'Meat (chicken, local) - Retail', 269: 'Tortilla (maize) - Retail', 323: 'Onions (imported) - Retail', 466: 'Chili (red, dry raw) - Retail', 490: 'Beans (niebe, white) - Retail', 188: 'Meat (beef, second quality) - Retail', 328: 'Fuel (Super Petrol) - Retail', 429: 'Meat (chicken, frozen, imported) - Retail', 541: 'Handwash soap - Retail', 680: 'Fish (goldstripe sardinella) - Retail', 707: 'Bananas (local) - Retail', 801: 'Fish (barbel, sole) - Retail', 802: 'Fish (mullet, catfish) - Retail', 804: 'Firewood - Retail', 805: 'Candles (small)  - Retail', 806: 'Candles (big)  - Retail', 807: 'Batteries (small) - Retail', 808: 'Batteries (big) - Retail', 876: 'Meat (sheep, second quality) - Retail', 877: 'Cashew fruit - Retail', 192: 'Meat (pork, first quality) - Retail', 193: 'Meat (pork, second quality) - Retail', 803: 'Bananas (imported) - Retail', 57: 'Rice (tchako) - Retail', 471: 'Maize meal (local) - Retail', 134: 'Maize flour (white) - Wholesale', 89: 'Meat (chicken, broiler) - Retail', 91: 'Chili (red) - Retail', 95: 'Milk (condensed) - Retail', 604: \"Chili (bird's eye) - Retail\", 674: 'Onions (shallot) - Retail', 746: \"Chili (bird's eye, green) - Retail\", 748: 'Chili (red, curly) - Retail', 750: 'Eggs (broiler) - Retail', 751: 'Garlic (medium) - Retail', 753: 'Rice (medium quality) - Retail', 754: 'Sugar (local) - Retail', 755: 'Sugar (premium) - Retail', 756: 'Oil (vegetable, bulk) - Retail', 757: 'Oil (vegetable, packaged) - Retail', 783: 'Onions (shallot, medium) - Retail', 187: 'Meat (beef, first quality) - Retail', 749: 'Chili (red, large) - Retail', 747: \"Chili (bird's eye, red) - Retail\", 259: 'Bread (khoboz) - Retail', 258: 'Bulgur - Retail', 386: 'Meat (lamb) - Retail', 537: 'Toothbrush - Retail', 538: 'Sanitary pads - Retail', 539: 'Toothpaste - Retail', 545: 'Shampoo - Retail', 722: 'Disinfecting solution - Retail', 196: 'Rice (glutinous, unmilled) - Retail', 579: 'Radish - Retail', 239: 'Oil (olive) - Retail', 384: 'Bread (pita) - Retail', 387: 'Cheese (white, boiled) - Retail', 793: 'Cooking fat - Retail', 794: 'Milk (UHT) - Retail', 439: 'Milk (cow, fresh) - Retail', 817: 'Milk (camel, fresh) - Retail', 472: 'Milk (cow, pasteurized) - Retail', 373: 'Buckwheat grits - Retail', 597: 'Semolina - Retail', 605: 'Kefir - Retail', 606: 'Cheese (fat) - Retail', 607: 'Cheese (low-fat) - Retail', 608: 'Apples (dried) - Retail', 609: 'Walnuts - Retail', 389: 'Beans (kidney white) - Retail', 189: 'Meat (buffalo, first quality) - Retail', 190: 'Meat (buffalo, second quality) - Retail', 194: 'Rice (glutinous, first quality) - Retail', 195: 'Rice (glutinous, second quality) - Retail', 199: 'Rice (ordinary, unmilled) - Retail', 289: 'Garlic (small) - Retail', 311: 'Fish (tilapia, farmed) - Retail', 316: 'Rice (imported, Egyptian) - Retail', 547: 'Bulgur (brown) - Retail', 549: 'Lentils (green) - Retail', 550: 'Lentils (red) - Retail', 552: 'Lentils (brown) - Retail', 554: 'Fuel (petrol-gasoline, 95 octane) - Retail', 159: 'Bread (brown) - Retail', 354: 'Beans (sugar-red) - Retail', 603: 'Wheat meal - Retail', 467: 'Wage (non-qualified labour, agricultural) - Retail', 701: 'Cane juice (strong) - Retail', 703: 'Bitterball - Retail', 702: 'Cane juice (light) - Retail', 90: 'Chili (green) - Retail', 442: 'Milk (powder, infant formula) - Retail', 535: 'Diapers - Retail', 536: 'Dishwashing liquid - Retail', 542: 'Couscous - Retail', 871: 'Maize (crushed) - Retail', 155: 'Pigeon peas - Retail'}\n"
     ]
    }
   ],
   "source": [
    "#converting the unique values to a dictionary for further join function\n",
    "food_names_dictionary=pd.Series(food_item_df.cm_name.values,index=food_item_df.cm_id).to_dict()\n",
    "print(food_names_dictionary)"
   ]
  },
  {
   "cell_type": "code",
   "execution_count": 31,
   "metadata": {},
   "outputs": [],
   "source": [
    "#creating a dataframe\n",
    "df_food_ids = pd.DataFrame()\n",
    "#giving column names in the dataframe to the dictionary key-values\n",
    "df_food_ids['cm_id'] = food_names_dictionary.keys()\n",
    "df_food_ids['cm_name'] = food_names_dictionary.values()"
   ]
  },
  {
   "cell_type": "code",
   "execution_count": 32,
   "metadata": {},
   "outputs": [
    {
     "data": {
      "text/html": [
       "<div>\n",
       "<style scoped>\n",
       "    .dataframe tbody tr th:only-of-type {\n",
       "        vertical-align: middle;\n",
       "    }\n",
       "\n",
       "    .dataframe tbody tr th {\n",
       "        vertical-align: top;\n",
       "    }\n",
       "\n",
       "    .dataframe thead th {\n",
       "        text-align: right;\n",
       "    }\n",
       "</style>\n",
       "<table border=\"1\" class=\"dataframe\">\n",
       "  <thead>\n",
       "    <tr style=\"text-align: right;\">\n",
       "      <th></th>\n",
       "      <th>cm_id</th>\n",
       "      <th>cm_name</th>\n",
       "    </tr>\n",
       "  </thead>\n",
       "  <tbody>\n",
       "    <tr>\n",
       "      <th>0</th>\n",
       "      <td>55</td>\n",
       "      <td>Bread - Retail</td>\n",
       "    </tr>\n",
       "    <tr>\n",
       "      <th>1</th>\n",
       "      <td>84</td>\n",
       "      <td>Wheat - Retail</td>\n",
       "    </tr>\n",
       "    <tr>\n",
       "      <th>2</th>\n",
       "      <td>145</td>\n",
       "      <td>Rice (low quality) - Retail</td>\n",
       "    </tr>\n",
       "    <tr>\n",
       "      <th>3</th>\n",
       "      <td>274</td>\n",
       "      <td>Wage (qualified labour) - Retail</td>\n",
       "    </tr>\n",
       "    <tr>\n",
       "      <th>4</th>\n",
       "      <td>275</td>\n",
       "      <td>Livestock (sheep, one-year-old alive female) -...</td>\n",
       "    </tr>\n",
       "    <tr>\n",
       "      <th>5</th>\n",
       "      <td>284</td>\n",
       "      <td>Fuel (diesel) - Retail</td>\n",
       "    </tr>\n",
       "    <tr>\n",
       "      <th>6</th>\n",
       "      <td>305</td>\n",
       "      <td>Exchange rate - Retail</td>\n",
       "    </tr>\n",
       "    <tr>\n",
       "      <th>7</th>\n",
       "      <td>465</td>\n",
       "      <td>Wage (non-qualified labour, non-agricultural) ...</td>\n",
       "    </tr>\n",
       "    <tr>\n",
       "      <th>8</th>\n",
       "      <td>82</td>\n",
       "      <td>Oil (cooking) - Wholesale</td>\n",
       "    </tr>\n",
       "    <tr>\n",
       "      <th>9</th>\n",
       "      <td>97</td>\n",
       "      <td>Sugar - Retail</td>\n",
       "    </tr>\n",
       "  </tbody>\n",
       "</table>\n",
       "</div>"
      ],
      "text/plain": [
       "   cm_id                                            cm_name\n",
       "0     55                                     Bread - Retail\n",
       "1     84                                     Wheat - Retail\n",
       "2    145                        Rice (low quality) - Retail\n",
       "3    274                   Wage (qualified labour) - Retail\n",
       "4    275  Livestock (sheep, one-year-old alive female) -...\n",
       "5    284                             Fuel (diesel) - Retail\n",
       "6    305                             Exchange rate - Retail\n",
       "7    465  Wage (non-qualified labour, non-agricultural) ...\n",
       "8     82                          Oil (cooking) - Wholesale\n",
       "9     97                                     Sugar - Retail"
      ]
     },
     "execution_count": 32,
     "metadata": {},
     "output_type": "execute_result"
    }
   ],
   "source": [
    "#verifying the dataframe\n",
    "df_food_ids.head(10)"
   ]
  },
  {
   "cell_type": "markdown",
   "metadata": {},
   "source": [
    "# Analysis using Arkouda"
   ]
  },
  {
   "cell_type": "code",
   "execution_count": 33,
   "metadata": {},
   "outputs": [],
   "source": [
    "#reading the hdf5 file\n",
    "green_from_HDF5 = ak.read_all('/Users/narenkhatwani/Desktop/Resources/Csv_final_pruned_merged/global_food_clean.hdf')"
   ]
  },
  {
   "cell_type": "code",
   "execution_count": 34,
   "metadata": {},
   "outputs": [
    {
     "data": {
      "text/plain": [
       "['adm0_id',\n",
       " 'adm1_id',\n",
       " 'cm_id',\n",
       " 'conversion_rate',\n",
       " 'cur_id',\n",
       " 'mkt_id',\n",
       " 'mp_commoditysource',\n",
       " 'mp_month',\n",
       " 'mp_price',\n",
       " 'mp_year',\n",
       " 'pt_id',\n",
       " 'um_id']"
      ]
     },
     "execution_count": 34,
     "metadata": {},
     "output_type": "execute_result"
    }
   ],
   "source": [
    "#reading all the columns names and displaying them\n",
    "ak.get_datasets('/Users/narenkhatwani/Desktop/Resources/Csv_final_pruned_merged/global_food_clean.hdf')"
   ]
  },
  {
   "cell_type": "code",
   "execution_count": 35,
   "metadata": {},
   "outputs": [],
   "source": [
    "#data becomes the dataframe\n",
    "data=green_from_HDF5"
   ]
  },
  {
   "cell_type": "code",
   "execution_count": 36,
   "metadata": {},
   "outputs": [
    {
     "data": {
      "text/plain": [
       "array([1 1 1 ... 126 126 126])"
      ]
     },
     "execution_count": 36,
     "metadata": {},
     "output_type": "execute_result"
    }
   ],
   "source": [
    "#printing a pdarray\n",
    "data['adm0_id']"
   ]
  },
  {
   "cell_type": "code",
   "execution_count": 37,
   "metadata": {},
   "outputs": [
    {
     "data": {
      "text/plain": [
       "array([50 50 50 ... 200 216 200])"
      ]
     },
     "execution_count": 37,
     "metadata": {},
     "output_type": "execute_result"
    }
   ],
   "source": [
    "data['mp_price']"
   ]
  },
  {
   "cell_type": "code",
   "execution_count": 38,
   "metadata": {},
   "outputs": [],
   "source": [
    "#resultant currency conversion\n",
    "data['currency_product']=data['mp_price']/data['conversion_rate']"
   ]
  },
  {
   "cell_type": "code",
   "execution_count": 39,
   "metadata": {},
   "outputs": [
    {
     "data": {
      "text/plain": [
       "array([0.547645125958379 0.547645125958379 0.547645125958379 ... 1.7551114174132783 1.8955203308063404 1.7551114174132783])"
      ]
     },
     "execution_count": 39,
     "metadata": {},
     "output_type": "execute_result"
    }
   ],
   "source": [
    "data['currency_product']"
   ]
  },
  {
   "cell_type": "markdown",
   "metadata": {},
   "source": [
    "## Finding items worth more than 10000 USD in India "
   ]
  },
  {
   "cell_type": "code",
   "execution_count": 41,
   "metadata": {},
   "outputs": [],
   "source": [
    "items_result = ((data['currency_product'] > 10) & (data['adm0_id'] == 115) )\n",
    "convert_to_pandas = pd.DataFrame({k: v[items_result].to_ndarray() for k, v in data.items()})"
   ]
  },
  {
   "cell_type": "code",
   "execution_count": 42,
   "metadata": {},
   "outputs": [
    {
     "data": {
      "text/html": [
       "<div>\n",
       "<style scoped>\n",
       "    .dataframe tbody tr th:only-of-type {\n",
       "        vertical-align: middle;\n",
       "    }\n",
       "\n",
       "    .dataframe tbody tr th {\n",
       "        vertical-align: top;\n",
       "    }\n",
       "\n",
       "    .dataframe thead th {\n",
       "        text-align: right;\n",
       "    }\n",
       "</style>\n",
       "<table border=\"1\" class=\"dataframe\">\n",
       "  <thead>\n",
       "    <tr style=\"text-align: right;\">\n",
       "      <th></th>\n",
       "      <th>adm0_id</th>\n",
       "      <th>adm1_id</th>\n",
       "      <th>cm_id</th>\n",
       "      <th>conversion_rate</th>\n",
       "      <th>cur_id</th>\n",
       "      <th>mkt_id</th>\n",
       "      <th>mp_commoditysource</th>\n",
       "      <th>mp_month</th>\n",
       "      <th>mp_price</th>\n",
       "      <th>mp_year</th>\n",
       "      <th>pt_id</th>\n",
       "      <th>um_id</th>\n",
       "      <th>currency_product</th>\n",
       "    </tr>\n",
       "  </thead>\n",
       "  <tbody>\n",
       "    <tr>\n",
       "      <th>0</th>\n",
       "      <td>115</td>\n",
       "      <td>1488</td>\n",
       "      <td>52</td>\n",
       "      <td>74.440663</td>\n",
       "      <td>0</td>\n",
       "      <td>957</td>\n",
       "      <td>NaN</td>\n",
       "      <td>1</td>\n",
       "      <td>800.0</td>\n",
       "      <td>2000</td>\n",
       "      <td>14</td>\n",
       "      <td>9</td>\n",
       "      <td>10.746815</td>\n",
       "    </tr>\n",
       "    <tr>\n",
       "      <th>1</th>\n",
       "      <td>115</td>\n",
       "      <td>1488</td>\n",
       "      <td>52</td>\n",
       "      <td>74.440663</td>\n",
       "      <td>0</td>\n",
       "      <td>957</td>\n",
       "      <td>NaN</td>\n",
       "      <td>2</td>\n",
       "      <td>810.0</td>\n",
       "      <td>2000</td>\n",
       "      <td>14</td>\n",
       "      <td>9</td>\n",
       "      <td>10.881150</td>\n",
       "    </tr>\n",
       "    <tr>\n",
       "      <th>2</th>\n",
       "      <td>115</td>\n",
       "      <td>1488</td>\n",
       "      <td>52</td>\n",
       "      <td>74.440663</td>\n",
       "      <td>0</td>\n",
       "      <td>957</td>\n",
       "      <td>NaN</td>\n",
       "      <td>3</td>\n",
       "      <td>825.0</td>\n",
       "      <td>2000</td>\n",
       "      <td>14</td>\n",
       "      <td>9</td>\n",
       "      <td>11.082652</td>\n",
       "    </tr>\n",
       "    <tr>\n",
       "      <th>3</th>\n",
       "      <td>115</td>\n",
       "      <td>1488</td>\n",
       "      <td>52</td>\n",
       "      <td>74.440663</td>\n",
       "      <td>0</td>\n",
       "      <td>957</td>\n",
       "      <td>NaN</td>\n",
       "      <td>4</td>\n",
       "      <td>800.0</td>\n",
       "      <td>2000</td>\n",
       "      <td>14</td>\n",
       "      <td>9</td>\n",
       "      <td>10.746815</td>\n",
       "    </tr>\n",
       "    <tr>\n",
       "      <th>4</th>\n",
       "      <td>115</td>\n",
       "      <td>1488</td>\n",
       "      <td>52</td>\n",
       "      <td>74.440663</td>\n",
       "      <td>0</td>\n",
       "      <td>957</td>\n",
       "      <td>NaN</td>\n",
       "      <td>5</td>\n",
       "      <td>800.0</td>\n",
       "      <td>2000</td>\n",
       "      <td>14</td>\n",
       "      <td>9</td>\n",
       "      <td>10.746815</td>\n",
       "    </tr>\n",
       "  </tbody>\n",
       "</table>\n",
       "</div>"
      ],
      "text/plain": [
       "   adm0_id  adm1_id  cm_id  conversion_rate  cur_id  mkt_id  \\\n",
       "0      115     1488     52        74.440663       0     957   \n",
       "1      115     1488     52        74.440663       0     957   \n",
       "2      115     1488     52        74.440663       0     957   \n",
       "3      115     1488     52        74.440663       0     957   \n",
       "4      115     1488     52        74.440663       0     957   \n",
       "\n",
       "   mp_commoditysource  mp_month  mp_price  mp_year  pt_id  um_id  \\\n",
       "0                 NaN         1     800.0     2000     14      9   \n",
       "1                 NaN         2     810.0     2000     14      9   \n",
       "2                 NaN         3     825.0     2000     14      9   \n",
       "3                 NaN         4     800.0     2000     14      9   \n",
       "4                 NaN         5     800.0     2000     14      9   \n",
       "\n",
       "   currency_product  \n",
       "0         10.746815  \n",
       "1         10.881150  \n",
       "2         11.082652  \n",
       "3         10.746815  \n",
       "4         10.746815  "
      ]
     },
     "execution_count": 42,
     "metadata": {},
     "output_type": "execute_result"
    }
   ],
   "source": [
    "convert_to_pandas.head(5)"
   ]
  },
  {
   "cell_type": "code",
   "execution_count": 43,
   "metadata": {
    "scrolled": true
   },
   "outputs": [
    {
     "data": {
      "text/html": [
       "<div>\n",
       "<style scoped>\n",
       "    .dataframe tbody tr th:only-of-type {\n",
       "        vertical-align: middle;\n",
       "    }\n",
       "\n",
       "    .dataframe tbody tr th {\n",
       "        vertical-align: top;\n",
       "    }\n",
       "\n",
       "    .dataframe thead th {\n",
       "        text-align: right;\n",
       "    }\n",
       "</style>\n",
       "<table border=\"1\" class=\"dataframe\">\n",
       "  <thead>\n",
       "    <tr style=\"text-align: right;\">\n",
       "      <th></th>\n",
       "      <th>adm0_id</th>\n",
       "      <th>adm1_id</th>\n",
       "      <th>cm_id</th>\n",
       "      <th>conversion_rate</th>\n",
       "      <th>cur_id</th>\n",
       "      <th>mkt_id</th>\n",
       "      <th>mp_commoditysource</th>\n",
       "      <th>mp_month</th>\n",
       "      <th>mp_price</th>\n",
       "      <th>mp_year</th>\n",
       "      <th>pt_id</th>\n",
       "      <th>um_id</th>\n",
       "      <th>currency_product</th>\n",
       "      <th>adm0_name</th>\n",
       "      <th>cm_name</th>\n",
       "    </tr>\n",
       "  </thead>\n",
       "  <tbody>\n",
       "    <tr>\n",
       "      <th>0</th>\n",
       "      <td>115</td>\n",
       "      <td>1488</td>\n",
       "      <td>52</td>\n",
       "      <td>74.440663</td>\n",
       "      <td>0</td>\n",
       "      <td>957</td>\n",
       "      <td>NaN</td>\n",
       "      <td>1</td>\n",
       "      <td>800.0000</td>\n",
       "      <td>2000</td>\n",
       "      <td>14</td>\n",
       "      <td>9</td>\n",
       "      <td>10.746815</td>\n",
       "      <td>Bassas da India</td>\n",
       "      <td>Rice - Retail</td>\n",
       "    </tr>\n",
       "    <tr>\n",
       "      <th>1</th>\n",
       "      <td>115</td>\n",
       "      <td>1488</td>\n",
       "      <td>52</td>\n",
       "      <td>74.440663</td>\n",
       "      <td>0</td>\n",
       "      <td>957</td>\n",
       "      <td>NaN</td>\n",
       "      <td>2</td>\n",
       "      <td>810.0000</td>\n",
       "      <td>2000</td>\n",
       "      <td>14</td>\n",
       "      <td>9</td>\n",
       "      <td>10.881150</td>\n",
       "      <td>Bassas da India</td>\n",
       "      <td>Rice - Retail</td>\n",
       "    </tr>\n",
       "    <tr>\n",
       "      <th>2</th>\n",
       "      <td>115</td>\n",
       "      <td>1488</td>\n",
       "      <td>52</td>\n",
       "      <td>74.440663</td>\n",
       "      <td>0</td>\n",
       "      <td>957</td>\n",
       "      <td>NaN</td>\n",
       "      <td>3</td>\n",
       "      <td>825.0000</td>\n",
       "      <td>2000</td>\n",
       "      <td>14</td>\n",
       "      <td>9</td>\n",
       "      <td>11.082652</td>\n",
       "      <td>Bassas da India</td>\n",
       "      <td>Rice - Retail</td>\n",
       "    </tr>\n",
       "    <tr>\n",
       "      <th>3</th>\n",
       "      <td>115</td>\n",
       "      <td>1488</td>\n",
       "      <td>52</td>\n",
       "      <td>74.440663</td>\n",
       "      <td>0</td>\n",
       "      <td>957</td>\n",
       "      <td>NaN</td>\n",
       "      <td>4</td>\n",
       "      <td>800.0000</td>\n",
       "      <td>2000</td>\n",
       "      <td>14</td>\n",
       "      <td>9</td>\n",
       "      <td>10.746815</td>\n",
       "      <td>Bassas da India</td>\n",
       "      <td>Rice - Retail</td>\n",
       "    </tr>\n",
       "    <tr>\n",
       "      <th>4</th>\n",
       "      <td>115</td>\n",
       "      <td>1488</td>\n",
       "      <td>52</td>\n",
       "      <td>74.440663</td>\n",
       "      <td>0</td>\n",
       "      <td>957</td>\n",
       "      <td>NaN</td>\n",
       "      <td>5</td>\n",
       "      <td>800.0000</td>\n",
       "      <td>2000</td>\n",
       "      <td>14</td>\n",
       "      <td>9</td>\n",
       "      <td>10.746815</td>\n",
       "      <td>Bassas da India</td>\n",
       "      <td>Rice - Retail</td>\n",
       "    </tr>\n",
       "    <tr>\n",
       "      <th>...</th>\n",
       "      <td>...</td>\n",
       "      <td>...</td>\n",
       "      <td>...</td>\n",
       "      <td>...</td>\n",
       "      <td>...</td>\n",
       "      <td>...</td>\n",
       "      <td>...</td>\n",
       "      <td>...</td>\n",
       "      <td>...</td>\n",
       "      <td>...</td>\n",
       "      <td>...</td>\n",
       "      <td>...</td>\n",
       "      <td>...</td>\n",
       "      <td>...</td>\n",
       "      <td>...</td>\n",
       "    </tr>\n",
       "    <tr>\n",
       "      <th>2133</th>\n",
       "      <td>115</td>\n",
       "      <td>1508</td>\n",
       "      <td>84</td>\n",
       "      <td>74.440663</td>\n",
       "      <td>0</td>\n",
       "      <td>931</td>\n",
       "      <td>NaN</td>\n",
       "      <td>6</td>\n",
       "      <td>3400.0000</td>\n",
       "      <td>2020</td>\n",
       "      <td>14</td>\n",
       "      <td>9</td>\n",
       "      <td>45.673962</td>\n",
       "      <td>Bassas da India</td>\n",
       "      <td>Wheat - Retail</td>\n",
       "    </tr>\n",
       "    <tr>\n",
       "      <th>2134</th>\n",
       "      <td>115</td>\n",
       "      <td>1508</td>\n",
       "      <td>84</td>\n",
       "      <td>74.440663</td>\n",
       "      <td>0</td>\n",
       "      <td>931</td>\n",
       "      <td>NaN</td>\n",
       "      <td>7</td>\n",
       "      <td>3466.6699</td>\n",
       "      <td>2020</td>\n",
       "      <td>14</td>\n",
       "      <td>9</td>\n",
       "      <td>46.569573</td>\n",
       "      <td>Bassas da India</td>\n",
       "      <td>Wheat - Retail</td>\n",
       "    </tr>\n",
       "    <tr>\n",
       "      <th>2135</th>\n",
       "      <td>115</td>\n",
       "      <td>1508</td>\n",
       "      <td>84</td>\n",
       "      <td>74.440663</td>\n",
       "      <td>0</td>\n",
       "      <td>931</td>\n",
       "      <td>NaN</td>\n",
       "      <td>8</td>\n",
       "      <td>3407.6899</td>\n",
       "      <td>2020</td>\n",
       "      <td>14</td>\n",
       "      <td>9</td>\n",
       "      <td>45.777264</td>\n",
       "      <td>Bassas da India</td>\n",
       "      <td>Wheat - Retail</td>\n",
       "    </tr>\n",
       "    <tr>\n",
       "      <th>2136</th>\n",
       "      <td>115</td>\n",
       "      <td>1508</td>\n",
       "      <td>84</td>\n",
       "      <td>74.440663</td>\n",
       "      <td>0</td>\n",
       "      <td>931</td>\n",
       "      <td>NaN</td>\n",
       "      <td>9</td>\n",
       "      <td>3200.0000</td>\n",
       "      <td>2020</td>\n",
       "      <td>14</td>\n",
       "      <td>9</td>\n",
       "      <td>42.987258</td>\n",
       "      <td>Bassas da India</td>\n",
       "      <td>Wheat - Retail</td>\n",
       "    </tr>\n",
       "    <tr>\n",
       "      <th>2137</th>\n",
       "      <td>115</td>\n",
       "      <td>1508</td>\n",
       "      <td>84</td>\n",
       "      <td>74.440663</td>\n",
       "      <td>0</td>\n",
       "      <td>931</td>\n",
       "      <td>NaN</td>\n",
       "      <td>10</td>\n",
       "      <td>3140.0000</td>\n",
       "      <td>2020</td>\n",
       "      <td>14</td>\n",
       "      <td>9</td>\n",
       "      <td>42.181247</td>\n",
       "      <td>Bassas da India</td>\n",
       "      <td>Wheat - Retail</td>\n",
       "    </tr>\n",
       "  </tbody>\n",
       "</table>\n",
       "<p>2138 rows × 15 columns</p>\n",
       "</div>"
      ],
      "text/plain": [
       "      adm0_id  adm1_id  cm_id  conversion_rate  cur_id  mkt_id  \\\n",
       "0         115     1488     52        74.440663       0     957   \n",
       "1         115     1488     52        74.440663       0     957   \n",
       "2         115     1488     52        74.440663       0     957   \n",
       "3         115     1488     52        74.440663       0     957   \n",
       "4         115     1488     52        74.440663       0     957   \n",
       "...       ...      ...    ...              ...     ...     ...   \n",
       "2133      115     1508     84        74.440663       0     931   \n",
       "2134      115     1508     84        74.440663       0     931   \n",
       "2135      115     1508     84        74.440663       0     931   \n",
       "2136      115     1508     84        74.440663       0     931   \n",
       "2137      115     1508     84        74.440663       0     931   \n",
       "\n",
       "      mp_commoditysource  mp_month   mp_price  mp_year  pt_id  um_id  \\\n",
       "0                    NaN         1   800.0000     2000     14      9   \n",
       "1                    NaN         2   810.0000     2000     14      9   \n",
       "2                    NaN         3   825.0000     2000     14      9   \n",
       "3                    NaN         4   800.0000     2000     14      9   \n",
       "4                    NaN         5   800.0000     2000     14      9   \n",
       "...                  ...       ...        ...      ...    ...    ...   \n",
       "2133                 NaN         6  3400.0000     2020     14      9   \n",
       "2134                 NaN         7  3466.6699     2020     14      9   \n",
       "2135                 NaN         8  3407.6899     2020     14      9   \n",
       "2136                 NaN         9  3200.0000     2020     14      9   \n",
       "2137                 NaN        10  3140.0000     2020     14      9   \n",
       "\n",
       "      currency_product        adm0_name         cm_name  \n",
       "0            10.746815  Bassas da India   Rice - Retail  \n",
       "1            10.881150  Bassas da India   Rice - Retail  \n",
       "2            11.082652  Bassas da India   Rice - Retail  \n",
       "3            10.746815  Bassas da India   Rice - Retail  \n",
       "4            10.746815  Bassas da India   Rice - Retail  \n",
       "...                ...              ...             ...  \n",
       "2133         45.673962  Bassas da India  Wheat - Retail  \n",
       "2134         46.569573  Bassas da India  Wheat - Retail  \n",
       "2135         45.777264  Bassas da India  Wheat - Retail  \n",
       "2136         42.987258  Bassas da India  Wheat - Retail  \n",
       "2137         42.181247  Bassas da India  Wheat - Retail  \n",
       "\n",
       "[2138 rows x 15 columns]"
      ]
     },
     "execution_count": 43,
     "metadata": {},
     "output_type": "execute_result"
    }
   ],
   "source": [
    "country_specific=convert_to_pandas.merge(df_country_ids,on='adm0_id',how='left')\n",
    "item_specific=country_specific.merge(df_food_ids,on='cm_id',how='left')\n",
    "item_specific"
   ]
  },
  {
   "cell_type": "code",
   "execution_count": 44,
   "metadata": {
    "scrolled": true
   },
   "outputs": [
    {
     "name": "stdout",
     "output_type": "stream",
     "text": [
      "SORTED DATAFRAME\n"
     ]
    },
    {
     "data": {
      "text/html": [
       "<div>\n",
       "<style scoped>\n",
       "    .dataframe tbody tr th:only-of-type {\n",
       "        vertical-align: middle;\n",
       "    }\n",
       "\n",
       "    .dataframe tbody tr th {\n",
       "        vertical-align: top;\n",
       "    }\n",
       "\n",
       "    .dataframe thead th {\n",
       "        text-align: right;\n",
       "    }\n",
       "</style>\n",
       "<table border=\"1\" class=\"dataframe\">\n",
       "  <thead>\n",
       "    <tr style=\"text-align: right;\">\n",
       "      <th></th>\n",
       "      <th>adm0_id</th>\n",
       "      <th>adm1_id</th>\n",
       "      <th>cm_id</th>\n",
       "      <th>conversion_rate</th>\n",
       "      <th>cur_id</th>\n",
       "      <th>mkt_id</th>\n",
       "      <th>mp_commoditysource</th>\n",
       "      <th>mp_month</th>\n",
       "      <th>mp_price</th>\n",
       "      <th>mp_year</th>\n",
       "      <th>pt_id</th>\n",
       "      <th>um_id</th>\n",
       "      <th>currency_product</th>\n",
       "      <th>adm0_name</th>\n",
       "      <th>cm_name</th>\n",
       "    </tr>\n",
       "  </thead>\n",
       "  <tbody>\n",
       "    <tr>\n",
       "      <th>221</th>\n",
       "      <td>115</td>\n",
       "      <td>1488</td>\n",
       "      <td>84</td>\n",
       "      <td>74.440663</td>\n",
       "      <td>0</td>\n",
       "      <td>957</td>\n",
       "      <td>NaN</td>\n",
       "      <td>1</td>\n",
       "      <td>800.00</td>\n",
       "      <td>2000</td>\n",
       "      <td>14</td>\n",
       "      <td>9</td>\n",
       "      <td>10.746815</td>\n",
       "      <td>Bassas da India</td>\n",
       "      <td>Wheat - Retail</td>\n",
       "    </tr>\n",
       "    <tr>\n",
       "      <th>222</th>\n",
       "      <td>115</td>\n",
       "      <td>1488</td>\n",
       "      <td>84</td>\n",
       "      <td>74.440663</td>\n",
       "      <td>0</td>\n",
       "      <td>957</td>\n",
       "      <td>NaN</td>\n",
       "      <td>3</td>\n",
       "      <td>787.50</td>\n",
       "      <td>2000</td>\n",
       "      <td>14</td>\n",
       "      <td>9</td>\n",
       "      <td>10.578896</td>\n",
       "      <td>Bassas da India</td>\n",
       "      <td>Wheat - Retail</td>\n",
       "    </tr>\n",
       "    <tr>\n",
       "      <th>1248</th>\n",
       "      <td>115</td>\n",
       "      <td>1498</td>\n",
       "      <td>84</td>\n",
       "      <td>74.440663</td>\n",
       "      <td>0</td>\n",
       "      <td>955</td>\n",
       "      <td>NaN</td>\n",
       "      <td>1</td>\n",
       "      <td>908.67</td>\n",
       "      <td>2000</td>\n",
       "      <td>14</td>\n",
       "      <td>9</td>\n",
       "      <td>12.206635</td>\n",
       "      <td>Bassas da India</td>\n",
       "      <td>Wheat - Retail</td>\n",
       "    </tr>\n",
       "    <tr>\n",
       "      <th>1249</th>\n",
       "      <td>115</td>\n",
       "      <td>1498</td>\n",
       "      <td>84</td>\n",
       "      <td>74.440663</td>\n",
       "      <td>0</td>\n",
       "      <td>955</td>\n",
       "      <td>NaN</td>\n",
       "      <td>2</td>\n",
       "      <td>925.00</td>\n",
       "      <td>2000</td>\n",
       "      <td>14</td>\n",
       "      <td>9</td>\n",
       "      <td>12.426004</td>\n",
       "      <td>Bassas da India</td>\n",
       "      <td>Wheat - Retail</td>\n",
       "    </tr>\n",
       "    <tr>\n",
       "      <th>1250</th>\n",
       "      <td>115</td>\n",
       "      <td>1498</td>\n",
       "      <td>84</td>\n",
       "      <td>74.440663</td>\n",
       "      <td>0</td>\n",
       "      <td>955</td>\n",
       "      <td>NaN</td>\n",
       "      <td>3</td>\n",
       "      <td>889.75</td>\n",
       "      <td>2000</td>\n",
       "      <td>14</td>\n",
       "      <td>9</td>\n",
       "      <td>11.952473</td>\n",
       "      <td>Bassas da India</td>\n",
       "      <td>Wheat - Retail</td>\n",
       "    </tr>\n",
       "  </tbody>\n",
       "</table>\n",
       "</div>"
      ],
      "text/plain": [
       "      adm0_id  adm1_id  cm_id  conversion_rate  cur_id  mkt_id  \\\n",
       "221       115     1488     84        74.440663       0     957   \n",
       "222       115     1488     84        74.440663       0     957   \n",
       "1248      115     1498     84        74.440663       0     955   \n",
       "1249      115     1498     84        74.440663       0     955   \n",
       "1250      115     1498     84        74.440663       0     955   \n",
       "\n",
       "      mp_commoditysource  mp_month  mp_price  mp_year  pt_id  um_id  \\\n",
       "221                  NaN         1    800.00     2000     14      9   \n",
       "222                  NaN         3    787.50     2000     14      9   \n",
       "1248                 NaN         1    908.67     2000     14      9   \n",
       "1249                 NaN         2    925.00     2000     14      9   \n",
       "1250                 NaN         3    889.75     2000     14      9   \n",
       "\n",
       "      currency_product        adm0_name         cm_name  \n",
       "221          10.746815  Bassas da India  Wheat - Retail  \n",
       "222          10.578896  Bassas da India  Wheat - Retail  \n",
       "1248         12.206635  Bassas da India  Wheat - Retail  \n",
       "1249         12.426004  Bassas da India  Wheat - Retail  \n",
       "1250         11.952473  Bassas da India  Wheat - Retail  "
      ]
     },
     "execution_count": 44,
     "metadata": {},
     "output_type": "execute_result"
    }
   ],
   "source": [
    "print('SORTED DATAFRAME')\n",
    "item_specific=item_specific.sort_values(by = ['cm_name', 'mp_year'], ascending = [False, True], na_position = 'first')\n",
    "item_specific.head(5)"
   ]
  },
  {
   "cell_type": "code",
   "execution_count": 45,
   "metadata": {},
   "outputs": [],
   "source": [
    "item_specific.to_csv('/Users/narenkhatwani/Desktop/lol.csv', index=False)"
   ]
  },
  {
   "cell_type": "markdown",
   "metadata": {},
   "source": [
    "# Visualization of the Dataframe"
   ]
  },
  {
   "cell_type": "markdown",
   "metadata": {},
   "source": [
    "## The following visualization is just showing the basic difference in prices of various item of a country over the span of which the data is available in the dataset"
   ]
  },
  {
   "cell_type": "markdown",
   "metadata": {},
   "source": [
    "## Using Matplotlib "
   ]
  },
  {
   "cell_type": "code",
   "execution_count": 53,
   "metadata": {},
   "outputs": [
    {
     "data": {
      "image/png": "[encoded data removed]",
      "text/plain": [
       "<Figure size 864x756 with 3 Axes>"
      ]
     },
     "metadata": {
      "needs_background": "light"
     },
     "output_type": "display_data"
    }
   ],
   "source": [
    "import matplotlib.pyplot as plt\n",
    "items_list = item_specific['cm_name'].unique().tolist()\n",
    "fig, ax = plt.subplots(nrows=len(items_list), figsize=(12,len(items_list)*3.5)) #dynamically set the figure size from the number of subplots. I find that 3.5 is a good height per subplot to see the data\n",
    "\n",
    "for i in items_list:\n",
    "    ind = items_list.index(i) #a trick to get a list of 0 to whatever \n",
    "    filt = item_specific['cm_name'] == i #filter the dataframe for each item in the list\n",
    "    \n",
    "    ax[ind].plot(item_specific.loc[filt]['mp_year'],item_specific.loc[filt]['currency_product']) #plotting the filtered dataframe. The brackets make the axis variable dynamic\n",
    "    ax[ind].set_title(i, size=18) #here I am setting the title of each subplot to be the category\n",
    "    ax[ind].set_ylabel('Price of Item', size=8) #setting the ylabel and font size\n",
    "    ax[ind].xaxis.set_tick_params(labelsize=8) #setting the font size of the x axis\n",
    "    ax[ind].yaxis.set_tick_params(labelsize=8) #setting the font size of the y axis\n",
    "    \n",
    "    #Optionally add data labels or text to the subplots\n",
    "    cases_yesterday_filter = (item_specific['mp_year'] == item_specific['mp_year'].max()) & (item_specific['cm_name'] == i) \n",
    "    cases_yesterday = item_specific.loc[cases_yesterday_filter].iloc[0]['currency_product'] #applying the filter to the dataframe\n",
    "    ax[ind].annotate(str(cases_yesterday), xy=(item_specific['mp_year'].max(),cases_yesterday),xycoords = 'data', ha ='left', va='top', fontsize =15) #adding the datapoint to the subplot\n",
    "    plt.tight_layout()"
   ]
  },
  {
   "cell_type": "markdown",
   "metadata": {},
   "source": []
  },
  {
   "cell_type": "markdown",
   "metadata": {},
   "source": [
    "## Using Plotly"
   ]
  },
  {
   "cell_type": "code",
   "execution_count": 54,
   "metadata": {},
   "outputs": [
    {
     "name": "stdout",
     "output_type": "stream",
     "text": [
      "Wheat - Retail\n"
     ]
    },
    {
     "data": {
      "application/vnd.plotly.v1+json": {
       "config": {
        "plotlyServerURL": "https://plot.ly"
       },
       "data": [
        {
         "alignmentgroup": "True",
         "hovertemplate": "Year=%{x}<br>Price in $=%{y}<extra></extra>",
         "legendgroup": "",
         "marker": {
          "color": "#636efa"
         },
         "name": "",
         "offsetgroup": "",
         "orientation": "v",
         "showlegend": false,
         "textposition": "auto",
         "type": "bar",
         "x": [
          2000,
          2000,
          2000,
          2000,
          2000,
          2000,
          2000,
          2000,
          2000,
          2000,
          2000,
          2000,
          2000,
          2000,
          2000,
          2000,
          2000,
          2000,
          2000,
          2000,
          2000,
          2000,
          2000,
          2000,
          2000,
          2000,
          2001,
          2001,
          2001,
          2001,
          2001,
          2001,
          2001,
          2001,
          2001,
          2001,
          2001,
          2001,
          2001,
          2001,
          2001,
          2001,
          2001,
          2001,
          2001,
          2001,
          2001,
          2001,
          2001,
          2001,
          2002,
          2002,
          2002,
          2002,
          2002,
          2002,
          2002,
          2002,
          2002,
          2002,
          2002,
          2002,
          2002,
          2002,
          2002,
          2002,
          2002,
          2002,
          2002,
          2002,
          2002,
          2002,
          2002,
          2002,
          2002,
          2003,
          2003,
          2003,
          2003,
          2003,
          2003,
          2003,
          2003,
          2003,
          2003,
          2003,
          2003,
          2003,
          2003,
          2003,
          2003,
          2003,
          2003,
          2003,
          2003,
          2003,
          2003,
          2003,
          2003,
          2003,
          2003,
          2003,
          2004,
          2004,
          2004,
          2004,
          2004,
          2004,
          2004,
          2004,
          2004,
          2004,
          2004,
          2004,
          2004,
          2004,
          2004,
          2004,
          2004,
          2004,
          2004,
          2004,
          2004,
          2004,
          2004,
          2004,
          2004,
          2004,
          2004,
          2004,
          2004,
          2004,
          2004,
          2005,
          2005,
          2005,
          2005,
          2005,
          2005,
          2005,
          2005,
          2005,
          2005,
          2005,
          2005,
          2005,
          2005,
          2005,
          2005,
          2005,
          2005,
          2005,
          2005,
          2005,
          2005,
          2005,
          2005,
          2005,
          2005,
          2005,
          2005,
          2005,
          2005,
          2005,
          2005,
          2005,
          2005,
          2005,
          2005,
          2005,
          2005,
          2005,
          2005,
          2006,
          2006,
          2006,
          2006,
          2006,
          2006,
          2006,
          2006,
          2006,
          2006,
          2006,
          2006,
          2006,
          2006,
          2006,
          2006,
          2006,
          2006,
          2006,
          2006,
          2006,
          2006,
          2006,
          2006,
          2006,
          2006,
          2006,
          2006,
          2006,
          2006,
          2006,
          2006,
          2006,
          2006,
          2006,
          2006,
          2006,
          2006,
          2006,
          2006,
          2006,
          2006,
          2006,
          2006,
          2006,
          2006,
          2006,
          2006,
          2007,
          2007,
          2007,
          2007,
          2007,
          2007,
          2007,
          2007,
          2007,
          2007,
          2007,
          2007,
          2007,
          2007,
          2007,
          2007,
          2007,
          2007,
          2007,
          2007,
          2007,
          2007,
          2007,
          2007,
          2007,
          2007,
          2007,
          2007,
          2007,
          2007,
          2007,
          2007,
          2007,
          2007,
          2007,
          2007,
          2007,
          2007,
          2007,
          2007,
          2007,
          2007,
          2007,
          2007,
          2007,
          2007,
          2007,
          2007,
          2008,
          2008,
          2008,
          2008,
          2008,
          2008,
          2008,
          2008,
          2008,
          2008,
          2008,
          2008,
          2008,
          2008,
          2008,
          2008,
          2008,
          2008,
          2008,
          2008,
          2008,
          2008,
          2008,
          2008,
          2008,
          2008,
          2008,
          2008,
          2008,
          2008,
          2008,
          2008,
          2008,
          2008,
          2008,
          2008,
          2008,
          2008,
          2008,
          2008,
          2008,
          2008,
          2008,
          2008,
          2008,
          2008,
          2008,
          2008,
          2009,
          2009,
          2009,
          2009,
          2009,
          2009,
          2009,
          2009,
          2009,
          2009,
          2009,
          2009,
          2009,
          2009,
          2009,
          2009,
          2009,
          2009,
          2009,
          2009,
          2009,
          2009,
          2009,
          2009,
          2009,
          2009,
          2009,
          2009,
          2009,
          2009,
          2009,
          2009,
          2009,
          2009,
          2009,
          2009,
          2009,
          2009,
          2009,
          2009,
          2009,
          2009,
          2009,
          2009,
          2009,
          2009,
          2009,
          2009,
          2010,
          2010,
          2010,
          2010,
          2010,
          2010,
          2010,
          2010,
          2010,
          2010,
          2010,
          2010,
          2010,
          2010,
          2010,
          2010,
          2010,
          2010,
          2010,
          2010,
          2010,
          2010,
          2010,
          2010,
          2010,
          2010,
          2010,
          2010,
          2010,
          2010,
          2010,
          2010,
          2010,
          2010,
          2010,
          2010,
          2010,
          2010,
          2010,
          2010,
          2010,
          2010,
          2010,
          2010,
          2010,
          2010,
          2010,
          2010,
          2011,
          2011,
          2011,
          2011,
          2011,
          2011,
          2011,
          2011,
          2011,
          2011,
          2011,
          2011,
          2011,
          2011,
          2011,
          2011,
          2011,
          2011,
          2011,
          2011,
          2011,
          2011,
          2011,
          2011,
          2011,
          2011,
          2011,
          2011,
          2011,
          2011,
          2011,
          2011,
          2011,
          2011,
          2011,
          2011,
          2011,
          2011,
          2011,
          2011,
          2011,
          2011,
          2011,
          2011,
          2011,
          2011,
          2011,
          2011,
          2012,
          2012,
          2012,
          2012,
          2012,
          2012,
          2012,
          2012,
          2012,
          2012,
          2012,
          2012,
          2012,
          2012,
          2012,
          2012,
          2012,
          2012,
          2012,
          2012,
          2012,
          2012,
          2012,
          2012,
          2012,
          2012,
          2012,
          2012,
          2012,
          2012,
          2012,
          2012,
          2012,
          2012,
          2012,
          2012,
          2012,
          2012,
          2012,
          2012,
          2012,
          2012,
          2012,
          2012,
          2012,
          2012,
          2012,
          2012,
          2013,
          2013,
          2013,
          2013,
          2013,
          2013,
          2013,
          2013,
          2013,
          2013,
          2013,
          2013,
          2013,
          2013,
          2013,
          2013,
          2013,
          2013,
          2013,
          2013,
          2013,
          2013,
          2013,
          2013,
          2013,
          2013,
          2013,
          2013,
          2013,
          2013,
          2013,
          2013,
          2013,
          2013,
          2013,
          2013,
          2013,
          2013,
          2013,
          2013,
          2013,
          2013,
          2013,
          2013,
          2013,
          2013,
          2013,
          2013,
          2014,
          2014,
          2014,
          2014,
          2014,
          2014,
          2014,
          2014,
          2014,
          2014,
          2014,
          2014,
          2014,
          2014,
          2014,
          2014,
          2014,
          2014,
          2014,
          2014,
          2014,
          2014,
          2014,
          2014,
          2014,
          2014,
          2014,
          2014,
          2014,
          2014,
          2014,
          2014,
          2014,
          2014,
          2014,
          2014,
          2014,
          2014,
          2014,
          2014,
          2014,
          2014,
          2014,
          2014,
          2014,
          2014,
          2014,
          2014,
          2015,
          2015,
          2015,
          2015,
          2015,
          2015,
          2015,
          2015,
          2015,
          2015,
          2015,
          2015,
          2015,
          2015,
          2015,
          2015,
          2015,
          2015,
          2015,
          2015,
          2015,
          2015,
          2015,
          2015,
          2015,
          2015,
          2015,
          2015,
          2015,
          2015,
          2015,
          2015,
          2015,
          2015,
          2015,
          2015,
          2015,
          2015,
          2015,
          2015,
          2015,
          2015,
          2015,
          2015,
          2015,
          2015,
          2015,
          2015,
          2016,
          2016,
          2016,
          2016,
          2016,
          2016,
          2016,
          2016,
          2016,
          2016,
          2016,
          2016,
          2016,
          2016,
          2016,
          2016,
          2016,
          2016,
          2016,
          2016,
          2016,
          2016,
          2016,
          2016,
          2016,
          2016,
          2016,
          2016,
          2016,
          2016,
          2016,
          2016,
          2016,
          2016,
          2016,
          2016,
          2016,
          2016,
          2016,
          2016,
          2016,
          2016,
          2016,
          2016,
          2016,
          2016,
          2016,
          2016,
          2017,
          2017,
          2017,
          2017,
          2017,
          2017,
          2017,
          2017,
          2017,
          2017,
          2017,
          2017,
          2017,
          2017,
          2017,
          2017,
          2017,
          2017,
          2017,
          2017,
          2017,
          2017,
          2017,
          2017,
          2017,
          2017,
          2017,
          2017,
          2017,
          2017,
          2017,
          2017,
          2017,
          2017,
          2017,
          2017,
          2017,
          2017,
          2017,
          2017,
          2017,
          2017,
          2017,
          2017,
          2017,
          2017,
          2017,
          2017,
          2018,
          2018,
          2018,
          2018,
          2018,
          2018,
          2018,
          2018,
          2018,
          2018,
          2018,
          2018,
          2018,
          2018,
          2018,
          2018,
          2018,
          2018,
          2018,
          2018,
          2018,
          2018,
          2018,
          2018,
          2018,
          2018,
          2018,
          2018,
          2018,
          2018,
          2018,
          2018,
          2018,
          2018,
          2018,
          2018,
          2018,
          2018,
          2018,
          2018,
          2018,
          2018,
          2018,
          2018,
          2018,
          2018,
          2018,
          2018,
          2019,
          2019,
          2019,
          2019,
          2019,
          2019,
          2019,
          2019,
          2019,
          2019,
          2019,
          2019,
          2019,
          2019,
          2019,
          2019,
          2019,
          2019,
          2019,
          2019,
          2019,
          2019,
          2019,
          2019,
          2019,
          2019,
          2019,
          2019,
          2019,
          2019,
          2019,
          2019,
          2019,
          2019,
          2019,
          2019,
          2019,
          2019,
          2019,
          2019,
          2019,
          2019,
          2019,
          2019,
          2019,
          2019,
          2019,
          2019,
          2020,
          2020,
          2020,
          2020,
          2020,
          2020,
          2020,
          2020,
          2020,
          2020,
          2020,
          2020,
          2020,
          2020,
          2020,
          2020,
          2020,
          2020,
          2020,
          2020,
          2020,
          2020,
          2020,
          2020,
          2020,
          2020,
          2020,
          2020,
          2020,
          2020,
          2020,
          2020,
          2020,
          2020,
          2020,
          2020,
          2020,
          2020,
          2020,
          2020
         ],
         "xaxis": "x",
         "y": [
          10.746814521328346,
          10.57889554443259,
          12.206634938869286,
          12.426004290285901,
          11.95247277543987,
          12.426004290285901,
          12.426004290285901,
          12.368911838141344,
          12.197634481707674,
          12.197634481707674,
          12.197634481707674,
          12.197634481707674,
          12.197634481707674,
          12.113674993259796,
          12.896177425594017,
          12.761842244077412,
          12.99692881173147,
          12.761842244077412,
          12.896177425594017,
          12.69467465331911,
          12.269235133456025,
          11.284155247394764,
          10.780398316707497,
          10.746814521328346,
          11.082652475119858,
          12.426004290285901,
          12.231218277086825,
          12.600640026257487,
          12.600640026257487,
          12.600640026257487,
          12.530785731868852,
          12.600640026257487,
          12.513322158271693,
          12.426004290285901,
          12.469663224278797,
          12.426004290285901,
          12.426004290285901,
          12.426004290285901,
          12.761842244077412,
          12.54354757411293,
          12.426004290285901,
          11.855079768840332,
          11.47222450151801,
          11.519241815048822,
          11.821495973461182,
          11.552825610427973,
          11.519241815048822,
          12.09016633649439,
          12.593923267181657,
          12.761842244077412,
          10.075138613745326,
          12.426004290285901,
          12.426004290285901,
          12.426004290285901,
          12.426004290285901,
          12.537905496489232,
          12.761842244077412,
          12.761842244077412,
          12.761842244077412,
          12.761842244077412,
          12.761842244077412,
          12.761842244077412,
          12.761842244077412,
          12.761842244077412,
          12.761842244077412,
          12.593923267181657,
          12.926402841435252,
          13.164847788627226,
          13.164847788627226,
          13.030512607110621,
          12.896177425594017,
          12.896177425594017,
          13.433518151660433,
          13.702188514693642,
          13.702188514693642,
          10.12081257546097,
          10.199398656648183,
          10.42709678931883,
          12.761842244077412,
          12.677882755629534,
          12.426004290285901,
          12.426004290285901,
          12.426004290285901,
          12.426004290285901,
          12.426004290285901,
          12.426004290285901,
          12.426004290285901,
          12.426004290285901,
          12.426004290285901,
          12.426004290285901,
          13.782789623603605,
          14.273113036139211,
          14.776869966826476,
          14.776869966826476,
          12.728258448698261,
          12.69467465331911,
          12.896177425594017,
          12.761842244077412,
          12.829009834835714,
          12.842443352987374,
          13.265599174764677,
          13.648454442087,
          10.629271237501317,
          10.595687442122166,
          10.266566247406486,
          10.075138613745326,
          10.05834671605575,
          10.299075361333504,
          10.410976567536837,
          13.396575976743367,
          13.60815388763202,
          13.473818706115415,
          13.272315933840508,
          13.272315933840508,
          13.473818706115415,
          13.352917042750471,
          12.768559003153243,
          12.909610943745676,
          12.197634481707674,
          13.003645570807299,
          13.003645570807299,
          15.78438382820101,
          14.743286171447325,
          13.836523696210246,
          13.36635056090213,
          13.433518151660433,
          13.433518151660433,
          13.433518151660433,
          13.299182970143828,
          13.406651115357112,
          13.702188514693642,
          13.702188514693642,
          13.702188514693642,
          10.102005650048646,
          10.612479339811742,
          10.075138613745326,
          10.075138613745326,
          10.410976567536837,
          11.418490428911369,
          10.54531174905344,
          10.410976567536837,
          10.20947379526193,
          10.276641386020232,
          10.343808976778535,
          10.20947379526193,
          10.343808976778535,
          10.813982112086649,
          11.619993201186276,
          12.184200963556012,
          13.446951669812094,
          14.441032013034967,
          14.441032013034967,
          14.441032013034967,
          14.021234570795578,
          12.761842244077412,
          12.929761220973168,
          12.929761220973168,
          13.51747764010831,
          13.970858877726851,
          14.105194059243455,
          14.357072524587089,
          13.500685742418735,
          12.896177425594017,
          13.164847788627226,
          13.164847788627226,
          12.869310389290696,
          13.218581861233867,
          13.433518151660433,
          13.433518151660433,
          13.433518151660433,
          13.433518151660433,
          13.970858877726851,
          13.970858877726851,
          11.418490428911369,
          12.09016633649439,
          13.097680197868923,
          12.09016633649439,
          11.082652475119858,
          12.09016633649439,
          12.69467465331911,
          12.761842244077412,
          12.761842244077412,
          13.433518151660433,
          14.105194059243455,
          14.105194059243455,
          13.702188514693642,
          12.66780761701579,
          12.533472435499185,
          11.216987656636462,
          11.418490428911369,
          11.552825610427973,
          11.619993201186276,
          13.164847788627226,
          13.433518151660433,
          14.105194059243455,
          15.314210692892894,
          14.642534785309872,
          14.608950989930722,
          14.776869966826476,
          15.045540329859685,
          15.78438382820101,
          15.985886600475917,
          16.12022178199252,
          16.45605973578403,
          16.45605973578403,
          16.623978712679786,
          17.93374673246668,
          18.36899272058048,
          19.779512126504823,
          14.441032013034967,
          15.448545874409499,
          16.12022178199252,
          16.12022178199252,
          15.717216237442708,
          16.523227326542333,
          17.248637306731997,
          17.3829724882486,
          18.135249504741584,
          18.135249504741584,
          20.15027722749065,
          20.15027722749065,
          14.105194059243455,
          14.944788943722232,
          14.776869966826476,
          14.776869966826476,
          13.265599174764677,
          12.761842244077412,
          12.761842244077412,
          12.761842244077412,
          12.761842244077412,
          13.567853333177037,
          14.776869966826476,
          15.448545874409499,
          14.508199603793269,
          13.970858877726851,
          13.970858877726851,
          12.829009834835714,
          12.291669108769296,
          12.761842244077412,
          13.702188514693642,
          13.702188514693642,
          13.702188514693642,
          13.836523696210246,
          13.836523696210246,
          13.836523696210246,
          20.15027722749065,
          19.310682343011873,
          15.868343316648888,
          16.053054191234217,
          16.791897689575542,
          16.791897689575542,
          17.21169513181493,
          17.715452062502198,
          18.135249504741584,
          18.387127970085217,
          17.799411550950076,
          18.672590230808,
          20.15027722749065,
          19.747271682940838,
          19.20993095687442,
          18.806925412324606,
          18.806925412324606,
          18.97484438922036,
          19.344266138391024,
          19.47860131990763,
          19.47860131990763,
          20.284612409007256,
          20.989872111969426,
          21.493629042656693,
          14.743286171447325,
          15.112707920617988,
          15.448545874409499,
          15.448545874409499,
          13.164847788627226,
          13.433518151660433,
          13.769356105451944,
          14.105194059243455,
          14.105194059243455,
          14.105194059243455,
          13.903691286968549,
          14.004442673106002,
          14.91120514834308,
          15.045540329859685,
          14.978372739101383,
          14.306696831518362,
          14.441032013034967,
          14.575367194551571,
          14.776869966826476,
          14.776869966826476,
          14.776869966826476,
          14.642534785309872,
          14.941430564184317,
          15.314210692892894,
          18.94126059384121,
          19.226722854563995,
          19.142763366116117,
          19.142763366116117,
          19.142763366116117,
          19.142763366116117,
          19.277098547632722,
          17.463573597158565,
          17.463573597158565,
          17.463573597158565,
          17.799411550950076,
          18.471087458533095,
          21.627964224173297,
          21.292126270381786,
          21.627964224173297,
          22.165304950239715,
          21.7622994056899,
          21.6951318149316,
          22.26605633637717,
          22.165304950239715,
          22.165304950239715,
          22.165304950239715,
          22.165304950239715,
          22.669061880926982,
          14.105194059243455,
          14.105194059243455,
          14.105194059243455,
          13.836523696210246,
          13.601437128556189,
          14.105194059243455,
          14.105194059243455,
          14.105194059243455,
          14.105194059243455,
          14.776869966826476,
          15.000806714414658,
          16.45605973578403,
          15.639436167344593,
          15.918719009717615,
          15.79781734635267,
          14.914966533425545,
          14.508199603793269,
          14.492215060544606,
          14.68055164167907,
          14.941027558639767,
          15.663482164836065,
          16.68939994607837,
          18.56767311069172,
          18.581779648102778,
          19.05880387766824,
          19.142763366116117,
          19.70253806749581,
          17.463573597158565,
          18.471087458533095,
          19.142763366116117,
          18.806925412324606,
          20.15027722749065,
          20.318196204386407,
          20.37421397507883,
          24.628071832983622,
          24.69980681991349,
          22.836980857822738,
          22.836980857822738,
          22.836980857822738,
          22.836980857822738,
          22.836980857822738,
          22.836980857822738,
          22.836980857822738,
          23.844494719197268,
          24.18033267298878,
          25.05351135284671,
          25.906539755477148,
          25.99654432709327,
          16.791897689575542,
          16.791897689575542,
          16.695982369972686,
          15.165770317317047,
          15.011956534480534,
          16.299290578954153,
          16.89573878488788,
          16.689534281259892,
          16.791897689575542,
          16.852348521258016,
          16.97325018462296,
          17.11551114184904,
          18.389547346704333,
          18.898810676481965,
          18.49580513193215,
          16.84227338264427,
          15.398170181340772,
          16.228898943839454,
          16.483598447994936,
          16.559900831096368,
          16.420863918226683,
          16.54001922423191,
          16.681071164824342,
          17.28960953709456,
          24.084283018204406,
          23.145951775310927,
          21.901336318559586,
          21.68841505585577,
          21.408730551290017,
          21.42646145189839,
          20.692454020091663,
          21.94083086192547,
          23.75744552157451,
          23.575824356164063,
          23.544927264415243,
          21.941771208196084,
          26.601724319825575,
          26.63866649474264,
          26.490897795074375,
          25.523684488154824,
          25.859522441946336,
          26.867036303320866,
          27.471544620145586,
          28.21038811848691,
          28.21038811848691,
          28.882064026069934,
          29.553739933652952,
          29.920071973648735,
          17.96733052784583,
          18.76447549496536,
          18.580974980365493,
          16.791897689575542,
          17.82184552626335,
          15.558433396241897,
          15.051988418572483,
          15.50227994701614,
          16.272826548195383,
          16.481852090635222,
          16.523227326542333,
          16.523227326542333,
          18.054648395831624,
          17.962091455766682,
          17.555188847601073,
          16.508316121393992,
          16.097787806679246,
          16.166030078889683,
          16.395340233738526,
          16.0933547456892,
          16.089727695788252,
          16.179865259234077,
          16.34859159057075,
          16.751597135120562,
          23.870018403685425,
          23.17429649861093,
          21.798972910243936,
          21.30703747553013,
          20.90188256807605,
          21.52479346141673,
          21.30421643671828,
          21.721998851234922,
          22.528681616242128,
          21.789973796434136,
          22.35189651736628,
          22.710301438300764,
          29.889577887444464,
          30.020420354241633,
          29.498795501060847,
          27.053627870447432,
          26.867036303320866,
          26.867036303320866,
          26.867036303320866,
          26.867036303320866,
          26.867036303320866,
          26.867036303320866,
          24.812515380557734,
          24.18033267298878,
          16.523227326542333,
          16.523227326542333,
          16.523227326542333,
          16.688595278341086,
          16.791897689575542,
          16.791897689575542,
          16.791897689575542,
          16.917904089838117,
          18.023348298538256,
          18.135249504741584,
          18.135249504741584,
          18.135249504741584,
          17.201351322838153,
          17.194903234125356,
          17.29081855372821,
          17.262070824883658,
          17.194903234125356,
          17.470021685871362,
          17.36121018884291,
          18.61603511938951,
          21.500748807277073,
          20.85728328781254,
          22.108749838821225,
          23.340737788510005,
          22.152543107995637,
          22.215546308126925,
          22.91086520765687,
          23.4555943687067,
          24.806200283674638,
          24.93099766730357,
          23.66126153160862,
          25.708395362740156,
          27.432721752687286,
          27.622671699351766,
          26.531198349529355,
          30.72030799329496,
          24.777316876296755,
          28.21038811848691,
          28.21038811848691,
          28.21038811848691,
          28.21038811848691,
          28.21038811848691,
          28.51573198607415,
          31.270274883072126,
          32.24044356398504,
          32.57628151777655,
          34.92714719431713,
          34.92714719431713,
          18.135249504741584,
          18.135249504741584,
          20.30530002696081,
          21.79212181598659,
          22.101361403837814,
          22.971316039339342,
          24.18033267298878,
          23.844494719197268,
          23.190549712222623,
          22.836980857822738,
          23.210163992075863,
          23.706263817416684,
          23.796538402747657,
          23.88479527365225,
          23.784446893059346,
          23.636275187846532,
          20.71676868794617,
          21.42646145189839,
          21.41772966509981,
          21.359293861140088,
          21.455209180742948,
          21.550184154075186,
          21.90335134628234,
          22.24590605914968,
          31.56876765640202,
          31.56876765640202,
          31.56876765640202,
          31.32132359540025,
          30.897091748818998,
          30.93067554419815,
          30.897091748818998,
          28.95675573034498,
          30.435380386594613,
          31.024978841622804,
          32.7628717415513,
          33.7959106307658,
          33.030604445017524,
          33.9868009237009,
          32.59401510508856,
          29.553739933652952,
          31.751999500638853,
          33.44946019763448,
          32.24044356398504,
          32.24044356398504,
          31.60409646578907,
          30.897091748818998,
          32.80613035670328,
          33.583795379151084,
          24.18033267298878,
          24.18033267298878,
          24.18033267298878,
          24.012413696093024,
          23.50865676540576,
          23.50865676540576,
          23.50865676540576,
          23.50865676540576,
          22.4419010889824,
          21.829466996448204,
          22.123392373606535,
          20.362392479105367,
          22.195530366080952,
          21.99738597334396,
          22.30635689083215,
          22.702645676306133,
          23.553390380850786,
          24.532155170028954,
          24.775704854118555,
          24.498439726171917,
          23.61854428723816,
          23.768326671277354,
          23.083217245542674,
          22.83093577465449,
          31.851543213494473,
          33.14921972359305,
          32.501589813501504,
          30.225415841235975,
          30.225415841235975,
          29.150734389103143,
          27.630330148050028,
          28.844718845608313,
          29.553739933652952,
          28.47905848152012,
          28.732816296053173,
          28.882064026069934,
          32.55653424609361,
          33.44946019763448,
          32.98681117584311,
          30.981051237266875,
          30.897091748818998,
          31.85664660704029,
          30.897091748818998,
          31.732925248215306,
          31.87411152398926,
          31.541900620098698,
          32.24044356398504,
          32.24044356398504,
          20.15027722749065,
          20.15027722749065,
          21.493629042656693,
          20.782459935059606,
          21.493629042656693,
          19.59708360665346,
          20.15027722749065,
          18.806925412324606,
          21.224958679623484,
          21.493629042656693,
          21.89058950403826,
          22.04843334232027,
          22.90414844858104,
          22.97803279841517,
          23.297616195243172,
          23.543986918144626,
          22.3399406862113,
          22.238517624166267,
          22.10109273347478,
          22.56186240607673,
          22.64501588343551,
          22.682495399078643,
          22.820726300859228,
          22.778545053863017,
          29.318653365998895,
          28.807372321794883,
          27.666599303707695,
          26.867036303320866,
          29.73052368917699,
          28.93808045341054,
          27.53871221090389,
          28.680561253795027,
          29.4529885475155,
          31.536797226552885,
          31.938189405572682,
          31.56876765640202,
          32.24044356398504,
          31.90460561019353,
          30.75563680268201,
          31.13419200084399,
          28.882064026069934,
          28.882064026069934,
          28.51573198607415,
          30.762756567302393,
          31.109207000433717,
          32.09898861784805,
          33.10408444595529,
          33.2221664138602,
          21.493629042656693,
          21.493629042656693,
          21.493629042656693,
          20.913568385516182,
          19.47860131990763,
          19.8278727918508,
          21.287021533484154,
          22.63547808554783,
          22.29964013175632,
          24.43865922704521,
          26.040337596267683,
          28.974753957964573,
          22.897431689505208,
          23.02693080448722,
          22.991466316566832,
          21.901067648196555,
          22.518472142446868,
          24.124314902296355,
          24.015637740449424,
          24.24750026374708,
          24.444569975031943,
          25.42414211865102,
          29.217901979861445,
          28.011033365764455,
          31.36430951013375,
          32.59092539591367,
          32.21263483805929,
          31.922339197505536,
          31.539618265364734,
          31.848589182852923,
          32.24044356398504,
          32.24044356398504,
          32.24044356398504,
          32.24044356398504,
          33.15633948821343,
          34.50734975207774,
          32.91211947156806,
          33.53583637599784,
          31.971773200951834,
          29.877086058915236,
          30.897091748818998,
          31.613502615198865,
          32.91211947156806,
          33.583795379151084,
          33.259511594321815,
          31.37680268201479,
          34.25547128673411,
          36.84626094081515,
          28.38945825880036,
          27.346747236516663,
          25.567074751784688,
          23.35941037874081,
          22.165304950239715,
          22.165304950239715,
          22.078658758161506,
          22.165304950239715,
          21.93962184529182,
          21.993355917898462,
          22.165304950239715,
          22.098137359481413,
          27.63637388786646,
          26.485658722995225,
          25.420649403931588,
          23.550300671675906,
          23.36532112672754,
          23.51537352448159,
          23.679799786657913,
          23.860211935434712,
          23.808627225732334,
          24.129419639193987,
          24.852008580571802,
          24.186780761701577,
          33.5546459881138,
          34.25547128673411,
          32.386467249645406,
          30.993005725070038,
          30.897091748818998,
          30.897091748818998,
          30.897091748818998,
          30.897091748818998,
          30.897091748818998,
          30.897091748818998,
          30.897091748818998,
          32.24044356398504,
          35.43896557924721,
          33.534091361989944,
          33.583795379151084,
          32.768246492163776,
          32.24044356398504,
          32.24044356398504,
          31.37371297283991,
          31.89372311713887,
          32.24044356398504,
          31.980503644398595,
          32.24044356398504,
          34.00063744739711,
          22.63292706045083,
          23.146489116036992,
          22.433975313272924,
          21.984221125555333,
          21.30018638127278,
          21.456015191832044,
          23.121099766730357,
          26.082518843263898,
          26.03053112801697,
          26.547182892778018,
          27.15249856404365,
          27.56557924720721,
          24.29008451628785,
          24.098792561160018,
          23.965396382562215,
          23.84677841728305,
          23.597452320388232,
          23.62727473068492,
          25.519387105698108,
          26.616232519429367,
          27.140139727344124,
          27.471544620145586,
          27.547979995076716,
          27.787903972617194,
          31.90460561019353,
          32.84495188080976,
          33.15633948821343,
          31.56876765640202,
          33.30397385270018,
          35.97845432486608,
          34.08755230983835,
          35.47671107854974,
          36.13616382796657,
          36.737716770797924,
          37.94968877844072,
          40.53416199228686,
          33.494195156431324,
          34.92714719431713,
          34.09332737929175,
          33.583795379151084,
          33.583795379151084,
          35.75559091537821,
          34.92714719431713,
          36.91906926584534,
          38.26242108101138,
          37.65724108827908,
          39.09610656085524,
          38.77813249950181,
          28.358694158881242,
          28.643887749240992,
          28.677605879801664,
          24.532155170028954,
          22.997645734916595,
          24.764422042222975,
          24.52866514201315,
          24.852008580571802,
          23.936109969639777,
          24.583338217538593,
          25.21834062056758,
          24.93596806901968,
          28.19695460033525,
          28.109636732349458,
          27.872267809961436,
          26.03415817791792,
          26.307261601941175,
          27.05282185935833,
          28.002437257499206,
          29.009682448510706,
          28.998531285093012,
          29.723941265282676,
          30.33288398644926,
          30.578583033443127,
          41.26776776190085,
          42.79529311092616,
          40.422666478331706,
          37.74818600616582,
          37.08819860272656,
          39.07931466316566,
          40.676692963227794,
          41.64390627014735,
          42.0681381167286,
          42.987258085313385,
          41.29342443821871,
          40.709335068984515,
          38.20318060931437,
          38.189612755981194,
          37.61385082464921,
          37.61385082464921,
          37.61385082464921,
          37.61385082464921,
          37.3105206414329,
          37.61385082464921,
          37.61385082464921,
          37.61385082464921,
          38.63291885498599,
          40.90721079135847,
          24.852008580571802,
          26.279319884185725,
          28.154371691146302,
          25.501249169489736,
          24.18033267298878,
          24.18033267298878,
          24.18033267298878,
          24.18033267298878,
          24.12861362810489,
          22.810113821519415,
          31.15004623896658,
          29.630445322298936,
          29.646429865547596,
          29.329803186064773,
          27.040328687477288,
          26.432730661477688,
          26.360055328277202,
          25.219145288304865,
          24.567619657949336,
          24.303115028894958,
          42.77232179488682,
          43.90637805389818,
          41.16983741457525,
          39.96471650118979,
          40.004209701203855,
          39.852813951634644,
          37.61385082464921,
          36.5903510766742,
          33.522671528209216,
          37.2780128708577,
          42.813967044508786,
          45.30332960648935,
          40.57849260218734,
          43.22086427926713,
          45.18135460502408,
          45.673961715645476,
          46.569573027464855,
          45.77726412687993,
          42.987258085313385,
          42.18124699621376
         ],
         "yaxis": "y"
        }
       ],
       "layout": {
        "barmode": "relative",
        "legend": {
         "tracegroupgap": 0
        },
        "margin": {
         "t": 60
        },
        "template": {
         "data": {
          "bar": [
           {
            "error_x": {
             "color": "#2a3f5f"
            },
            "error_y": {
             "color": "#2a3f5f"
            },
            "marker": {
             "line": {
              "color": "#E5ECF6",
              "width": 0.5
             }
            },
            "type": "bar"
           }
          ],
          "barpolar": [
           {
            "marker": {
             "line": {
              "color": "#E5ECF6",
              "width": 0.5
             }
            },
            "type": "barpolar"
           }
          ],
          "carpet": [
           {
            "aaxis": {
             "endlinecolor": "#2a3f5f",
             "gridcolor": "white",
             "linecolor": "white",
             "minorgridcolor": "white",
             "startlinecolor": "#2a3f5f"
            },
            "baxis": {
             "endlinecolor": "#2a3f5f",
             "gridcolor": "white",
             "linecolor": "white",
             "minorgridcolor": "white",
             "startlinecolor": "#2a3f5f"
            },
            "type": "carpet"
           }
          ],
          "choropleth": [
           {
            "colorbar": {
             "outlinewidth": 0,
             "ticks": ""
            },
            "type": "choropleth"
           }
          ],
          "contour": [
           {
            "colorbar": {
             "outlinewidth": 0,
             "ticks": ""
            },
            "colorscale": [
             [
              0,
              "#0d0887"
             ],
             [
              0.1111111111111111,
              "#46039f"
             ],
             [
              0.2222222222222222,
              "#7201a8"
             ],
             [
              0.3333333333333333,
              "#9c179e"
             ],
             [
              0.4444444444444444,
              "#bd3786"
             ],
             [
              0.5555555555555556,
              "#d8576b"
             ],
             [
              0.6666666666666666,
              "#ed7953"
             ],
             [
              0.7777777777777778,
              "#fb9f3a"
             ],
             [
              0.8888888888888888,
              "#fdca26"
             ],
             [
              1,
              "#f0f921"
             ]
            ],
            "type": "contour"
           }
          ],
          "contourcarpet": [
           {
            "colorbar": {
             "outlinewidth": 0,
             "ticks": ""
            },
            "type": "contourcarpet"
           }
          ],
          "heatmap": [
           {
            "colorbar": {
             "outlinewidth": 0,
             "ticks": ""
            },
            "colorscale": [
             [
              0,
              "#0d0887"
             ],
             [
              0.1111111111111111,
              "#46039f"
             ],
             [
              0.2222222222222222,
              "#7201a8"
             ],
             [
              0.3333333333333333,
              "#9c179e"
             ],
             [
              0.4444444444444444,
              "#bd3786"
             ],
             [
              0.5555555555555556,
              "#d8576b"
             ],
             [
              0.6666666666666666,
              "#ed7953"
             ],
             [
              0.7777777777777778,
              "#fb9f3a"
             ],
             [
              0.8888888888888888,
              "#fdca26"
             ],
             [
              1,
              "#f0f921"
             ]
            ],
            "type": "heatmap"
           }
          ],
          "heatmapgl": [
           {
            "colorbar": {
             "outlinewidth": 0,
             "ticks": ""
            },
            "colorscale": [
             [
              0,
              "#0d0887"
             ],
             [
              0.1111111111111111,
              "#46039f"
             ],
             [
              0.2222222222222222,
              "#7201a8"
             ],
             [
              0.3333333333333333,
              "#9c179e"
             ],
             [
              0.4444444444444444,
              "#bd3786"
             ],
             [
              0.5555555555555556,
              "#d8576b"
             ],
             [
              0.6666666666666666,
              "#ed7953"
             ],
             [
              0.7777777777777778,
              "#fb9f3a"
             ],
             [
              0.8888888888888888,
              "#fdca26"
             ],
             [
              1,
              "#f0f921"
             ]
            ],
            "type": "heatmapgl"
           }
          ],
          "histogram": [
           {
            "marker": {
             "colorbar": {
              "outlinewidth": 0,
              "ticks": ""
             }
            },
            "type": "histogram"
           }
          ],
          "histogram2d": [
           {
            "colorbar": {
             "outlinewidth": 0,
             "ticks": ""
            },
            "colorscale": [
             [
              0,
              "#0d0887"
             ],
             [
              0.1111111111111111,
              "#46039f"
             ],
             [
              0.2222222222222222,
              "#7201a8"
             ],
             [
              0.3333333333333333,
              "#9c179e"
             ],
             [
              0.4444444444444444,
              "#bd3786"
             ],
             [
              0.5555555555555556,
              "#d8576b"
             ],
             [
              0.6666666666666666,
              "#ed7953"
             ],
             [
              0.7777777777777778,
              "#fb9f3a"
             ],
             [
              0.8888888888888888,
              "#fdca26"
             ],
             [
              1,
              "#f0f921"
             ]
            ],
            "type": "histogram2d"
           }
          ],
          "histogram2dcontour": [
           {
            "colorbar": {
             "outlinewidth": 0,
             "ticks": ""
            },
            "colorscale": [
             [
              0,
              "#0d0887"
             ],
             [
              0.1111111111111111,
              "#46039f"
             ],
             [
              0.2222222222222222,
              "#7201a8"
             ],
             [
              0.3333333333333333,
              "#9c179e"
             ],
             [
              0.4444444444444444,
              "#bd3786"
             ],
             [
              0.5555555555555556,
              "#d8576b"
             ],
             [
              0.6666666666666666,
              "#ed7953"
             ],
             [
              0.7777777777777778,
              "#fb9f3a"
             ],
             [
              0.8888888888888888,
              "#fdca26"
             ],
             [
              1,
              "#f0f921"
             ]
            ],
            "type": "histogram2dcontour"
           }
          ],
          "mesh3d": [
           {
            "colorbar": {
             "outlinewidth": 0,
             "ticks": ""
            },
            "type": "mesh3d"
           }
          ],
          "parcoords": [
           {
            "line": {
             "colorbar": {
              "outlinewidth": 0,
              "ticks": ""
             }
            },
            "type": "parcoords"
           }
          ],
          "pie": [
           {
            "automargin": true,
            "type": "pie"
           }
          ],
          "scatter": [
           {
            "marker": {
             "colorbar": {
              "outlinewidth": 0,
              "ticks": ""
             }
            },
            "type": "scatter"
           }
          ],
          "scatter3d": [
           {
            "line": {
             "colorbar": {
              "outlinewidth": 0,
              "ticks": ""
             }
            },
            "marker": {
             "colorbar": {
              "outlinewidth": 0,
              "ticks": ""
             }
            },
            "type": "scatter3d"
           }
          ],
          "scattercarpet": [
           {
            "marker": {
             "colorbar": {
              "outlinewidth": 0,
              "ticks": ""
             }
            },
            "type": "scattercarpet"
           }
          ],
          "scattergeo": [
           {
            "marker": {
             "colorbar": {
              "outlinewidth": 0,
              "ticks": ""
             }
            },
            "type": "scattergeo"
           }
          ],
          "scattergl": [
           {
            "marker": {
             "colorbar": {
              "outlinewidth": 0,
              "ticks": ""
             }
            },
            "type": "scattergl"
           }
          ],
          "scattermapbox": [
           {
            "marker": {
             "colorbar": {
              "outlinewidth": 0,
              "ticks": ""
             }
            },
            "type": "scattermapbox"
           }
          ],
          "scatterpolar": [
           {
            "marker": {
             "colorbar": {
              "outlinewidth": 0,
              "ticks": ""
             }
            },
            "type": "scatterpolar"
           }
          ],
          "scatterpolargl": [
           {
            "marker": {
             "colorbar": {
              "outlinewidth": 0,
              "ticks": ""
             }
            },
            "type": "scatterpolargl"
           }
          ],
          "scatterternary": [
           {
            "marker": {
             "colorbar": {
              "outlinewidth": 0,
              "ticks": ""
             }
            },
            "type": "scatterternary"
           }
          ],
          "surface": [
           {
            "colorbar": {
             "outlinewidth": 0,
             "ticks": ""
            },
            "colorscale": [
             [
              0,
              "#0d0887"
             ],
             [
              0.1111111111111111,
              "#46039f"
             ],
             [
              0.2222222222222222,
              "#7201a8"
             ],
             [
              0.3333333333333333,
              "#9c179e"
             ],
             [
              0.4444444444444444,
              "#bd3786"
             ],
             [
              0.5555555555555556,
              "#d8576b"
             ],
             [
              0.6666666666666666,
              "#ed7953"
             ],
             [
              0.7777777777777778,
              "#fb9f3a"
             ],
             [
              0.8888888888888888,
              "#fdca26"
             ],
             [
              1,
              "#f0f921"
             ]
            ],
            "type": "surface"
           }
          ],
          "table": [
           {
            "cells": {
             "fill": {
              "color": "#EBF0F8"
             },
             "line": {
              "color": "white"
             }
            },
            "header": {
             "fill": {
              "color": "#C8D4E3"
             },
             "line": {
              "color": "white"
             }
            },
            "type": "table"
           }
          ]
         },
         "layout": {
          "annotationdefaults": {
           "arrowcolor": "#2a3f5f",
           "arrowhead": 0,
           "arrowwidth": 1
          },
          "coloraxis": {
           "colorbar": {
            "outlinewidth": 0,
            "ticks": ""
           }
          },
          "colorscale": {
           "diverging": [
            [
             0,
             "#8e0152"
            ],
            [
             0.1,
             "#c51b7d"
            ],
            [
             0.2,
             "#de77ae"
            ],
            [
             0.3,
             "#f1b6da"
            ],
            [
             0.4,
             "#fde0ef"
            ],
            [
             0.5,
             "#f7f7f7"
            ],
            [
             0.6,
             "#e6f5d0"
            ],
            [
             0.7,
             "#b8e186"
            ],
            [
             0.8,
             "#7fbc41"
            ],
            [
             0.9,
             "#4d9221"
            ],
            [
             1,
             "#276419"
            ]
           ],
           "sequential": [
            [
             0,
             "#0d0887"
            ],
            [
             0.1111111111111111,
             "#46039f"
            ],
            [
             0.2222222222222222,
             "#7201a8"
            ],
            [
             0.3333333333333333,
             "#9c179e"
            ],
            [
             0.4444444444444444,
             "#bd3786"
            ],
            [
             0.5555555555555556,
             "#d8576b"
            ],
            [
             0.6666666666666666,
             "#ed7953"
            ],
            [
             0.7777777777777778,
             "#fb9f3a"
            ],
            [
             0.8888888888888888,
             "#fdca26"
            ],
            [
             1,
             "#f0f921"
            ]
           ],
           "sequentialminus": [
            [
             0,
             "#0d0887"
            ],
            [
             0.1111111111111111,
             "#46039f"
            ],
            [
             0.2222222222222222,
             "#7201a8"
            ],
            [
             0.3333333333333333,
             "#9c179e"
            ],
            [
             0.4444444444444444,
             "#bd3786"
            ],
            [
             0.5555555555555556,
             "#d8576b"
            ],
            [
             0.6666666666666666,
             "#ed7953"
            ],
            [
             0.7777777777777778,
             "#fb9f3a"
            ],
            [
             0.8888888888888888,
             "#fdca26"
            ],
            [
             1,
             "#f0f921"
            ]
           ]
          },
          "colorway": [
           "#636efa",
           "#EF553B",
           "#00cc96",
           "#ab63fa",
           "#FFA15A",
           "#19d3f3",
           "#FF6692",
           "#B6E880",
           "#FF97FF",
           "#FECB52"
          ],
          "font": {
           "color": "#2a3f5f"
          },
          "geo": {
           "bgcolor": "white",
           "lakecolor": "white",
           "landcolor": "#E5ECF6",
           "showlakes": true,
           "showland": true,
           "subunitcolor": "white"
          },
          "hoverlabel": {
           "align": "left"
          },
          "hovermode": "closest",
          "mapbox": {
           "style": "light"
          },
          "paper_bgcolor": "white",
          "plot_bgcolor": "#E5ECF6",
          "polar": {
           "angularaxis": {
            "gridcolor": "white",
            "linecolor": "white",
            "ticks": ""
           },
           "bgcolor": "#E5ECF6",
           "radialaxis": {
            "gridcolor": "white",
            "linecolor": "white",
            "ticks": ""
           }
          },
          "scene": {
           "xaxis": {
            "backgroundcolor": "#E5ECF6",
            "gridcolor": "white",
            "gridwidth": 2,
            "linecolor": "white",
            "showbackground": true,
            "ticks": "",
            "zerolinecolor": "white"
           },
           "yaxis": {
            "backgroundcolor": "#E5ECF6",
            "gridcolor": "white",
            "gridwidth": 2,
            "linecolor": "white",
            "showbackground": true,
            "ticks": "",
            "zerolinecolor": "white"
           },
           "zaxis": {
            "backgroundcolor": "#E5ECF6",
            "gridcolor": "white",
            "gridwidth": 2,
            "linecolor": "white",
            "showbackground": true,
            "ticks": "",
            "zerolinecolor": "white"
           }
          },
          "shapedefaults": {
           "line": {
            "color": "#2a3f5f"
           }
          },
          "ternary": {
           "aaxis": {
            "gridcolor": "white",
            "linecolor": "white",
            "ticks": ""
           },
           "baxis": {
            "gridcolor": "white",
            "linecolor": "white",
            "ticks": ""
           },
           "bgcolor": "#E5ECF6",
           "caxis": {
            "gridcolor": "white",
            "linecolor": "white",
            "ticks": ""
           }
          },
          "title": {
           "x": 0.05
          },
          "xaxis": {
           "automargin": true,
           "gridcolor": "white",
           "linecolor": "white",
           "ticks": "",
           "title": {
            "standoff": 15
           },
           "zerolinecolor": "white",
           "zerolinewidth": 2
          },
          "yaxis": {
           "automargin": true,
           "gridcolor": "white",
           "linecolor": "white",
           "ticks": "",
           "title": {
            "standoff": 15
           },
           "zerolinecolor": "white",
           "zerolinewidth": 2
          }
         }
        },
        "xaxis": {
         "anchor": "y",
         "domain": [
          0,
          1
         ],
         "title": {
          "text": "Year"
         }
        },
        "yaxis": {
         "anchor": "x",
         "domain": [
          0,
          1
         ],
         "title": {
          "text": "Price in $"
         }
        }
       }
      },
      "text/html": [
       "<div>\n",
       "        \n",
       "        \n",
       "            <div id=\"0b86bd6b-6695-44fd-8e7f-7578e27cfbcf\" class=\"plotly-graph-div\" style=\"height:525px; width:100%;\"></div>\n",
       "            <script type=\"text/javascript\">\n",
       "                require([\"plotly\"], function(Plotly) {\n",
       "                    window.PLOTLYENV=window.PLOTLYENV || {};\n",
       "                    \n",
       "                if (document.getElementById(\"0b86bd6b-6695-44fd-8e7f-7578e27cfbcf\")) {\n",
       "                    Plotly.newPlot(\n",
       "                        '0b86bd6b-6695-44fd-8e7f-7578e27cfbcf',\n",
       "                        [{\"alignmentgroup\": \"True\", \"hovertemplate\": \"Year=%{x}<br>Price in $=%{y}<extra></extra>\", \"legendgroup\": \"\", \"marker\": {\"color\": \"#636efa\"}, \"name\": \"\", \"offsetgroup\": \"\", \"orientation\": \"v\", \"showlegend\": false, \"textposition\": \"auto\", \"type\": \"bar\", \"x\": [2000, 2000, 2000, 2000, 2000, 2000, 2000, 2000, 2000, 2000, 2000, 2000, 2000, 2000, 2000, 2000, 2000, 2000, 2000, 2000, 2000, 2000, 2000, 2000, 2000, 2000, 2001, 2001, 2001, 2001, 2001, 2001, 2001, 2001, 2001, 2001, 2001, 2001, 2001, 2001, 2001, 2001, 2001, 2001, 2001, 2001, 2001, 2001, 2001, 2001, 2002, 2002, 2002, 2002, 2002, 2002, 2002, 2002, 2002, 2002, 2002, 2002, 2002, 2002, 2002, 2002, 2002, 2002, 2002, 2002, 2002, 2002, 2002, 2002, 2002, 2003, 2003, 2003, 2003, 2003, 2003, 2003, 2003, 2003, 2003, 2003, 2003, 2003, 2003, 2003, 2003, 2003, 2003, 2003, 2003, 2003, 2003, 2003, 2003, 2003, 2003, 2003, 2004, 2004, 2004, 2004, 2004, 2004, 2004, 2004, 2004, 2004, 2004, 2004, 2004, 2004, 2004, 2004, 2004, 2004, 2004, 2004, 2004, 2004, 2004, 2004, 2004, 2004, 2004, 2004, 2004, 2004, 2004, 2005, 2005, 2005, 2005, 2005, 2005, 2005, 2005, 2005, 2005, 2005, 2005, 2005, 2005, 2005, 2005, 2005, 2005, 2005, 2005, 2005, 2005, 2005, 2005, 2005, 2005, 2005, 2005, 2005, 2005, 2005, 2005, 2005, 2005, 2005, 2005, 2005, 2005, 2005, 2005, 2006, 2006, 2006, 2006, 2006, 2006, 2006, 2006, 2006, 2006, 2006, 2006, 2006, 2006, 2006, 2006, 2006, 2006, 2006, 2006, 2006, 2006, 2006, 2006, 2006, 2006, 2006, 2006, 2006, 2006, 2006, 2006, 2006, 2006, 2006, 2006, 2006, 2006, 2006, 2006, 2006, 2006, 2006, 2006, 2006, 2006, 2006, 2006, 2007, 2007, 2007, 2007, 2007, 2007, 2007, 2007, 2007, 2007, 2007, 2007, 2007, 2007, 2007, 2007, 2007, 2007, 2007, 2007, 2007, 2007, 2007, 2007, 2007, 2007, 2007, 2007, 2007, 2007, 2007, 2007, 2007, 2007, 2007, 2007, 2007, 2007, 2007, 2007, 2007, 2007, 2007, 2007, 2007, 2007, 2007, 2007, 2008, 2008, 2008, 2008, 2008, 2008, 2008, 2008, 2008, 2008, 2008, 2008, 2008, 2008, 2008, 2008, 2008, 2008, 2008, 2008, 2008, 2008, 2008, 2008, 2008, 2008, 2008, 2008, 2008, 2008, 2008, 2008, 2008, 2008, 2008, 2008, 2008, 2008, 2008, 2008, 2008, 2008, 2008, 2008, 2008, 2008, 2008, 2008, 2009, 2009, 2009, 2009, 2009, 2009, 2009, 2009, 2009, 2009, 2009, 2009, 2009, 2009, 2009, 2009, 2009, 2009, 2009, 2009, 2009, 2009, 2009, 2009, 2009, 2009, 2009, 2009, 2009, 2009, 2009, 2009, 2009, 2009, 2009, 2009, 2009, 2009, 2009, 2009, 2009, 2009, 2009, 2009, 2009, 2009, 2009, 2009, 2010, 2010, 2010, 2010, 2010, 2010, 2010, 2010, 2010, 2010, 2010, 2010, 2010, 2010, 2010, 2010, 2010, 2010, 2010, 2010, 2010, 2010, 2010, 2010, 2010, 2010, 2010, 2010, 2010, 2010, 2010, 2010, 2010, 2010, 2010, 2010, 2010, 2010, 2010, 2010, 2010, 2010, 2010, 2010, 2010, 2010, 2010, 2010, 2011, 2011, 2011, 2011, 2011, 2011, 2011, 2011, 2011, 2011, 2011, 2011, 2011, 2011, 2011, 2011, 2011, 2011, 2011, 2011, 2011, 2011, 2011, 2011, 2011, 2011, 2011, 2011, 2011, 2011, 2011, 2011, 2011, 2011, 2011, 2011, 2011, 2011, 2011, 2011, 2011, 2011, 2011, 2011, 2011, 2011, 2011, 2011, 2012, 2012, 2012, 2012, 2012, 2012, 2012, 2012, 2012, 2012, 2012, 2012, 2012, 2012, 2012, 2012, 2012, 2012, 2012, 2012, 2012, 2012, 2012, 2012, 2012, 2012, 2012, 2012, 2012, 2012, 2012, 2012, 2012, 2012, 2012, 2012, 2012, 2012, 2012, 2012, 2012, 2012, 2012, 2012, 2012, 2012, 2012, 2012, 2013, 2013, 2013, 2013, 2013, 2013, 2013, 2013, 2013, 2013, 2013, 2013, 2013, 2013, 2013, 2013, 2013, 2013, 2013, 2013, 2013, 2013, 2013, 2013, 2013, 2013, 2013, 2013, 2013, 2013, 2013, 2013, 2013, 2013, 2013, 2013, 2013, 2013, 2013, 2013, 2013, 2013, 2013, 2013, 2013, 2013, 2013, 2013, 2014, 2014, 2014, 2014, 2014, 2014, 2014, 2014, 2014, 2014, 2014, 2014, 2014, 2014, 2014, 2014, 2014, 2014, 2014, 2014, 2014, 2014, 2014, 2014, 2014, 2014, 2014, 2014, 2014, 2014, 2014, 2014, 2014, 2014, 2014, 2014, 2014, 2014, 2014, 2014, 2014, 2014, 2014, 2014, 2014, 2014, 2014, 2014, 2015, 2015, 2015, 2015, 2015, 2015, 2015, 2015, 2015, 2015, 2015, 2015, 2015, 2015, 2015, 2015, 2015, 2015, 2015, 2015, 2015, 2015, 2015, 2015, 2015, 2015, 2015, 2015, 2015, 2015, 2015, 2015, 2015, 2015, 2015, 2015, 2015, 2015, 2015, 2015, 2015, 2015, 2015, 2015, 2015, 2015, 2015, 2015, 2016, 2016, 2016, 2016, 2016, 2016, 2016, 2016, 2016, 2016, 2016, 2016, 2016, 2016, 2016, 2016, 2016, 2016, 2016, 2016, 2016, 2016, 2016, 2016, 2016, 2016, 2016, 2016, 2016, 2016, 2016, 2016, 2016, 2016, 2016, 2016, 2016, 2016, 2016, 2016, 2016, 2016, 2016, 2016, 2016, 2016, 2016, 2016, 2017, 2017, 2017, 2017, 2017, 2017, 2017, 2017, 2017, 2017, 2017, 2017, 2017, 2017, 2017, 2017, 2017, 2017, 2017, 2017, 2017, 2017, 2017, 2017, 2017, 2017, 2017, 2017, 2017, 2017, 2017, 2017, 2017, 2017, 2017, 2017, 2017, 2017, 2017, 2017, 2017, 2017, 2017, 2017, 2017, 2017, 2017, 2017, 2018, 2018, 2018, 2018, 2018, 2018, 2018, 2018, 2018, 2018, 2018, 2018, 2018, 2018, 2018, 2018, 2018, 2018, 2018, 2018, 2018, 2018, 2018, 2018, 2018, 2018, 2018, 2018, 2018, 2018, 2018, 2018, 2018, 2018, 2018, 2018, 2018, 2018, 2018, 2018, 2018, 2018, 2018, 2018, 2018, 2018, 2018, 2018, 2019, 2019, 2019, 2019, 2019, 2019, 2019, 2019, 2019, 2019, 2019, 2019, 2019, 2019, 2019, 2019, 2019, 2019, 2019, 2019, 2019, 2019, 2019, 2019, 2019, 2019, 2019, 2019, 2019, 2019, 2019, 2019, 2019, 2019, 2019, 2019, 2019, 2019, 2019, 2019, 2019, 2019, 2019, 2019, 2019, 2019, 2019, 2019, 2020, 2020, 2020, 2020, 2020, 2020, 2020, 2020, 2020, 2020, 2020, 2020, 2020, 2020, 2020, 2020, 2020, 2020, 2020, 2020, 2020, 2020, 2020, 2020, 2020, 2020, 2020, 2020, 2020, 2020, 2020, 2020, 2020, 2020, 2020, 2020, 2020, 2020, 2020, 2020], \"xaxis\": \"x\", \"y\": [10.746814521328346, 10.57889554443259, 12.206634938869286, 12.426004290285901, 11.95247277543987, 12.426004290285901, 12.426004290285901, 12.368911838141344, 12.197634481707674, 12.197634481707674, 12.197634481707674, 12.197634481707674, 12.197634481707674, 12.113674993259796, 12.896177425594017, 12.761842244077412, 12.99692881173147, 12.761842244077412, 12.896177425594017, 12.69467465331911, 12.269235133456025, 11.284155247394764, 10.780398316707497, 10.746814521328346, 11.082652475119858, 12.426004290285901, 12.231218277086825, 12.600640026257487, 12.600640026257487, 12.600640026257487, 12.530785731868852, 12.600640026257487, 12.513322158271693, 12.426004290285901, 12.469663224278797, 12.426004290285901, 12.426004290285901, 12.426004290285901, 12.761842244077412, 12.54354757411293, 12.426004290285901, 11.855079768840332, 11.47222450151801, 11.519241815048822, 11.821495973461182, 11.552825610427973, 11.519241815048822, 12.09016633649439, 12.593923267181657, 12.761842244077412, 10.075138613745326, 12.426004290285901, 12.426004290285901, 12.426004290285901, 12.426004290285901, 12.537905496489232, 12.761842244077412, 12.761842244077412, 12.761842244077412, 12.761842244077412, 12.761842244077412, 12.761842244077412, 12.761842244077412, 12.761842244077412, 12.761842244077412, 12.593923267181657, 12.926402841435252, 13.164847788627226, 13.164847788627226, 13.030512607110621, 12.896177425594017, 12.896177425594017, 13.433518151660433, 13.702188514693642, 13.702188514693642, 10.12081257546097, 10.199398656648183, 10.42709678931883, 12.761842244077412, 12.677882755629534, 12.426004290285901, 12.426004290285901, 12.426004290285901, 12.426004290285901, 12.426004290285901, 12.426004290285901, 12.426004290285901, 12.426004290285901, 12.426004290285901, 12.426004290285901, 13.782789623603605, 14.273113036139211, 14.776869966826476, 14.776869966826476, 12.728258448698261, 12.69467465331911, 12.896177425594017, 12.761842244077412, 12.829009834835714, 12.842443352987374, 13.265599174764677, 13.648454442087, 10.629271237501317, 10.595687442122166, 10.266566247406486, 10.075138613745326, 10.05834671605575, 10.299075361333504, 10.410976567536837, 13.396575976743367, 13.60815388763202, 13.473818706115415, 13.272315933840508, 13.272315933840508, 13.473818706115415, 13.352917042750471, 12.768559003153243, 12.909610943745676, 12.197634481707674, 13.003645570807299, 13.003645570807299, 15.78438382820101, 14.743286171447325, 13.836523696210246, 13.36635056090213, 13.433518151660433, 13.433518151660433, 13.433518151660433, 13.299182970143828, 13.406651115357112, 13.702188514693642, 13.702188514693642, 13.702188514693642, 10.102005650048646, 10.612479339811742, 10.075138613745326, 10.075138613745326, 10.410976567536837, 11.418490428911369, 10.54531174905344, 10.410976567536837, 10.20947379526193, 10.276641386020232, 10.343808976778535, 10.20947379526193, 10.343808976778535, 10.813982112086649, 11.619993201186276, 12.184200963556012, 13.446951669812094, 14.441032013034967, 14.441032013034967, 14.441032013034967, 14.021234570795578, 12.761842244077412, 12.929761220973168, 12.929761220973168, 13.51747764010831, 13.970858877726851, 14.105194059243455, 14.357072524587089, 13.500685742418735, 12.896177425594017, 13.164847788627226, 13.164847788627226, 12.869310389290696, 13.218581861233867, 13.433518151660433, 13.433518151660433, 13.433518151660433, 13.433518151660433, 13.970858877726851, 13.970858877726851, 11.418490428911369, 12.09016633649439, 13.097680197868923, 12.09016633649439, 11.082652475119858, 12.09016633649439, 12.69467465331911, 12.761842244077412, 12.761842244077412, 13.433518151660433, 14.105194059243455, 14.105194059243455, 13.702188514693642, 12.66780761701579, 12.533472435499185, 11.216987656636462, 11.418490428911369, 11.552825610427973, 11.619993201186276, 13.164847788627226, 13.433518151660433, 14.105194059243455, 15.314210692892894, 14.642534785309872, 14.608950989930722, 14.776869966826476, 15.045540329859685, 15.78438382820101, 15.985886600475917, 16.12022178199252, 16.45605973578403, 16.45605973578403, 16.623978712679786, 17.93374673246668, 18.36899272058048, 19.779512126504823, 14.441032013034967, 15.448545874409499, 16.12022178199252, 16.12022178199252, 15.717216237442708, 16.523227326542333, 17.248637306731997, 17.3829724882486, 18.135249504741584, 18.135249504741584, 20.15027722749065, 20.15027722749065, 14.105194059243455, 14.944788943722232, 14.776869966826476, 14.776869966826476, 13.265599174764677, 12.761842244077412, 12.761842244077412, 12.761842244077412, 12.761842244077412, 13.567853333177037, 14.776869966826476, 15.448545874409499, 14.508199603793269, 13.970858877726851, 13.970858877726851, 12.829009834835714, 12.291669108769296, 12.761842244077412, 13.702188514693642, 13.702188514693642, 13.702188514693642, 13.836523696210246, 13.836523696210246, 13.836523696210246, 20.15027722749065, 19.310682343011873, 15.868343316648888, 16.053054191234217, 16.791897689575542, 16.791897689575542, 17.21169513181493, 17.715452062502198, 18.135249504741584, 18.387127970085217, 17.799411550950076, 18.672590230808, 20.15027722749065, 19.747271682940838, 19.20993095687442, 18.806925412324606, 18.806925412324606, 18.97484438922036, 19.344266138391024, 19.47860131990763, 19.47860131990763, 20.284612409007256, 20.989872111969426, 21.493629042656693, 14.743286171447325, 15.112707920617988, 15.448545874409499, 15.448545874409499, 13.164847788627226, 13.433518151660433, 13.769356105451944, 14.105194059243455, 14.105194059243455, 14.105194059243455, 13.903691286968549, 14.004442673106002, 14.91120514834308, 15.045540329859685, 14.978372739101383, 14.306696831518362, 14.441032013034967, 14.575367194551571, 14.776869966826476, 14.776869966826476, 14.776869966826476, 14.642534785309872, 14.941430564184317, 15.314210692892894, 18.94126059384121, 19.226722854563995, 19.142763366116117, 19.142763366116117, 19.142763366116117, 19.142763366116117, 19.277098547632722, 17.463573597158565, 17.463573597158565, 17.463573597158565, 17.799411550950076, 18.471087458533095, 21.627964224173297, 21.292126270381786, 21.627964224173297, 22.165304950239715, 21.7622994056899, 21.6951318149316, 22.26605633637717, 22.165304950239715, 22.165304950239715, 22.165304950239715, 22.165304950239715, 22.669061880926982, 14.105194059243455, 14.105194059243455, 14.105194059243455, 13.836523696210246, 13.601437128556189, 14.105194059243455, 14.105194059243455, 14.105194059243455, 14.105194059243455, 14.776869966826476, 15.000806714414658, 16.45605973578403, 15.639436167344593, 15.918719009717615, 15.79781734635267, 14.914966533425545, 14.508199603793269, 14.492215060544606, 14.68055164167907, 14.941027558639767, 15.663482164836065, 16.68939994607837, 18.56767311069172, 18.581779648102778, 19.05880387766824, 19.142763366116117, 19.70253806749581, 17.463573597158565, 18.471087458533095, 19.142763366116117, 18.806925412324606, 20.15027722749065, 20.318196204386407, 20.37421397507883, 24.628071832983622, 24.69980681991349, 22.836980857822738, 22.836980857822738, 22.836980857822738, 22.836980857822738, 22.836980857822738, 22.836980857822738, 22.836980857822738, 23.844494719197268, 24.18033267298878, 25.05351135284671, 25.906539755477148, 25.99654432709327, 16.791897689575542, 16.791897689575542, 16.695982369972686, 15.165770317317047, 15.011956534480534, 16.299290578954153, 16.89573878488788, 16.689534281259892, 16.791897689575542, 16.852348521258016, 16.97325018462296, 17.11551114184904, 18.389547346704333, 18.898810676481965, 18.49580513193215, 16.84227338264427, 15.398170181340772, 16.228898943839454, 16.483598447994936, 16.559900831096368, 16.420863918226683, 16.54001922423191, 16.681071164824342, 17.28960953709456, 24.084283018204406, 23.145951775310927, 21.901336318559586, 21.68841505585577, 21.408730551290017, 21.42646145189839, 20.692454020091663, 21.94083086192547, 23.75744552157451, 23.575824356164063, 23.544927264415243, 21.941771208196084, 26.601724319825575, 26.63866649474264, 26.490897795074375, 25.523684488154824, 25.859522441946336, 26.867036303320866, 27.471544620145586, 28.21038811848691, 28.21038811848691, 28.882064026069934, 29.553739933652952, 29.920071973648735, 17.96733052784583, 18.76447549496536, 18.580974980365493, 16.791897689575542, 17.82184552626335, 15.558433396241897, 15.051988418572483, 15.50227994701614, 16.272826548195383, 16.481852090635222, 16.523227326542333, 16.523227326542333, 18.054648395831624, 17.962091455766682, 17.555188847601073, 16.508316121393992, 16.097787806679246, 16.166030078889683, 16.395340233738526, 16.0933547456892, 16.089727695788252, 16.179865259234077, 16.34859159057075, 16.751597135120562, 23.870018403685425, 23.17429649861093, 21.798972910243936, 21.30703747553013, 20.90188256807605, 21.52479346141673, 21.30421643671828, 21.721998851234922, 22.528681616242128, 21.789973796434136, 22.35189651736628, 22.710301438300764, 29.889577887444464, 30.020420354241633, 29.498795501060847, 27.053627870447432, 26.867036303320866, 26.867036303320866, 26.867036303320866, 26.867036303320866, 26.867036303320866, 26.867036303320866, 24.812515380557734, 24.18033267298878, 16.523227326542333, 16.523227326542333, 16.523227326542333, 16.688595278341086, 16.791897689575542, 16.791897689575542, 16.791897689575542, 16.917904089838117, 18.023348298538256, 18.135249504741584, 18.135249504741584, 18.135249504741584, 17.201351322838153, 17.194903234125356, 17.29081855372821, 17.262070824883658, 17.194903234125356, 17.470021685871362, 17.36121018884291, 18.61603511938951, 21.500748807277073, 20.85728328781254, 22.108749838821225, 23.340737788510005, 22.152543107995637, 22.215546308126925, 22.91086520765687, 23.4555943687067, 24.806200283674638, 24.93099766730357, 23.66126153160862, 25.708395362740156, 27.432721752687286, 27.622671699351766, 26.531198349529355, 30.72030799329496, 24.777316876296755, 28.21038811848691, 28.21038811848691, 28.21038811848691, 28.21038811848691, 28.21038811848691, 28.51573198607415, 31.270274883072126, 32.24044356398504, 32.57628151777655, 34.92714719431713, 34.92714719431713, 18.135249504741584, 18.135249504741584, 20.30530002696081, 21.79212181598659, 22.101361403837814, 22.971316039339342, 24.18033267298878, 23.844494719197268, 23.190549712222623, 22.836980857822738, 23.210163992075863, 23.706263817416684, 23.796538402747657, 23.88479527365225, 23.784446893059346, 23.636275187846532, 20.71676868794617, 21.42646145189839, 21.41772966509981, 21.359293861140088, 21.455209180742948, 21.550184154075186, 21.90335134628234, 22.24590605914968, 31.56876765640202, 31.56876765640202, 31.56876765640202, 31.32132359540025, 30.897091748818998, 30.93067554419815, 30.897091748818998, 28.95675573034498, 30.435380386594613, 31.024978841622804, 32.7628717415513, 33.7959106307658, 33.030604445017524, 33.9868009237009, 32.59401510508856, 29.553739933652952, 31.751999500638853, 33.44946019763448, 32.24044356398504, 32.24044356398504, 31.60409646578907, 30.897091748818998, 32.80613035670328, 33.583795379151084, 24.18033267298878, 24.18033267298878, 24.18033267298878, 24.012413696093024, 23.50865676540576, 23.50865676540576, 23.50865676540576, 23.50865676540576, 22.4419010889824, 21.829466996448204, 22.123392373606535, 20.362392479105367, 22.195530366080952, 21.99738597334396, 22.30635689083215, 22.702645676306133, 23.553390380850786, 24.532155170028954, 24.775704854118555, 24.498439726171917, 23.61854428723816, 23.768326671277354, 23.083217245542674, 22.83093577465449, 31.851543213494473, 33.14921972359305, 32.501589813501504, 30.225415841235975, 30.225415841235975, 29.150734389103143, 27.630330148050028, 28.844718845608313, 29.553739933652952, 28.47905848152012, 28.732816296053173, 28.882064026069934, 32.55653424609361, 33.44946019763448, 32.98681117584311, 30.981051237266875, 30.897091748818998, 31.85664660704029, 30.897091748818998, 31.732925248215306, 31.87411152398926, 31.541900620098698, 32.24044356398504, 32.24044356398504, 20.15027722749065, 20.15027722749065, 21.493629042656693, 20.782459935059606, 21.493629042656693, 19.59708360665346, 20.15027722749065, 18.806925412324606, 21.224958679623484, 21.493629042656693, 21.89058950403826, 22.04843334232027, 22.90414844858104, 22.97803279841517, 23.297616195243172, 23.543986918144626, 22.3399406862113, 22.238517624166267, 22.10109273347478, 22.56186240607673, 22.64501588343551, 22.682495399078643, 22.820726300859228, 22.778545053863017, 29.318653365998895, 28.807372321794883, 27.666599303707695, 26.867036303320866, 29.73052368917699, 28.93808045341054, 27.53871221090389, 28.680561253795027, 29.4529885475155, 31.536797226552885, 31.938189405572682, 31.56876765640202, 32.24044356398504, 31.90460561019353, 30.75563680268201, 31.13419200084399, 28.882064026069934, 28.882064026069934, 28.51573198607415, 30.762756567302393, 31.109207000433717, 32.09898861784805, 33.10408444595529, 33.2221664138602, 21.493629042656693, 21.493629042656693, 21.493629042656693, 20.913568385516182, 19.47860131990763, 19.8278727918508, 21.287021533484154, 22.63547808554783, 22.29964013175632, 24.43865922704521, 26.040337596267683, 28.974753957964573, 22.897431689505208, 23.02693080448722, 22.991466316566832, 21.901067648196555, 22.518472142446868, 24.124314902296355, 24.015637740449424, 24.24750026374708, 24.444569975031943, 25.42414211865102, 29.217901979861445, 28.011033365764455, 31.36430951013375, 32.59092539591367, 32.21263483805929, 31.922339197505536, 31.539618265364734, 31.848589182852923, 32.24044356398504, 32.24044356398504, 32.24044356398504, 32.24044356398504, 33.15633948821343, 34.50734975207774, 32.91211947156806, 33.53583637599784, 31.971773200951834, 29.877086058915236, 30.897091748818998, 31.613502615198865, 32.91211947156806, 33.583795379151084, 33.259511594321815, 31.37680268201479, 34.25547128673411, 36.84626094081515, 28.38945825880036, 27.346747236516663, 25.567074751784688, 23.35941037874081, 22.165304950239715, 22.165304950239715, 22.078658758161506, 22.165304950239715, 21.93962184529182, 21.993355917898462, 22.165304950239715, 22.098137359481413, 27.63637388786646, 26.485658722995225, 25.420649403931588, 23.550300671675906, 23.36532112672754, 23.51537352448159, 23.679799786657913, 23.860211935434712, 23.808627225732334, 24.129419639193987, 24.852008580571802, 24.186780761701577, 33.5546459881138, 34.25547128673411, 32.386467249645406, 30.993005725070038, 30.897091748818998, 30.897091748818998, 30.897091748818998, 30.897091748818998, 30.897091748818998, 30.897091748818998, 30.897091748818998, 32.24044356398504, 35.43896557924721, 33.534091361989944, 33.583795379151084, 32.768246492163776, 32.24044356398504, 32.24044356398504, 31.37371297283991, 31.89372311713887, 32.24044356398504, 31.980503644398595, 32.24044356398504, 34.00063744739711, 22.63292706045083, 23.146489116036992, 22.433975313272924, 21.984221125555333, 21.30018638127278, 21.456015191832044, 23.121099766730357, 26.082518843263898, 26.03053112801697, 26.547182892778018, 27.15249856404365, 27.56557924720721, 24.29008451628785, 24.098792561160018, 23.965396382562215, 23.84677841728305, 23.597452320388232, 23.62727473068492, 25.519387105698108, 26.616232519429367, 27.140139727344124, 27.471544620145586, 27.547979995076716, 27.787903972617194, 31.90460561019353, 32.84495188080976, 33.15633948821343, 31.56876765640202, 33.30397385270018, 35.97845432486608, 34.08755230983835, 35.47671107854974, 36.13616382796657, 36.737716770797924, 37.94968877844072, 40.53416199228686, 33.494195156431324, 34.92714719431713, 34.09332737929175, 33.583795379151084, 33.583795379151084, 35.75559091537821, 34.92714719431713, 36.91906926584534, 38.26242108101138, 37.65724108827908, 39.09610656085524, 38.77813249950181, 28.358694158881242, 28.643887749240992, 28.677605879801664, 24.532155170028954, 22.997645734916595, 24.764422042222975, 24.52866514201315, 24.852008580571802, 23.936109969639777, 24.583338217538593, 25.21834062056758, 24.93596806901968, 28.19695460033525, 28.109636732349458, 27.872267809961436, 26.03415817791792, 26.307261601941175, 27.05282185935833, 28.002437257499206, 29.009682448510706, 28.998531285093012, 29.723941265282676, 30.33288398644926, 30.578583033443127, 41.26776776190085, 42.79529311092616, 40.422666478331706, 37.74818600616582, 37.08819860272656, 39.07931466316566, 40.676692963227794, 41.64390627014735, 42.0681381167286, 42.987258085313385, 41.29342443821871, 40.709335068984515, 38.20318060931437, 38.189612755981194, 37.61385082464921, 37.61385082464921, 37.61385082464921, 37.61385082464921, 37.3105206414329, 37.61385082464921, 37.61385082464921, 37.61385082464921, 38.63291885498599, 40.90721079135847, 24.852008580571802, 26.279319884185725, 28.154371691146302, 25.501249169489736, 24.18033267298878, 24.18033267298878, 24.18033267298878, 24.18033267298878, 24.12861362810489, 22.810113821519415, 31.15004623896658, 29.630445322298936, 29.646429865547596, 29.329803186064773, 27.040328687477288, 26.432730661477688, 26.360055328277202, 25.219145288304865, 24.567619657949336, 24.303115028894958, 42.77232179488682, 43.90637805389818, 41.16983741457525, 39.96471650118979, 40.004209701203855, 39.852813951634644, 37.61385082464921, 36.5903510766742, 33.522671528209216, 37.2780128708577, 42.813967044508786, 45.30332960648935, 40.57849260218734, 43.22086427926713, 45.18135460502408, 45.673961715645476, 46.569573027464855, 45.77726412687993, 42.987258085313385, 42.18124699621376], \"yaxis\": \"y\"}],\n",
       "                        {\"barmode\": \"relative\", \"legend\": {\"tracegroupgap\": 0}, \"margin\": {\"t\": 60}, \"template\": {\"data\": {\"bar\": [{\"error_x\": {\"color\": \"#2a3f5f\"}, \"error_y\": {\"color\": \"#2a3f5f\"}, \"marker\": {\"line\": {\"color\": \"#E5ECF6\", \"width\": 0.5}}, \"type\": \"bar\"}], \"barpolar\": [{\"marker\": {\"line\": {\"color\": \"#E5ECF6\", \"width\": 0.5}}, \"type\": \"barpolar\"}], \"carpet\": [{\"aaxis\": {\"endlinecolor\": \"#2a3f5f\", \"gridcolor\": \"white\", \"linecolor\": \"white\", \"minorgridcolor\": \"white\", \"startlinecolor\": \"#2a3f5f\"}, \"baxis\": {\"endlinecolor\": \"#2a3f5f\", \"gridcolor\": \"white\", \"linecolor\": \"white\", \"minorgridcolor\": \"white\", \"startlinecolor\": \"#2a3f5f\"}, \"type\": \"carpet\"}], \"choropleth\": [{\"colorbar\": {\"outlinewidth\": 0, \"ticks\": \"\"}, \"type\": \"choropleth\"}], \"contour\": [{\"colorbar\": {\"outlinewidth\": 0, \"ticks\": \"\"}, \"colorscale\": [[0.0, \"#0d0887\"], [0.1111111111111111, \"#46039f\"], [0.2222222222222222, \"#7201a8\"], [0.3333333333333333, \"#9c179e\"], [0.4444444444444444, \"#bd3786\"], [0.5555555555555556, \"#d8576b\"], [0.6666666666666666, \"#ed7953\"], [0.7777777777777778, \"#fb9f3a\"], [0.8888888888888888, \"#fdca26\"], [1.0, \"#f0f921\"]], \"type\": \"contour\"}], \"contourcarpet\": [{\"colorbar\": {\"outlinewidth\": 0, \"ticks\": \"\"}, \"type\": \"contourcarpet\"}], \"heatmap\": [{\"colorbar\": {\"outlinewidth\": 0, \"ticks\": \"\"}, \"colorscale\": [[0.0, \"#0d0887\"], [0.1111111111111111, \"#46039f\"], [0.2222222222222222, \"#7201a8\"], [0.3333333333333333, \"#9c179e\"], [0.4444444444444444, \"#bd3786\"], [0.5555555555555556, \"#d8576b\"], [0.6666666666666666, \"#ed7953\"], [0.7777777777777778, \"#fb9f3a\"], [0.8888888888888888, \"#fdca26\"], [1.0, \"#f0f921\"]], \"type\": \"heatmap\"}], \"heatmapgl\": [{\"colorbar\": {\"outlinewidth\": 0, \"ticks\": \"\"}, \"colorscale\": [[0.0, \"#0d0887\"], [0.1111111111111111, \"#46039f\"], [0.2222222222222222, \"#7201a8\"], [0.3333333333333333, \"#9c179e\"], [0.4444444444444444, \"#bd3786\"], [0.5555555555555556, \"#d8576b\"], [0.6666666666666666, \"#ed7953\"], [0.7777777777777778, \"#fb9f3a\"], [0.8888888888888888, \"#fdca26\"], [1.0, \"#f0f921\"]], \"type\": \"heatmapgl\"}], \"histogram\": [{\"marker\": {\"colorbar\": {\"outlinewidth\": 0, \"ticks\": \"\"}}, \"type\": \"histogram\"}], \"histogram2d\": [{\"colorbar\": {\"outlinewidth\": 0, \"ticks\": \"\"}, \"colorscale\": [[0.0, \"#0d0887\"], [0.1111111111111111, \"#46039f\"], [0.2222222222222222, \"#7201a8\"], [0.3333333333333333, \"#9c179e\"], [0.4444444444444444, \"#bd3786\"], [0.5555555555555556, \"#d8576b\"], [0.6666666666666666, \"#ed7953\"], [0.7777777777777778, \"#fb9f3a\"], [0.8888888888888888, \"#fdca26\"], [1.0, \"#f0f921\"]], \"type\": \"histogram2d\"}], \"histogram2dcontour\": [{\"colorbar\": {\"outlinewidth\": 0, \"ticks\": \"\"}, \"colorscale\": [[0.0, \"#0d0887\"], [0.1111111111111111, \"#46039f\"], [0.2222222222222222, \"#7201a8\"], [0.3333333333333333, \"#9c179e\"], [0.4444444444444444, \"#bd3786\"], [0.5555555555555556, \"#d8576b\"], [0.6666666666666666, \"#ed7953\"], [0.7777777777777778, \"#fb9f3a\"], [0.8888888888888888, \"#fdca26\"], [1.0, \"#f0f921\"]], \"type\": \"histogram2dcontour\"}], \"mesh3d\": [{\"colorbar\": {\"outlinewidth\": 0, \"ticks\": \"\"}, \"type\": \"mesh3d\"}], \"parcoords\": [{\"line\": {\"colorbar\": {\"outlinewidth\": 0, \"ticks\": \"\"}}, \"type\": \"parcoords\"}], \"pie\": [{\"automargin\": true, \"type\": \"pie\"}], \"scatter\": [{\"marker\": {\"colorbar\": {\"outlinewidth\": 0, \"ticks\": \"\"}}, \"type\": \"scatter\"}], \"scatter3d\": [{\"line\": {\"colorbar\": {\"outlinewidth\": 0, \"ticks\": \"\"}}, \"marker\": {\"colorbar\": {\"outlinewidth\": 0, \"ticks\": \"\"}}, \"type\": \"scatter3d\"}], \"scattercarpet\": [{\"marker\": {\"colorbar\": {\"outlinewidth\": 0, \"ticks\": \"\"}}, \"type\": \"scattercarpet\"}], \"scattergeo\": [{\"marker\": {\"colorbar\": {\"outlinewidth\": 0, \"ticks\": \"\"}}, \"type\": \"scattergeo\"}], \"scattergl\": [{\"marker\": {\"colorbar\": {\"outlinewidth\": 0, \"ticks\": \"\"}}, \"type\": \"scattergl\"}], \"scattermapbox\": [{\"marker\": {\"colorbar\": {\"outlinewidth\": 0, \"ticks\": \"\"}}, \"type\": \"scattermapbox\"}], \"scatterpolar\": [{\"marker\": {\"colorbar\": {\"outlinewidth\": 0, \"ticks\": \"\"}}, \"type\": \"scatterpolar\"}], \"scatterpolargl\": [{\"marker\": {\"colorbar\": {\"outlinewidth\": 0, \"ticks\": \"\"}}, \"type\": \"scatterpolargl\"}], \"scatterternary\": [{\"marker\": {\"colorbar\": {\"outlinewidth\": 0, \"ticks\": \"\"}}, \"type\": \"scatterternary\"}], \"surface\": [{\"colorbar\": {\"outlinewidth\": 0, \"ticks\": \"\"}, \"colorscale\": [[0.0, \"#0d0887\"], [0.1111111111111111, \"#46039f\"], [0.2222222222222222, \"#7201a8\"], [0.3333333333333333, \"#9c179e\"], [0.4444444444444444, \"#bd3786\"], [0.5555555555555556, \"#d8576b\"], [0.6666666666666666, \"#ed7953\"], [0.7777777777777778, \"#fb9f3a\"], [0.8888888888888888, \"#fdca26\"], [1.0, \"#f0f921\"]], \"type\": \"surface\"}], \"table\": [{\"cells\": {\"fill\": {\"color\": \"#EBF0F8\"}, \"line\": {\"color\": \"white\"}}, \"header\": {\"fill\": {\"color\": \"#C8D4E3\"}, \"line\": {\"color\": \"white\"}}, \"type\": \"table\"}]}, \"layout\": {\"annotationdefaults\": {\"arrowcolor\": \"#2a3f5f\", \"arrowhead\": 0, \"arrowwidth\": 1}, \"coloraxis\": {\"colorbar\": {\"outlinewidth\": 0, \"ticks\": \"\"}}, \"colorscale\": {\"diverging\": [[0, \"#8e0152\"], [0.1, \"#c51b7d\"], [0.2, \"#de77ae\"], [0.3, \"#f1b6da\"], [0.4, \"#fde0ef\"], [0.5, \"#f7f7f7\"], [0.6, \"#e6f5d0\"], [0.7, \"#b8e186\"], [0.8, \"#7fbc41\"], [0.9, \"#4d9221\"], [1, \"#276419\"]], \"sequential\": [[0.0, \"#0d0887\"], [0.1111111111111111, \"#46039f\"], [0.2222222222222222, \"#7201a8\"], [0.3333333333333333, \"#9c179e\"], [0.4444444444444444, \"#bd3786\"], [0.5555555555555556, \"#d8576b\"], [0.6666666666666666, \"#ed7953\"], [0.7777777777777778, \"#fb9f3a\"], [0.8888888888888888, \"#fdca26\"], [1.0, \"#f0f921\"]], \"sequentialminus\": [[0.0, \"#0d0887\"], [0.1111111111111111, \"#46039f\"], [0.2222222222222222, \"#7201a8\"], [0.3333333333333333, \"#9c179e\"], [0.4444444444444444, \"#bd3786\"], [0.5555555555555556, \"#d8576b\"], [0.6666666666666666, \"#ed7953\"], [0.7777777777777778, \"#fb9f3a\"], [0.8888888888888888, \"#fdca26\"], [1.0, \"#f0f921\"]]}, \"colorway\": [\"#636efa\", \"#EF553B\", \"#00cc96\", \"#ab63fa\", \"#FFA15A\", \"#19d3f3\", \"#FF6692\", \"#B6E880\", \"#FF97FF\", \"#FECB52\"], \"font\": {\"color\": \"#2a3f5f\"}, \"geo\": {\"bgcolor\": \"white\", \"lakecolor\": \"white\", \"landcolor\": \"#E5ECF6\", \"showlakes\": true, \"showland\": true, \"subunitcolor\": \"white\"}, \"hoverlabel\": {\"align\": \"left\"}, \"hovermode\": \"closest\", \"mapbox\": {\"style\": \"light\"}, \"paper_bgcolor\": \"white\", \"plot_bgcolor\": \"#E5ECF6\", \"polar\": {\"angularaxis\": {\"gridcolor\": \"white\", \"linecolor\": \"white\", \"ticks\": \"\"}, \"bgcolor\": \"#E5ECF6\", \"radialaxis\": {\"gridcolor\": \"white\", \"linecolor\": \"white\", \"ticks\": \"\"}}, \"scene\": {\"xaxis\": {\"backgroundcolor\": \"#E5ECF6\", \"gridcolor\": \"white\", \"gridwidth\": 2, \"linecolor\": \"white\", \"showbackground\": true, \"ticks\": \"\", \"zerolinecolor\": \"white\"}, \"yaxis\": {\"backgroundcolor\": \"#E5ECF6\", \"gridcolor\": \"white\", \"gridwidth\": 2, \"linecolor\": \"white\", \"showbackground\": true, \"ticks\": \"\", \"zerolinecolor\": \"white\"}, \"zaxis\": {\"backgroundcolor\": \"#E5ECF6\", \"gridcolor\": \"white\", \"gridwidth\": 2, \"linecolor\": \"white\", \"showbackground\": true, \"ticks\": \"\", \"zerolinecolor\": \"white\"}}, \"shapedefaults\": {\"line\": {\"color\": \"#2a3f5f\"}}, \"ternary\": {\"aaxis\": {\"gridcolor\": \"white\", \"linecolor\": \"white\", \"ticks\": \"\"}, \"baxis\": {\"gridcolor\": \"white\", \"linecolor\": \"white\", \"ticks\": \"\"}, \"bgcolor\": \"#E5ECF6\", \"caxis\": {\"gridcolor\": \"white\", \"linecolor\": \"white\", \"ticks\": \"\"}}, \"title\": {\"x\": 0.05}, \"xaxis\": {\"automargin\": true, \"gridcolor\": \"white\", \"linecolor\": \"white\", \"ticks\": \"\", \"title\": {\"standoff\": 15}, \"zerolinecolor\": \"white\", \"zerolinewidth\": 2}, \"yaxis\": {\"automargin\": true, \"gridcolor\": \"white\", \"linecolor\": \"white\", \"ticks\": \"\", \"title\": {\"standoff\": 15}, \"zerolinecolor\": \"white\", \"zerolinewidth\": 2}}}, \"xaxis\": {\"anchor\": \"y\", \"domain\": [0.0, 1.0], \"title\": {\"text\": \"Year\"}}, \"yaxis\": {\"anchor\": \"x\", \"domain\": [0.0, 1.0], \"title\": {\"text\": \"Price in $\"}}},\n",
       "                        {\"responsive\": true}\n",
       "                    ).then(function(){\n",
       "                            \n",
       "var gd = document.getElementById('0b86bd6b-6695-44fd-8e7f-7578e27cfbcf');\n",
       "var x = new MutationObserver(function (mutations, observer) {{\n",
       "        var display = window.getComputedStyle(gd).display;\n",
       "        if (!display || display === 'none') {{\n",
       "            console.log([gd, 'removed!']);\n",
       "            Plotly.purge(gd);\n",
       "            observer.disconnect();\n",
       "        }}\n",
       "}});\n",
       "\n",
       "// Listen for the removal of the full notebook cells\n",
       "var notebookContainer = gd.closest('#notebook-container');\n",
       "if (notebookContainer) {{\n",
       "    x.observe(notebookContainer, {childList: true});\n",
       "}}\n",
       "\n",
       "// Listen for the clearing of the current output cell\n",
       "var outputEl = gd.closest('.output');\n",
       "if (outputEl) {{\n",
       "    x.observe(outputEl, {childList: true});\n",
       "}}\n",
       "\n",
       "                        })\n",
       "                };\n",
       "                });\n",
       "            </script>\n",
       "        </div>"
      ]
     },
     "metadata": {},
     "output_type": "display_data"
    },
    {
     "name": "stdout",
     "output_type": "stream",
     "text": [
      "Sugar - Retail\n"
     ]
    },
    {
     "data": {
      "application/vnd.plotly.v1+json": {
       "config": {
        "plotlyServerURL": "https://plot.ly"
       },
       "data": [
        {
         "alignmentgroup": "True",
         "hovertemplate": "Year=%{x}<br>Price in $=%{y}<extra></extra>",
         "legendgroup": "",
         "marker": {
          "color": "#636efa"
         },
         "name": "",
         "offsetgroup": "",
         "orientation": "v",
         "showlegend": false,
         "textposition": "auto",
         "type": "bar",
         "x": [
          2009,
          2009,
          2009,
          2009,
          2009,
          2009,
          2009,
          2009,
          2009,
          2009,
          2009,
          2009,
          2009,
          2009,
          2009,
          2009,
          2009,
          2009,
          2009,
          2009,
          2009,
          2009,
          2010,
          2010,
          2010,
          2010,
          2010,
          2010,
          2010,
          2010,
          2010,
          2010,
          2010,
          2010,
          2010,
          2010,
          2010,
          2010,
          2010,
          2010,
          2010,
          2010,
          2010,
          2010,
          2010,
          2010,
          2011,
          2011,
          2011,
          2011,
          2011,
          2011,
          2011,
          2011,
          2011,
          2011,
          2011,
          2011,
          2011,
          2011,
          2011,
          2011,
          2011,
          2011,
          2011,
          2011,
          2011,
          2011,
          2011,
          2011,
          2012,
          2012,
          2012,
          2012,
          2012,
          2012,
          2012,
          2012,
          2012,
          2012,
          2012,
          2012,
          2012,
          2012,
          2012,
          2012,
          2012,
          2012,
          2012,
          2012,
          2012,
          2012,
          2012,
          2012,
          2013,
          2013,
          2013,
          2013,
          2013,
          2013,
          2013,
          2013,
          2013,
          2013,
          2013,
          2013,
          2013,
          2013,
          2013,
          2013,
          2013,
          2013,
          2013,
          2013,
          2013,
          2013,
          2013,
          2013,
          2014,
          2014,
          2014,
          2014,
          2014,
          2014,
          2014,
          2014,
          2014,
          2014,
          2014,
          2014,
          2014,
          2014,
          2014,
          2014,
          2014,
          2014,
          2014,
          2014,
          2014,
          2014,
          2014,
          2014,
          2015,
          2015,
          2015,
          2015,
          2015,
          2015,
          2015,
          2015,
          2015,
          2015,
          2015,
          2015,
          2015,
          2015,
          2015,
          2015,
          2015,
          2015,
          2015,
          2015,
          2015,
          2015,
          2015,
          2015,
          2016,
          2016,
          2016,
          2016,
          2016,
          2016,
          2016,
          2016,
          2016,
          2016,
          2016,
          2016,
          2016,
          2016,
          2016,
          2016,
          2016,
          2016,
          2016,
          2016,
          2016,
          2016,
          2016,
          2016,
          2017,
          2017,
          2017,
          2017,
          2017,
          2017,
          2017,
          2017,
          2017,
          2017,
          2017,
          2017,
          2017,
          2017,
          2017,
          2017,
          2017,
          2017,
          2017,
          2017,
          2017,
          2017,
          2017,
          2017,
          2018,
          2018,
          2018,
          2018,
          2018,
          2018,
          2018,
          2018,
          2018,
          2018,
          2018,
          2018,
          2018,
          2018,
          2018,
          2018,
          2018,
          2018,
          2018,
          2018,
          2018,
          2018,
          2018,
          2018,
          2019,
          2019,
          2019,
          2019,
          2019,
          2019,
          2019,
          2019,
          2019,
          2019,
          2019,
          2019,
          2019,
          2019,
          2019,
          2019,
          2019,
          2019,
          2019,
          2019,
          2019,
          2019,
          2019,
          2019,
          2020,
          2020,
          2020,
          2020,
          2020,
          2020,
          2020,
          2020,
          2020,
          2020,
          2020,
          2020,
          2020,
          2020,
          2020,
          2020,
          2020,
          2020,
          2020,
          2020
         ],
         "xaxis": "x",
         "y": [
          29.030504401645782,
          31.303590008088246,
          30.453785649814204,
          32.7628717415513,
          33.810551822199294,
          33.967592336095834,
          34.091986714180216,
          37.85646150582002,
          42.32565731634411,
          42.637314937462634,
          47.945033637717,
          47.64546483958316,
          28.94479721248637,
          29.970178996354427,
          32.52926420424574,
          33.78529815142599,
          33.583795379151084,
          42.114079405455456,
          41.82525876519476,
          42.19911491870729,
          48.84763037897525,
          48.27066077436144,
          54.621626494273755,
          54.582532269748796,
          45.903810554572196,
          41.576738679389045,
          40.85468707873729,
          37.73596284799962,
          38.21526943229905,
          37.500876280345565,
          37.0732860542264,
          37.39555615468473,
          37.65415137910419,
          39.72358485036749,
          53.17993998288574,
          50.985842119823225,
          44.9969137441536,
          40.08427346938775,
          39.884787068187414,
          37.400793883412064,
          37.9851519230093,
          36.06832456130068,
          36.324904757997395,
          36.95292173158752,
          39.00959201725492,
          40.4171560491859,
          40.978947121640154,
          39.90466867505187,
          39.67777521011851,
          39.43113716020584,
          39.347446342120996,
          39.08844811215698,
          40.162995229108304,
          40.29047931636755,
          40.685289071493045,
          41.49465854013059,
          43.18540247805038,
          44.28023420741071,
          39.73298831307365,
          38.6913533155939,
          38.624991735924695,
          38.31763149726289,
          38.12875891875417,
          36.998998698847714,
          39.14272086884151,
          38.51456821671805,
          38.82958421737448,
          39.22345631293298,
          41.59540992626803,
          42.06800378154708,
          42.84338510590911,
          41.86555931964974,
          42.06289635794582,
          42.82887690630531,
          43.683384339284245,
          43.55012115251614,
          45.338123761853964,
          50.21301182055821,
          51.73315007795191,
          52.3341656800572,
          50.039855114935115,
          50.1909821941413,
          40.45221887491355,
          40.13505216800103,
          39.841801153453915,
          40.233386864223,
          40.71632184177519,
          40.8362818155177,
          44.47837860014769,
          48.812032899225166,
          49.45227303098149,
          48.72941541924064,
          48.261392990188604,
          46.684162280650334,
          47.56110234559073,
          47.974451699117324,
          46.39870001992755,
          45.6571698179559,
          45.627213072477694,
          45.811655276699994,
          44.891324948129736,
          44.53211267275434,
          44.77835040382609,
          45.419396546671514,
          45.143337748654886,
          44.57241322720932,
          45.222325492034834,
          44.64105984831612,
          44.238723292970256,
          42.96187007935856,
          43.355469474498584,
          43.020170204784954,
          42.768829080167386,
          42.88798572952443,
          42.512650545663405,
          41.75137441536063,
          41.023682080437,
          40.78134006962923,
          44.157453194856345,
          43.56489936583478,
          43.11487650775416,
          43.718577470137966,
          45.853031855958925,
          48.58460075021392,
          48.48277736932797,
          47.08797383628925,
          44.751886373067315,
          44.12467272386266,
          42.89765786259363,
          40.92333369984409,
          39.51509664865372,
          37.95841922188749,
          38.777329175116336,
          43.724222234465294,
          44.43377797653237,
          42.594999355284905,
          43.75296861995803,
          43.14550492913995,
          42.73014189124242,
          41.51494315253959,
          40.825940693244554,
          38.628081445099575,
          40.327421491284625,
          39.72962993353573,
          37.56266777713957,
          37.133065210001284,
          36.948891676142026,
          35.739203366584995,
          33.846690672730894,
          35.4357415348908,
          36.31523396828002,
          38.44672895005216,
          38.82286745829865,
          40.2269387755102,
          37.983272573819875,
          37.68692782004243,
          36.07544432592106,
          34.978733247371316,
          35.16465045188667,
          33.348708811497026,
          31.32293427422663,
          32.58098459248145,
          34.82438212380874,
          37.55057895415489,
          37.490935476913336,
          38.53566018356797,
          42.376033009412836,
          44.18700693479,
          46.18443540540857,
          48.98304158529581,
          48.76152287097492,
          49.89208641526685,
          51.25531983729735,
          52.242549086262876,
          52.21165065116224,
          53.01605106143548,
          52.18478361485892,
          50.58807833405619,
          42.98161735104151,
          43.85345133573245,
          45.16711507578333,
          49.25291827825903,
          49.20925934426614,
          49.48800484591309,
          50.03340702622232,
          50.49901142200706,
          50.09936425699516,
          50.34493031215933,
          50.348826032423304,
          50.1490682741563,
          52.65267439543307,
          53.239853473842146,
          52.813876613252994,
          52.25638560995909,
          53.165430439930134,
          52.79816074036737,
          53.96808314949184,
          54.04747792847179,
          53.91542510168915,
          54.32004401176898,
          52.99079470395854,
          49.262055757305795,
          52.287955720967304,
          54.33925259937404,
          55.117187635536695,
          54.46714103552966,
          53.55298878195735,
          52.7984294107304,
          51.49403345485236,
          52.349748561113124,
          51.65187729313437,
          51.146106678076166,
          49.949313202592926,
          46.60826290309346,
          47.568087775029596,
          47.76569482704052,
          45.59336060673551,
          41.706639456563785,
          39.459883545698574,
          44.31274197798591,
          46.14198683140114,
          45.75012842021357,
          45.924764156185155,
          46.64117502256502,
          46.12788029399008,
          44.69895562484614,
          43.87951101759486,
          43.16256549719256,
          44.029566102052534,
          40.59367516440235,
          37.22092041871315,
          42.15559031989591,
          44.808037135589444,
          44.140661297166766,
          42.90531228123644,
          43.15893844729161,
          42.93191064717673,
          41.89739810102099,
          45.68739523379713,
          45.918586081187215,
          44.97541877175913,
          45.59779501107737,
          47.55021985253607,
          47.67999032458474,
          46.558022888558064,
          48.72780474041426,
          49.27414458029047,
          49.54281494332368,
          48.66735390873178,
          47.54162374427083,
          41.75943586960344,
          42.498548038307796,
          43.49773177507648,
          43.39698038893903,
          43.8885141614601,
          43.783462706162304,
          43.427877480687854,
          44.94492468555486,
          45.80681786681358,
          45.44962196251275,
          44.947341375470344,
          45.169936114595174,
          47.93750952420026,
          47.295521691732404,
          46.29929198560527,
          46.49340632289676,
          45.894941745888474,
          46.96801251919492,
          47.55895298268647,
          47.50991929808109,
          47.07104760341816,
          46.90608265716396,
          45.445054566341184,
          45.45472535605856,
          44.79997568134663,
          44.62614729981596,
          44.75255536227127,
          44.95607450562074,
          45.30453996647481,
          45.398843263899465,
          45.206205270252845,
          44.47972195196286
         ],
         "yaxis": "y"
        }
       ],
       "layout": {
        "barmode": "relative",
        "legend": {
         "tracegroupgap": 0
        },
        "margin": {
         "t": 60
        },
        "template": {
         "data": {
          "bar": [
           {
            "error_x": {
             "color": "#2a3f5f"
            },
            "error_y": {
             "color": "#2a3f5f"
            },
            "marker": {
             "line": {
              "color": "#E5ECF6",
              "width": 0.5
             }
            },
            "type": "bar"
           }
          ],
          "barpolar": [
           {
            "marker": {
             "line": {
              "color": "#E5ECF6",
              "width": 0.5
             }
            },
            "type": "barpolar"
           }
          ],
          "carpet": [
           {
            "aaxis": {
             "endlinecolor": "#2a3f5f",
             "gridcolor": "white",
             "linecolor": "white",
             "minorgridcolor": "white",
             "startlinecolor": "#2a3f5f"
            },
            "baxis": {
             "endlinecolor": "#2a3f5f",
             "gridcolor": "white",
             "linecolor": "white",
             "minorgridcolor": "white",
             "startlinecolor": "#2a3f5f"
            },
            "type": "carpet"
           }
          ],
          "choropleth": [
           {
            "colorbar": {
             "outlinewidth": 0,
             "ticks": ""
            },
            "type": "choropleth"
           }
          ],
          "contour": [
           {
            "colorbar": {
             "outlinewidth": 0,
             "ticks": ""
            },
            "colorscale": [
             [
              0,
              "#0d0887"
             ],
             [
              0.1111111111111111,
              "#46039f"
             ],
             [
              0.2222222222222222,
              "#7201a8"
             ],
             [
              0.3333333333333333,
              "#9c179e"
             ],
             [
              0.4444444444444444,
              "#bd3786"
             ],
             [
              0.5555555555555556,
              "#d8576b"
             ],
             [
              0.6666666666666666,
              "#ed7953"
             ],
             [
              0.7777777777777778,
              "#fb9f3a"
             ],
             [
              0.8888888888888888,
              "#fdca26"
             ],
             [
              1,
              "#f0f921"
             ]
            ],
            "type": "contour"
           }
          ],
          "contourcarpet": [
           {
            "colorbar": {
             "outlinewidth": 0,
             "ticks": ""
            },
            "type": "contourcarpet"
           }
          ],
          "heatmap": [
           {
            "colorbar": {
             "outlinewidth": 0,
             "ticks": ""
            },
            "colorscale": [
             [
              0,
              "#0d0887"
             ],
             [
              0.1111111111111111,
              "#46039f"
             ],
             [
              0.2222222222222222,
              "#7201a8"
             ],
             [
              0.3333333333333333,
              "#9c179e"
             ],
             [
              0.4444444444444444,
              "#bd3786"
             ],
             [
              0.5555555555555556,
              "#d8576b"
             ],
             [
              0.6666666666666666,
              "#ed7953"
             ],
             [
              0.7777777777777778,
              "#fb9f3a"
             ],
             [
              0.8888888888888888,
              "#fdca26"
             ],
             [
              1,
              "#f0f921"
             ]
            ],
            "type": "heatmap"
           }
          ],
          "heatmapgl": [
           {
            "colorbar": {
             "outlinewidth": 0,
             "ticks": ""
            },
            "colorscale": [
             [
              0,
              "#0d0887"
             ],
             [
              0.1111111111111111,
              "#46039f"
             ],
             [
              0.2222222222222222,
              "#7201a8"
             ],
             [
              0.3333333333333333,
              "#9c179e"
             ],
             [
              0.4444444444444444,
              "#bd3786"
             ],
             [
              0.5555555555555556,
              "#d8576b"
             ],
             [
              0.6666666666666666,
              "#ed7953"
             ],
             [
              0.7777777777777778,
              "#fb9f3a"
             ],
             [
              0.8888888888888888,
              "#fdca26"
             ],
             [
              1,
              "#f0f921"
             ]
            ],
            "type": "heatmapgl"
           }
          ],
          "histogram": [
           {
            "marker": {
             "colorbar": {
              "outlinewidth": 0,
              "ticks": ""
             }
            },
            "type": "histogram"
           }
          ],
          "histogram2d": [
           {
            "colorbar": {
             "outlinewidth": 0,
             "ticks": ""
            },
            "colorscale": [
             [
              0,
              "#0d0887"
             ],
             [
              0.1111111111111111,
              "#46039f"
             ],
             [
              0.2222222222222222,
              "#7201a8"
             ],
             [
              0.3333333333333333,
              "#9c179e"
             ],
             [
              0.4444444444444444,
              "#bd3786"
             ],
             [
              0.5555555555555556,
              "#d8576b"
             ],
             [
              0.6666666666666666,
              "#ed7953"
             ],
             [
              0.7777777777777778,
              "#fb9f3a"
             ],
             [
              0.8888888888888888,
              "#fdca26"
             ],
             [
              1,
              "#f0f921"
             ]
            ],
            "type": "histogram2d"
           }
          ],
          "histogram2dcontour": [
           {
            "colorbar": {
             "outlinewidth": 0,
             "ticks": ""
            },
            "colorscale": [
             [
              0,
              "#0d0887"
             ],
             [
              0.1111111111111111,
              "#46039f"
             ],
             [
              0.2222222222222222,
              "#7201a8"
             ],
             [
              0.3333333333333333,
              "#9c179e"
             ],
             [
              0.4444444444444444,
              "#bd3786"
             ],
             [
              0.5555555555555556,
              "#d8576b"
             ],
             [
              0.6666666666666666,
              "#ed7953"
             ],
             [
              0.7777777777777778,
              "#fb9f3a"
             ],
             [
              0.8888888888888888,
              "#fdca26"
             ],
             [
              1,
              "#f0f921"
             ]
            ],
            "type": "histogram2dcontour"
           }
          ],
          "mesh3d": [
           {
            "colorbar": {
             "outlinewidth": 0,
             "ticks": ""
            },
            "type": "mesh3d"
           }
          ],
          "parcoords": [
           {
            "line": {
             "colorbar": {
              "outlinewidth": 0,
              "ticks": ""
             }
            },
            "type": "parcoords"
           }
          ],
          "pie": [
           {
            "automargin": true,
            "type": "pie"
           }
          ],
          "scatter": [
           {
            "marker": {
             "colorbar": {
              "outlinewidth": 0,
              "ticks": ""
             }
            },
            "type": "scatter"
           }
          ],
          "scatter3d": [
           {
            "line": {
             "colorbar": {
              "outlinewidth": 0,
              "ticks": ""
             }
            },
            "marker": {
             "colorbar": {
              "outlinewidth": 0,
              "ticks": ""
             }
            },
            "type": "scatter3d"
           }
          ],
          "scattercarpet": [
           {
            "marker": {
             "colorbar": {
              "outlinewidth": 0,
              "ticks": ""
             }
            },
            "type": "scattercarpet"
           }
          ],
          "scattergeo": [
           {
            "marker": {
             "colorbar": {
              "outlinewidth": 0,
              "ticks": ""
             }
            },
            "type": "scattergeo"
           }
          ],
          "scattergl": [
           {
            "marker": {
             "colorbar": {
              "outlinewidth": 0,
              "ticks": ""
             }
            },
            "type": "scattergl"
           }
          ],
          "scattermapbox": [
           {
            "marker": {
             "colorbar": {
              "outlinewidth": 0,
              "ticks": ""
             }
            },
            "type": "scattermapbox"
           }
          ],
          "scatterpolar": [
           {
            "marker": {
             "colorbar": {
              "outlinewidth": 0,
              "ticks": ""
             }
            },
            "type": "scatterpolar"
           }
          ],
          "scatterpolargl": [
           {
            "marker": {
             "colorbar": {
              "outlinewidth": 0,
              "ticks": ""
             }
            },
            "type": "scatterpolargl"
           }
          ],
          "scatterternary": [
           {
            "marker": {
             "colorbar": {
              "outlinewidth": 0,
              "ticks": ""
             }
            },
            "type": "scatterternary"
           }
          ],
          "surface": [
           {
            "colorbar": {
             "outlinewidth": 0,
             "ticks": ""
            },
            "colorscale": [
             [
              0,
              "#0d0887"
             ],
             [
              0.1111111111111111,
              "#46039f"
             ],
             [
              0.2222222222222222,
              "#7201a8"
             ],
             [
              0.3333333333333333,
              "#9c179e"
             ],
             [
              0.4444444444444444,
              "#bd3786"
             ],
             [
              0.5555555555555556,
              "#d8576b"
             ],
             [
              0.6666666666666666,
              "#ed7953"
             ],
             [
              0.7777777777777778,
              "#fb9f3a"
             ],
             [
              0.8888888888888888,
              "#fdca26"
             ],
             [
              1,
              "#f0f921"
             ]
            ],
            "type": "surface"
           }
          ],
          "table": [
           {
            "cells": {
             "fill": {
              "color": "#EBF0F8"
             },
             "line": {
              "color": "white"
             }
            },
            "header": {
             "fill": {
              "color": "#C8D4E3"
             },
             "line": {
              "color": "white"
             }
            },
            "type": "table"
           }
          ]
         },
         "layout": {
          "annotationdefaults": {
           "arrowcolor": "#2a3f5f",
           "arrowhead": 0,
           "arrowwidth": 1
          },
          "coloraxis": {
           "colorbar": {
            "outlinewidth": 0,
            "ticks": ""
           }
          },
          "colorscale": {
           "diverging": [
            [
             0,
             "#8e0152"
            ],
            [
             0.1,
             "#c51b7d"
            ],
            [
             0.2,
             "#de77ae"
            ],
            [
             0.3,
             "#f1b6da"
            ],
            [
             0.4,
             "#fde0ef"
            ],
            [
             0.5,
             "#f7f7f7"
            ],
            [
             0.6,
             "#e6f5d0"
            ],
            [
             0.7,
             "#b8e186"
            ],
            [
             0.8,
             "#7fbc41"
            ],
            [
             0.9,
             "#4d9221"
            ],
            [
             1,
             "#276419"
            ]
           ],
           "sequential": [
            [
             0,
             "#0d0887"
            ],
            [
             0.1111111111111111,
             "#46039f"
            ],
            [
             0.2222222222222222,
             "#7201a8"
            ],
            [
             0.3333333333333333,
             "#9c179e"
            ],
            [
             0.4444444444444444,
             "#bd3786"
            ],
            [
             0.5555555555555556,
             "#d8576b"
            ],
            [
             0.6666666666666666,
             "#ed7953"
            ],
            [
             0.7777777777777778,
             "#fb9f3a"
            ],
            [
             0.8888888888888888,
             "#fdca26"
            ],
            [
             1,
             "#f0f921"
            ]
           ],
           "sequentialminus": [
            [
             0,
             "#0d0887"
            ],
            [
             0.1111111111111111,
             "#46039f"
            ],
            [
             0.2222222222222222,
             "#7201a8"
            ],
            [
             0.3333333333333333,
             "#9c179e"
            ],
            [
             0.4444444444444444,
             "#bd3786"
            ],
            [
             0.5555555555555556,
             "#d8576b"
            ],
            [
             0.6666666666666666,
             "#ed7953"
            ],
            [
             0.7777777777777778,
             "#fb9f3a"
            ],
            [
             0.8888888888888888,
             "#fdca26"
            ],
            [
             1,
             "#f0f921"
            ]
           ]
          },
          "colorway": [
           "#636efa",
           "#EF553B",
           "#00cc96",
           "#ab63fa",
           "#FFA15A",
           "#19d3f3",
           "#FF6692",
           "#B6E880",
           "#FF97FF",
           "#FECB52"
          ],
          "font": {
           "color": "#2a3f5f"
          },
          "geo": {
           "bgcolor": "white",
           "lakecolor": "white",
           "landcolor": "#E5ECF6",
           "showlakes": true,
           "showland": true,
           "subunitcolor": "white"
          },
          "hoverlabel": {
           "align": "left"
          },
          "hovermode": "closest",
          "mapbox": {
           "style": "light"
          },
          "paper_bgcolor": "white",
          "plot_bgcolor": "#E5ECF6",
          "polar": {
           "angularaxis": {
            "gridcolor": "white",
            "linecolor": "white",
            "ticks": ""
           },
           "bgcolor": "#E5ECF6",
           "radialaxis": {
            "gridcolor": "white",
            "linecolor": "white",
            "ticks": ""
           }
          },
          "scene": {
           "xaxis": {
            "backgroundcolor": "#E5ECF6",
            "gridcolor": "white",
            "gridwidth": 2,
            "linecolor": "white",
            "showbackground": true,
            "ticks": "",
            "zerolinecolor": "white"
           },
           "yaxis": {
            "backgroundcolor": "#E5ECF6",
            "gridcolor": "white",
            "gridwidth": 2,
            "linecolor": "white",
            "showbackground": true,
            "ticks": "",
            "zerolinecolor": "white"
           },
           "zaxis": {
            "backgroundcolor": "#E5ECF6",
            "gridcolor": "white",
            "gridwidth": 2,
            "linecolor": "white",
            "showbackground": true,
            "ticks": "",
            "zerolinecolor": "white"
           }
          },
          "shapedefaults": {
           "line": {
            "color": "#2a3f5f"
           }
          },
          "ternary": {
           "aaxis": {
            "gridcolor": "white",
            "linecolor": "white",
            "ticks": ""
           },
           "baxis": {
            "gridcolor": "white",
            "linecolor": "white",
            "ticks": ""
           },
           "bgcolor": "#E5ECF6",
           "caxis": {
            "gridcolor": "white",
            "linecolor": "white",
            "ticks": ""
           }
          },
          "title": {
           "x": 0.05
          },
          "xaxis": {
           "automargin": true,
           "gridcolor": "white",
           "linecolor": "white",
           "ticks": "",
           "title": {
            "standoff": 15
           },
           "zerolinecolor": "white",
           "zerolinewidth": 2
          },
          "yaxis": {
           "automargin": true,
           "gridcolor": "white",
           "linecolor": "white",
           "ticks": "",
           "title": {
            "standoff": 15
           },
           "zerolinecolor": "white",
           "zerolinewidth": 2
          }
         }
        },
        "xaxis": {
         "anchor": "y",
         "domain": [
          0,
          1
         ],
         "title": {
          "text": "Year"
         }
        },
        "yaxis": {
         "anchor": "x",
         "domain": [
          0,
          1
         ],
         "title": {
          "text": "Price in $"
         }
        }
       }
      },
      "text/html": [
       "<div>\n",
       "        \n",
       "        \n",
       "            <div id=\"79372be9-427b-40fb-b383-686919c6f9d4\" class=\"plotly-graph-div\" style=\"height:525px; width:100%;\"></div>\n",
       "            <script type=\"text/javascript\">\n",
       "                require([\"plotly\"], function(Plotly) {\n",
       "                    window.PLOTLYENV=window.PLOTLYENV || {};\n",
       "                    \n",
       "                if (document.getElementById(\"79372be9-427b-40fb-b383-686919c6f9d4\")) {\n",
       "                    Plotly.newPlot(\n",
       "                        '79372be9-427b-40fb-b383-686919c6f9d4',\n",
       "                        [{\"alignmentgroup\": \"True\", \"hovertemplate\": \"Year=%{x}<br>Price in $=%{y}<extra></extra>\", \"legendgroup\": \"\", \"marker\": {\"color\": \"#636efa\"}, \"name\": \"\", \"offsetgroup\": \"\", \"orientation\": \"v\", \"showlegend\": false, \"textposition\": \"auto\", \"type\": \"bar\", \"x\": [2009, 2009, 2009, 2009, 2009, 2009, 2009, 2009, 2009, 2009, 2009, 2009, 2009, 2009, 2009, 2009, 2009, 2009, 2009, 2009, 2009, 2009, 2010, 2010, 2010, 2010, 2010, 2010, 2010, 2010, 2010, 2010, 2010, 2010, 2010, 2010, 2010, 2010, 2010, 2010, 2010, 2010, 2010, 2010, 2010, 2010, 2011, 2011, 2011, 2011, 2011, 2011, 2011, 2011, 2011, 2011, 2011, 2011, 2011, 2011, 2011, 2011, 2011, 2011, 2011, 2011, 2011, 2011, 2011, 2011, 2012, 2012, 2012, 2012, 2012, 2012, 2012, 2012, 2012, 2012, 2012, 2012, 2012, 2012, 2012, 2012, 2012, 2012, 2012, 2012, 2012, 2012, 2012, 2012, 2013, 2013, 2013, 2013, 2013, 2013, 2013, 2013, 2013, 2013, 2013, 2013, 2013, 2013, 2013, 2013, 2013, 2013, 2013, 2013, 2013, 2013, 2013, 2013, 2014, 2014, 2014, 2014, 2014, 2014, 2014, 2014, 2014, 2014, 2014, 2014, 2014, 2014, 2014, 2014, 2014, 2014, 2014, 2014, 2014, 2014, 2014, 2014, 2015, 2015, 2015, 2015, 2015, 2015, 2015, 2015, 2015, 2015, 2015, 2015, 2015, 2015, 2015, 2015, 2015, 2015, 2015, 2015, 2015, 2015, 2015, 2015, 2016, 2016, 2016, 2016, 2016, 2016, 2016, 2016, 2016, 2016, 2016, 2016, 2016, 2016, 2016, 2016, 2016, 2016, 2016, 2016, 2016, 2016, 2016, 2016, 2017, 2017, 2017, 2017, 2017, 2017, 2017, 2017, 2017, 2017, 2017, 2017, 2017, 2017, 2017, 2017, 2017, 2017, 2017, 2017, 2017, 2017, 2017, 2017, 2018, 2018, 2018, 2018, 2018, 2018, 2018, 2018, 2018, 2018, 2018, 2018, 2018, 2018, 2018, 2018, 2018, 2018, 2018, 2018, 2018, 2018, 2018, 2018, 2019, 2019, 2019, 2019, 2019, 2019, 2019, 2019, 2019, 2019, 2019, 2019, 2019, 2019, 2019, 2019, 2019, 2019, 2019, 2019, 2019, 2019, 2019, 2019, 2020, 2020, 2020, 2020, 2020, 2020, 2020, 2020, 2020, 2020, 2020, 2020, 2020, 2020, 2020, 2020, 2020, 2020, 2020, 2020], \"xaxis\": \"x\", \"y\": [29.030504401645782, 31.303590008088246, 30.453785649814204, 32.7628717415513, 33.810551822199294, 33.967592336095834, 34.091986714180216, 37.85646150582002, 42.32565731634411, 42.637314937462634, 47.945033637717, 47.64546483958316, 28.94479721248637, 29.970178996354427, 32.52926420424574, 33.78529815142599, 33.583795379151084, 42.114079405455456, 41.82525876519476, 42.19911491870729, 48.84763037897525, 48.27066077436144, 54.621626494273755, 54.582532269748796, 45.903810554572196, 41.576738679389045, 40.85468707873729, 37.73596284799962, 38.21526943229905, 37.500876280345565, 37.0732860542264, 37.39555615468473, 37.65415137910419, 39.72358485036749, 53.17993998288574, 50.985842119823225, 44.9969137441536, 40.08427346938775, 39.884787068187414, 37.400793883412064, 37.9851519230093, 36.06832456130068, 36.324904757997395, 36.95292173158752, 39.00959201725492, 40.4171560491859, 40.978947121640154, 39.90466867505187, 39.67777521011851, 39.43113716020584, 39.347446342120996, 39.08844811215698, 40.162995229108304, 40.29047931636755, 40.685289071493045, 41.49465854013059, 43.18540247805038, 44.28023420741071, 39.73298831307365, 38.6913533155939, 38.624991735924695, 38.31763149726289, 38.12875891875417, 36.998998698847714, 39.14272086884151, 38.51456821671805, 38.82958421737448, 39.22345631293298, 41.59540992626803, 42.06800378154708, 42.84338510590911, 41.86555931964974, 42.06289635794582, 42.82887690630531, 43.683384339284245, 43.55012115251614, 45.338123761853964, 50.21301182055821, 51.73315007795191, 52.3341656800572, 50.039855114935115, 50.1909821941413, 40.45221887491355, 40.13505216800103, 39.841801153453915, 40.233386864223, 40.71632184177519, 40.8362818155177, 44.47837860014769, 48.812032899225166, 49.45227303098149, 48.72941541924064, 48.261392990188604, 46.684162280650334, 47.56110234559073, 47.974451699117324, 46.39870001992755, 45.6571698179559, 45.627213072477694, 45.811655276699994, 44.891324948129736, 44.53211267275434, 44.77835040382609, 45.419396546671514, 45.143337748654886, 44.57241322720932, 45.222325492034834, 44.64105984831612, 44.238723292970256, 42.96187007935856, 43.355469474498584, 43.020170204784954, 42.768829080167386, 42.88798572952443, 42.512650545663405, 41.75137441536063, 41.023682080437, 40.78134006962923, 44.157453194856345, 43.56489936583478, 43.11487650775416, 43.718577470137966, 45.853031855958925, 48.58460075021392, 48.48277736932797, 47.08797383628925, 44.751886373067315, 44.12467272386266, 42.89765786259363, 40.92333369984409, 39.51509664865372, 37.95841922188749, 38.777329175116336, 43.724222234465294, 44.43377797653237, 42.594999355284905, 43.75296861995803, 43.14550492913995, 42.73014189124242, 41.51494315253959, 40.825940693244554, 38.628081445099575, 40.327421491284625, 39.72962993353573, 37.56266777713957, 37.133065210001284, 36.948891676142026, 35.739203366584995, 33.846690672730894, 35.4357415348908, 36.31523396828002, 38.44672895005216, 38.82286745829865, 40.2269387755102, 37.983272573819875, 37.68692782004243, 36.07544432592106, 34.978733247371316, 35.16465045188667, 33.348708811497026, 31.32293427422663, 32.58098459248145, 34.82438212380874, 37.55057895415489, 37.490935476913336, 38.53566018356797, 42.376033009412836, 44.18700693479, 46.18443540540857, 48.98304158529581, 48.76152287097492, 49.89208641526685, 51.25531983729735, 52.242549086262876, 52.21165065116224, 53.01605106143548, 52.18478361485892, 50.58807833405619, 42.98161735104151, 43.85345133573245, 45.16711507578333, 49.25291827825903, 49.20925934426614, 49.48800484591309, 50.03340702622232, 50.49901142200706, 50.09936425699516, 50.34493031215933, 50.348826032423304, 50.1490682741563, 52.65267439543307, 53.239853473842146, 52.813876613252994, 52.25638560995909, 53.165430439930134, 52.79816074036737, 53.96808314949184, 54.04747792847179, 53.91542510168915, 54.32004401176898, 52.99079470395854, 49.262055757305795, 52.287955720967304, 54.33925259937404, 55.117187635536695, 54.46714103552966, 53.55298878195735, 52.7984294107304, 51.49403345485236, 52.349748561113124, 51.65187729313437, 51.146106678076166, 49.949313202592926, 46.60826290309346, 47.568087775029596, 47.76569482704052, 45.59336060673551, 41.706639456563785, 39.459883545698574, 44.31274197798591, 46.14198683140114, 45.75012842021357, 45.924764156185155, 46.64117502256502, 46.12788029399008, 44.69895562484614, 43.87951101759486, 43.16256549719256, 44.029566102052534, 40.59367516440235, 37.22092041871315, 42.15559031989591, 44.808037135589444, 44.140661297166766, 42.90531228123644, 43.15893844729161, 42.93191064717673, 41.89739810102099, 45.68739523379713, 45.918586081187215, 44.97541877175913, 45.59779501107737, 47.55021985253607, 47.67999032458474, 46.558022888558064, 48.72780474041426, 49.27414458029047, 49.54281494332368, 48.66735390873178, 47.54162374427083, 41.75943586960344, 42.498548038307796, 43.49773177507648, 43.39698038893903, 43.8885141614601, 43.783462706162304, 43.427877480687854, 44.94492468555486, 45.80681786681358, 45.44962196251275, 44.947341375470344, 45.169936114595174, 47.93750952420026, 47.295521691732404, 46.29929198560527, 46.49340632289676, 45.894941745888474, 46.96801251919492, 47.55895298268647, 47.50991929808109, 47.07104760341816, 46.90608265716396, 45.445054566341184, 45.45472535605856, 44.79997568134663, 44.62614729981596, 44.75255536227127, 44.95607450562074, 45.30453996647481, 45.398843263899465, 45.206205270252845, 44.47972195196286], \"yaxis\": \"y\"}],\n",
       "                        {\"barmode\": \"relative\", \"legend\": {\"tracegroupgap\": 0}, \"margin\": {\"t\": 60}, \"template\": {\"data\": {\"bar\": [{\"error_x\": {\"color\": \"#2a3f5f\"}, \"error_y\": {\"color\": \"#2a3f5f\"}, \"marker\": {\"line\": {\"color\": \"#E5ECF6\", \"width\": 0.5}}, \"type\": \"bar\"}], \"barpolar\": [{\"marker\": {\"line\": {\"color\": \"#E5ECF6\", \"width\": 0.5}}, \"type\": \"barpolar\"}], \"carpet\": [{\"aaxis\": {\"endlinecolor\": \"#2a3f5f\", \"gridcolor\": \"white\", \"linecolor\": \"white\", \"minorgridcolor\": \"white\", \"startlinecolor\": \"#2a3f5f\"}, \"baxis\": {\"endlinecolor\": \"#2a3f5f\", \"gridcolor\": \"white\", \"linecolor\": \"white\", \"minorgridcolor\": \"white\", \"startlinecolor\": \"#2a3f5f\"}, \"type\": \"carpet\"}], \"choropleth\": [{\"colorbar\": {\"outlinewidth\": 0, \"ticks\": \"\"}, \"type\": \"choropleth\"}], \"contour\": [{\"colorbar\": {\"outlinewidth\": 0, \"ticks\": \"\"}, \"colorscale\": [[0.0, \"#0d0887\"], [0.1111111111111111, \"#46039f\"], [0.2222222222222222, \"#7201a8\"], [0.3333333333333333, \"#9c179e\"], [0.4444444444444444, \"#bd3786\"], [0.5555555555555556, \"#d8576b\"], [0.6666666666666666, \"#ed7953\"], [0.7777777777777778, \"#fb9f3a\"], [0.8888888888888888, \"#fdca26\"], [1.0, \"#f0f921\"]], \"type\": \"contour\"}], \"contourcarpet\": [{\"colorbar\": {\"outlinewidth\": 0, \"ticks\": \"\"}, \"type\": \"contourcarpet\"}], \"heatmap\": [{\"colorbar\": {\"outlinewidth\": 0, \"ticks\": \"\"}, \"colorscale\": [[0.0, \"#0d0887\"], [0.1111111111111111, \"#46039f\"], [0.2222222222222222, \"#7201a8\"], [0.3333333333333333, \"#9c179e\"], [0.4444444444444444, \"#bd3786\"], [0.5555555555555556, \"#d8576b\"], [0.6666666666666666, \"#ed7953\"], [0.7777777777777778, \"#fb9f3a\"], [0.8888888888888888, \"#fdca26\"], [1.0, \"#f0f921\"]], \"type\": \"heatmap\"}], \"heatmapgl\": [{\"colorbar\": {\"outlinewidth\": 0, \"ticks\": \"\"}, \"colorscale\": [[0.0, \"#0d0887\"], [0.1111111111111111, \"#46039f\"], [0.2222222222222222, \"#7201a8\"], [0.3333333333333333, \"#9c179e\"], [0.4444444444444444, \"#bd3786\"], [0.5555555555555556, \"#d8576b\"], [0.6666666666666666, \"#ed7953\"], [0.7777777777777778, \"#fb9f3a\"], [0.8888888888888888, \"#fdca26\"], [1.0, \"#f0f921\"]], \"type\": \"heatmapgl\"}], \"histogram\": [{\"marker\": {\"colorbar\": {\"outlinewidth\": 0, \"ticks\": \"\"}}, \"type\": \"histogram\"}], \"histogram2d\": [{\"colorbar\": {\"outlinewidth\": 0, \"ticks\": \"\"}, \"colorscale\": [[0.0, \"#0d0887\"], [0.1111111111111111, \"#46039f\"], [0.2222222222222222, \"#7201a8\"], [0.3333333333333333, \"#9c179e\"], [0.4444444444444444, \"#bd3786\"], [0.5555555555555556, \"#d8576b\"], [0.6666666666666666, \"#ed7953\"], [0.7777777777777778, \"#fb9f3a\"], [0.8888888888888888, \"#fdca26\"], [1.0, \"#f0f921\"]], \"type\": \"histogram2d\"}], \"histogram2dcontour\": [{\"colorbar\": {\"outlinewidth\": 0, \"ticks\": \"\"}, \"colorscale\": [[0.0, \"#0d0887\"], [0.1111111111111111, \"#46039f\"], [0.2222222222222222, \"#7201a8\"], [0.3333333333333333, \"#9c179e\"], [0.4444444444444444, \"#bd3786\"], [0.5555555555555556, \"#d8576b\"], [0.6666666666666666, \"#ed7953\"], [0.7777777777777778, \"#fb9f3a\"], [0.8888888888888888, \"#fdca26\"], [1.0, \"#f0f921\"]], \"type\": \"histogram2dcontour\"}], \"mesh3d\": [{\"colorbar\": {\"outlinewidth\": 0, \"ticks\": \"\"}, \"type\": \"mesh3d\"}], \"parcoords\": [{\"line\": {\"colorbar\": {\"outlinewidth\": 0, \"ticks\": \"\"}}, \"type\": \"parcoords\"}], \"pie\": [{\"automargin\": true, \"type\": \"pie\"}], \"scatter\": [{\"marker\": {\"colorbar\": {\"outlinewidth\": 0, \"ticks\": \"\"}}, \"type\": \"scatter\"}], \"scatter3d\": [{\"line\": {\"colorbar\": {\"outlinewidth\": 0, \"ticks\": \"\"}}, \"marker\": {\"colorbar\": {\"outlinewidth\": 0, \"ticks\": \"\"}}, \"type\": \"scatter3d\"}], \"scattercarpet\": [{\"marker\": {\"colorbar\": {\"outlinewidth\": 0, \"ticks\": \"\"}}, \"type\": \"scattercarpet\"}], \"scattergeo\": [{\"marker\": {\"colorbar\": {\"outlinewidth\": 0, \"ticks\": \"\"}}, \"type\": \"scattergeo\"}], \"scattergl\": [{\"marker\": {\"colorbar\": {\"outlinewidth\": 0, \"ticks\": \"\"}}, \"type\": \"scattergl\"}], \"scattermapbox\": [{\"marker\": {\"colorbar\": {\"outlinewidth\": 0, \"ticks\": \"\"}}, \"type\": \"scattermapbox\"}], \"scatterpolar\": [{\"marker\": {\"colorbar\": {\"outlinewidth\": 0, \"ticks\": \"\"}}, \"type\": \"scatterpolar\"}], \"scatterpolargl\": [{\"marker\": {\"colorbar\": {\"outlinewidth\": 0, \"ticks\": \"\"}}, \"type\": \"scatterpolargl\"}], \"scatterternary\": [{\"marker\": {\"colorbar\": {\"outlinewidth\": 0, \"ticks\": \"\"}}, \"type\": \"scatterternary\"}], \"surface\": [{\"colorbar\": {\"outlinewidth\": 0, \"ticks\": \"\"}, \"colorscale\": [[0.0, \"#0d0887\"], [0.1111111111111111, \"#46039f\"], [0.2222222222222222, \"#7201a8\"], [0.3333333333333333, \"#9c179e\"], [0.4444444444444444, \"#bd3786\"], [0.5555555555555556, \"#d8576b\"], [0.6666666666666666, \"#ed7953\"], [0.7777777777777778, \"#fb9f3a\"], [0.8888888888888888, \"#fdca26\"], [1.0, \"#f0f921\"]], \"type\": \"surface\"}], \"table\": [{\"cells\": {\"fill\": {\"color\": \"#EBF0F8\"}, \"line\": {\"color\": \"white\"}}, \"header\": {\"fill\": {\"color\": \"#C8D4E3\"}, \"line\": {\"color\": \"white\"}}, \"type\": \"table\"}]}, \"layout\": {\"annotationdefaults\": {\"arrowcolor\": \"#2a3f5f\", \"arrowhead\": 0, \"arrowwidth\": 1}, \"coloraxis\": {\"colorbar\": {\"outlinewidth\": 0, \"ticks\": \"\"}}, \"colorscale\": {\"diverging\": [[0, \"#8e0152\"], [0.1, \"#c51b7d\"], [0.2, \"#de77ae\"], [0.3, \"#f1b6da\"], [0.4, \"#fde0ef\"], [0.5, \"#f7f7f7\"], [0.6, \"#e6f5d0\"], [0.7, \"#b8e186\"], [0.8, \"#7fbc41\"], [0.9, \"#4d9221\"], [1, \"#276419\"]], \"sequential\": [[0.0, \"#0d0887\"], [0.1111111111111111, \"#46039f\"], [0.2222222222222222, \"#7201a8\"], [0.3333333333333333, \"#9c179e\"], [0.4444444444444444, \"#bd3786\"], [0.5555555555555556, \"#d8576b\"], [0.6666666666666666, \"#ed7953\"], [0.7777777777777778, \"#fb9f3a\"], [0.8888888888888888, \"#fdca26\"], [1.0, \"#f0f921\"]], \"sequentialminus\": [[0.0, \"#0d0887\"], [0.1111111111111111, \"#46039f\"], [0.2222222222222222, \"#7201a8\"], [0.3333333333333333, \"#9c179e\"], [0.4444444444444444, \"#bd3786\"], [0.5555555555555556, \"#d8576b\"], [0.6666666666666666, \"#ed7953\"], [0.7777777777777778, \"#fb9f3a\"], [0.8888888888888888, \"#fdca26\"], [1.0, \"#f0f921\"]]}, \"colorway\": [\"#636efa\", \"#EF553B\", \"#00cc96\", \"#ab63fa\", \"#FFA15A\", \"#19d3f3\", \"#FF6692\", \"#B6E880\", \"#FF97FF\", \"#FECB52\"], \"font\": {\"color\": \"#2a3f5f\"}, \"geo\": {\"bgcolor\": \"white\", \"lakecolor\": \"white\", \"landcolor\": \"#E5ECF6\", \"showlakes\": true, \"showland\": true, \"subunitcolor\": \"white\"}, \"hoverlabel\": {\"align\": \"left\"}, \"hovermode\": \"closest\", \"mapbox\": {\"style\": \"light\"}, \"paper_bgcolor\": \"white\", \"plot_bgcolor\": \"#E5ECF6\", \"polar\": {\"angularaxis\": {\"gridcolor\": \"white\", \"linecolor\": \"white\", \"ticks\": \"\"}, \"bgcolor\": \"#E5ECF6\", \"radialaxis\": {\"gridcolor\": \"white\", \"linecolor\": \"white\", \"ticks\": \"\"}}, \"scene\": {\"xaxis\": {\"backgroundcolor\": \"#E5ECF6\", \"gridcolor\": \"white\", \"gridwidth\": 2, \"linecolor\": \"white\", \"showbackground\": true, \"ticks\": \"\", \"zerolinecolor\": \"white\"}, \"yaxis\": {\"backgroundcolor\": \"#E5ECF6\", \"gridcolor\": \"white\", \"gridwidth\": 2, \"linecolor\": \"white\", \"showbackground\": true, \"ticks\": \"\", \"zerolinecolor\": \"white\"}, \"zaxis\": {\"backgroundcolor\": \"#E5ECF6\", \"gridcolor\": \"white\", \"gridwidth\": 2, \"linecolor\": \"white\", \"showbackground\": true, \"ticks\": \"\", \"zerolinecolor\": \"white\"}}, \"shapedefaults\": {\"line\": {\"color\": \"#2a3f5f\"}}, \"ternary\": {\"aaxis\": {\"gridcolor\": \"white\", \"linecolor\": \"white\", \"ticks\": \"\"}, \"baxis\": {\"gridcolor\": \"white\", \"linecolor\": \"white\", \"ticks\": \"\"}, \"bgcolor\": \"#E5ECF6\", \"caxis\": {\"gridcolor\": \"white\", \"linecolor\": \"white\", \"ticks\": \"\"}}, \"title\": {\"x\": 0.05}, \"xaxis\": {\"automargin\": true, \"gridcolor\": \"white\", \"linecolor\": \"white\", \"ticks\": \"\", \"title\": {\"standoff\": 15}, \"zerolinecolor\": \"white\", \"zerolinewidth\": 2}, \"yaxis\": {\"automargin\": true, \"gridcolor\": \"white\", \"linecolor\": \"white\", \"ticks\": \"\", \"title\": {\"standoff\": 15}, \"zerolinecolor\": \"white\", \"zerolinewidth\": 2}}}, \"xaxis\": {\"anchor\": \"y\", \"domain\": [0.0, 1.0], \"title\": {\"text\": \"Year\"}}, \"yaxis\": {\"anchor\": \"x\", \"domain\": [0.0, 1.0], \"title\": {\"text\": \"Price in $\"}}},\n",
       "                        {\"responsive\": true}\n",
       "                    ).then(function(){\n",
       "                            \n",
       "var gd = document.getElementById('79372be9-427b-40fb-b383-686919c6f9d4');\n",
       "var x = new MutationObserver(function (mutations, observer) {{\n",
       "        var display = window.getComputedStyle(gd).display;\n",
       "        if (!display || display === 'none') {{\n",
       "            console.log([gd, 'removed!']);\n",
       "            Plotly.purge(gd);\n",
       "            observer.disconnect();\n",
       "        }}\n",
       "}});\n",
       "\n",
       "// Listen for the removal of the full notebook cells\n",
       "var notebookContainer = gd.closest('#notebook-container');\n",
       "if (notebookContainer) {{\n",
       "    x.observe(notebookContainer, {childList: true});\n",
       "}}\n",
       "\n",
       "// Listen for the clearing of the current output cell\n",
       "var outputEl = gd.closest('.output');\n",
       "if (outputEl) {{\n",
       "    x.observe(outputEl, {childList: true});\n",
       "}}\n",
       "\n",
       "                        })\n",
       "                };\n",
       "                });\n",
       "            </script>\n",
       "        </div>"
      ]
     },
     "metadata": {},
     "output_type": "display_data"
    },
    {
     "name": "stdout",
     "output_type": "stream",
     "text": [
      "Rice - Retail\n"
     ]
    },
    {
     "data": {
      "application/vnd.plotly.v1+json": {
       "config": {
        "plotlyServerURL": "https://plot.ly"
       },
       "data": [
        {
         "alignmentgroup": "True",
         "hovertemplate": "Year=%{x}<br>Price in $=%{y}<extra></extra>",
         "legendgroup": "",
         "marker": {
          "color": "#636efa"
         },
         "name": "",
         "offsetgroup": "",
         "orientation": "v",
         "showlegend": false,
         "textposition": "auto",
         "type": "bar",
         "x": [
          2000,
          2000,
          2000,
          2000,
          2000,
          2000,
          2000,
          2000,
          2000,
          2000,
          2000,
          2000,
          2000,
          2000,
          2000,
          2000,
          2000,
          2000,
          2000,
          2000,
          2000,
          2000,
          2000,
          2000,
          2000,
          2000,
          2000,
          2000,
          2000,
          2000,
          2000,
          2000,
          2000,
          2000,
          2000,
          2000,
          2000,
          2000,
          2000,
          2000,
          2000,
          2000,
          2000,
          2000,
          2000,
          2000,
          2001,
          2001,
          2001,
          2001,
          2001,
          2001,
          2001,
          2001,
          2001,
          2001,
          2001,
          2001,
          2001,
          2001,
          2001,
          2001,
          2001,
          2001,
          2001,
          2001,
          2001,
          2001,
          2001,
          2001,
          2001,
          2001,
          2001,
          2001,
          2001,
          2001,
          2001,
          2001,
          2001,
          2001,
          2001,
          2001,
          2001,
          2001,
          2001,
          2001,
          2001,
          2001,
          2002,
          2002,
          2002,
          2002,
          2002,
          2002,
          2002,
          2002,
          2002,
          2002,
          2002,
          2002,
          2002,
          2002,
          2002,
          2002,
          2002,
          2002,
          2002,
          2002,
          2002,
          2002,
          2002,
          2002,
          2002,
          2002,
          2002,
          2002,
          2002,
          2002,
          2002,
          2002,
          2002,
          2002,
          2002,
          2002,
          2002,
          2002,
          2002,
          2003,
          2003,
          2003,
          2003,
          2003,
          2003,
          2003,
          2003,
          2003,
          2003,
          2003,
          2003,
          2003,
          2003,
          2003,
          2003,
          2003,
          2003,
          2003,
          2003,
          2003,
          2003,
          2003,
          2003,
          2003,
          2003,
          2003,
          2003,
          2003,
          2003,
          2003,
          2003,
          2003,
          2003,
          2003,
          2003,
          2003,
          2003,
          2003,
          2003,
          2003,
          2004,
          2004,
          2004,
          2004,
          2004,
          2004,
          2004,
          2004,
          2004,
          2004,
          2004,
          2004,
          2004,
          2004,
          2004,
          2004,
          2004,
          2004,
          2004,
          2004,
          2004,
          2004,
          2004,
          2004,
          2004,
          2004,
          2004,
          2004,
          2004,
          2004,
          2004,
          2004,
          2004,
          2004,
          2004,
          2004,
          2004,
          2004,
          2004,
          2004,
          2004,
          2004,
          2004,
          2005,
          2005,
          2005,
          2005,
          2005,
          2005,
          2005,
          2005,
          2005,
          2005,
          2005,
          2005,
          2005,
          2005,
          2005,
          2005,
          2005,
          2005,
          2005,
          2005,
          2005,
          2005,
          2005,
          2005,
          2005,
          2005,
          2005,
          2005,
          2005,
          2005,
          2005,
          2005,
          2005,
          2005,
          2005,
          2005,
          2005,
          2005,
          2005,
          2005,
          2005,
          2005,
          2005,
          2005,
          2005,
          2005,
          2005,
          2005,
          2006,
          2006,
          2006,
          2006,
          2006,
          2006,
          2006,
          2006,
          2006,
          2006,
          2006,
          2006,
          2006,
          2006,
          2006,
          2006,
          2006,
          2006,
          2006,
          2006,
          2006,
          2006,
          2006,
          2006,
          2006,
          2006,
          2006,
          2006,
          2006,
          2006,
          2006,
          2006,
          2006,
          2006,
          2006,
          2006,
          2006,
          2006,
          2006,
          2006,
          2006,
          2006,
          2006,
          2006,
          2006,
          2006,
          2006,
          2006,
          2007,
          2007,
          2007,
          2007,
          2007,
          2007,
          2007,
          2007,
          2007,
          2007,
          2007,
          2007,
          2007,
          2007,
          2007,
          2007,
          2007,
          2007,
          2007,
          2007,
          2007,
          2007,
          2007,
          2007,
          2007,
          2007,
          2007,
          2007,
          2007,
          2007,
          2007,
          2007,
          2007,
          2007,
          2007,
          2007,
          2007,
          2007,
          2007,
          2007,
          2007,
          2007,
          2007,
          2007,
          2007,
          2007,
          2007,
          2007,
          2008,
          2008,
          2008,
          2008,
          2008,
          2008,
          2008,
          2008,
          2008,
          2008,
          2008,
          2008,
          2008,
          2008,
          2008,
          2008,
          2008,
          2008,
          2008,
          2008,
          2008,
          2008,
          2008,
          2008,
          2008,
          2008,
          2008,
          2008,
          2008,
          2008,
          2008,
          2008,
          2008,
          2008,
          2008,
          2008,
          2008,
          2008,
          2008,
          2008,
          2008,
          2008,
          2008,
          2008,
          2008,
          2008,
          2008,
          2008,
          2009,
          2009,
          2009,
          2009,
          2009,
          2009,
          2009,
          2009,
          2009,
          2009,
          2009,
          2009,
          2009,
          2009,
          2009,
          2009,
          2009,
          2009,
          2009,
          2009,
          2009,
          2009,
          2009,
          2009,
          2009,
          2009,
          2009,
          2009,
          2009,
          2009,
          2009,
          2009,
          2009,
          2009,
          2009,
          2009,
          2009,
          2009,
          2009,
          2009,
          2009,
          2009,
          2009,
          2009,
          2009,
          2009,
          2009,
          2009,
          2010,
          2010,
          2010,
          2010,
          2010,
          2010,
          2010,
          2010,
          2010,
          2010,
          2010,
          2010,
          2010,
          2010,
          2010,
          2010,
          2010,
          2010,
          2010,
          2010,
          2010,
          2010,
          2010,
          2010,
          2010,
          2010,
          2010,
          2010,
          2010,
          2010,
          2010,
          2010,
          2010,
          2010,
          2010,
          2010,
          2010,
          2010,
          2010,
          2010,
          2010,
          2010,
          2010,
          2010,
          2010,
          2010,
          2010,
          2010,
          2011,
          2011,
          2011,
          2011,
          2011,
          2011,
          2011,
          2011,
          2011,
          2011,
          2011,
          2011,
          2011,
          2011,
          2011,
          2011,
          2011,
          2011,
          2011,
          2011,
          2011,
          2011,
          2011,
          2011,
          2011,
          2011,
          2011,
          2011,
          2011,
          2011,
          2011,
          2011,
          2011,
          2011,
          2011,
          2011,
          2011,
          2011,
          2011,
          2011,
          2011,
          2011,
          2011,
          2011,
          2011,
          2011,
          2011,
          2011,
          2012,
          2012,
          2012,
          2012,
          2012,
          2012,
          2012,
          2012,
          2012,
          2012,
          2012,
          2012,
          2012,
          2012,
          2012,
          2012,
          2012,
          2012,
          2012,
          2012,
          2012,
          2012,
          2012,
          2012,
          2012,
          2012,
          2012,
          2012,
          2012,
          2012,
          2012,
          2012,
          2012,
          2012,
          2012,
          2012,
          2012,
          2012,
          2012,
          2012,
          2012,
          2012,
          2012,
          2012,
          2012,
          2012,
          2012,
          2012,
          2013,
          2013,
          2013,
          2013,
          2013,
          2013,
          2013,
          2013,
          2013,
          2013,
          2013,
          2013,
          2013,
          2013,
          2013,
          2013,
          2013,
          2013,
          2013,
          2013,
          2013,
          2013,
          2013,
          2013,
          2013,
          2013,
          2013,
          2013,
          2013,
          2013,
          2013,
          2013,
          2013,
          2013,
          2013,
          2013,
          2013,
          2013,
          2013,
          2013,
          2013,
          2013,
          2013,
          2013,
          2013,
          2013,
          2013,
          2013,
          2014,
          2014,
          2014,
          2014,
          2014,
          2014,
          2014,
          2014,
          2014,
          2014,
          2014,
          2014,
          2014,
          2014,
          2014,
          2014,
          2014,
          2014,
          2014,
          2014,
          2014,
          2014,
          2014,
          2014,
          2014,
          2014,
          2014,
          2014,
          2014,
          2014,
          2014,
          2014,
          2014,
          2014,
          2014,
          2014,
          2014,
          2014,
          2014,
          2014,
          2014,
          2014,
          2014,
          2014,
          2014,
          2014,
          2014,
          2014,
          2015,
          2015,
          2015,
          2015,
          2015,
          2015,
          2015,
          2015,
          2015,
          2015,
          2015,
          2015,
          2015,
          2015,
          2015,
          2015,
          2015,
          2015,
          2015,
          2015,
          2015,
          2015,
          2015,
          2015,
          2015,
          2015,
          2015,
          2015,
          2015,
          2015,
          2015,
          2015,
          2015,
          2015,
          2015,
          2015,
          2015,
          2015,
          2015,
          2015,
          2015,
          2015,
          2015,
          2015,
          2015,
          2015,
          2015,
          2015,
          2016,
          2016,
          2016,
          2016,
          2016,
          2016,
          2016,
          2016,
          2016,
          2016,
          2016,
          2016,
          2016,
          2016,
          2016,
          2016,
          2016,
          2016,
          2016,
          2016,
          2016,
          2016,
          2016,
          2016,
          2016,
          2016,
          2016,
          2016,
          2016,
          2016,
          2016,
          2016,
          2016,
          2016,
          2016,
          2016,
          2016,
          2016,
          2016,
          2016,
          2016,
          2016,
          2016,
          2016,
          2016,
          2016,
          2016,
          2016,
          2017,
          2017,
          2017,
          2017,
          2017,
          2017,
          2017,
          2017,
          2017,
          2017,
          2017,
          2017,
          2017,
          2017,
          2017,
          2017,
          2017,
          2017,
          2017,
          2017,
          2017,
          2017,
          2017,
          2017,
          2017,
          2017,
          2017,
          2017,
          2017,
          2017,
          2017,
          2017,
          2017,
          2017,
          2017,
          2017,
          2017,
          2017,
          2017,
          2017,
          2017,
          2017,
          2017,
          2017,
          2017,
          2017,
          2017,
          2017,
          2018,
          2018,
          2018,
          2018,
          2018,
          2018,
          2018,
          2018,
          2018,
          2018,
          2018,
          2018,
          2018,
          2018,
          2018,
          2018,
          2018,
          2018,
          2018,
          2018,
          2018,
          2018,
          2018,
          2018,
          2018,
          2018,
          2018,
          2018,
          2018,
          2018,
          2018,
          2018,
          2018,
          2018,
          2018,
          2018,
          2018,
          2018,
          2018,
          2018,
          2018,
          2018,
          2018,
          2018,
          2018,
          2018,
          2018,
          2018,
          2019,
          2019,
          2019,
          2019,
          2019,
          2019,
          2019,
          2019,
          2019,
          2019,
          2019,
          2019,
          2019,
          2019,
          2019,
          2019,
          2019,
          2019,
          2019,
          2019,
          2019,
          2019,
          2019,
          2019,
          2019,
          2019,
          2019,
          2019,
          2019,
          2019,
          2019,
          2019,
          2019,
          2019,
          2019,
          2019,
          2019,
          2019,
          2019,
          2019,
          2019,
          2019,
          2019,
          2019,
          2019,
          2019,
          2019,
          2019,
          2020,
          2020,
          2020,
          2020,
          2020,
          2020,
          2020,
          2020,
          2020,
          2020,
          2020,
          2020,
          2020,
          2020,
          2020,
          2020,
          2020,
          2020,
          2020,
          2020,
          2020,
          2020,
          2020,
          2020,
          2020,
          2020,
          2020,
          2020,
          2020,
          2020,
          2020,
          2020,
          2020,
          2020,
          2020,
          2020,
          2020,
          2020,
          2020,
          2020
         ],
         "xaxis": "x",
         "y": [
          10.746814521328346,
          10.88114970284495,
          11.082652475119858,
          10.746814521328346,
          10.746814521328346,
          10.746814521328346,
          10.8475659074658,
          10.948317293603253,
          10.948317293603253,
          10.075138613745326,
          14.441032013034967,
          14.105194059243455,
          14.105194059243455,
          14.149927674688483,
          14.360430904125003,
          14.105194059243455,
          14.004442673106002,
          13.769356105451944,
          12.649941037874079,
          11.821495973461182,
          11.821495973461182,
          11.79906199814791,
          15.267193379362082,
          15.448545874409499,
          15.448545874409499,
          15.83140114173182,
          15.92409241697828,
          15.78438382820101,
          15.448545874409499,
          15.240326343058761,
          14.572008815013655,
          14.441032013034967,
          14.575367194551571,
          14.441032013034967,
          14.340280626897513,
          14.608950989930722,
          14.072953615679468,
          13.198431584006377,
          12.788709280380733,
          13.097680197868923,
          13.34391658558886,
          13.097680197868923,
          12.963345016352319,
          12.761842244077412,
          12.761842244077412,
          13.164847788627226,
          12.09016633649439,
          12.09016633649439,
          12.09016633649439,
          10.075138613745326,
          10.075138613745326,
          10.075138613745326,
          11.75432838270288,
          11.75432838270288,
          11.75432838270288,
          12.442796187975476,
          13.097680197868923,
          13.097680197868923,
          12.929761220973168,
          12.963345016352319,
          12.84580173252529,
          12.761842244077412,
          12.822293075759884,
          13.033870986648536,
          14.441032013034967,
          14.441032013034967,
          14.441032013034967,
          14.441032013034967,
          14.441032013034967,
          14.441032013034967,
          14.441032013034967,
          14.441032013034967,
          14.441032013034967,
          14.441032013034967,
          14.441032013034967,
          14.441032013034967,
          13.299182970143828,
          12.761842244077412,
          12.761842244077412,
          11.75432838270288,
          11.418490428911369,
          11.855079768840332,
          13.131263993248075,
          12.627507062560808,
          12.929761220973168,
          13.809656659906926,
          13.970858877726851,
          13.836523696210246,
          10.075138613745326,
          10.075138613745326,
          10.075138613745326,
          12.929761220973168,
          12.476379983354628,
          12.174125824942267,
          12.09016633649439,
          12.537905496489232,
          12.112600311807663,
          12.157333927252692,
          12.577131369492081,
          12.493171881044203,
          12.560339471802505,
          12.644298960250383,
          12.31410308408257,
          14.441032013034967,
          14.441032013034967,
          14.441032013034967,
          14.441032013034967,
          14.441032013034967,
          13.993292853040124,
          13.433518151660433,
          13.097680197868923,
          12.873743450280744,
          12.761842244077412,
          12.761842244077412,
          12.761842244077412,
          13.299182970143828,
          12.963345016352319,
          11.922247359598634,
          12.04543272104936,
          11.821495973461182,
          11.687160791944578,
          12.022998745736087,
          12.761842244077412,
          13.433518151660433,
          14.776869966826476,
          14.944788943722232,
          15.448545874409499,
          10.243057590641081,
          10.075138613745326,
          10.075138613745326,
          10.075138613745326,
          10.410976567536837,
          12.318536145072617,
          12.381270674840872,
          12.426004290285901,
          12.442796187975476,
          12.677882755629534,
          12.381270674840872,
          12.745050346387837,
          12.54354757411293,
          12.761842244077412,
          12.980136914041895,
          12.717108628632381,
          12.963345016352319,
          12.761842244077412,
          12.761842244077412,
          12.513322158271693,
          12.264802072465976,
          12.264802072465976,
          12.264802072465976,
          12.264802072465976,
          12.264802072465976,
          12.260369011475927,
          12.261443692928061,
          12.264802072465976,
          12.364210106788263,
          15.582881055926103,
          11.284155247394764,
          14.407448217655816,
          13.433518151660433,
          13.433518151660433,
          13.433518151660433,
          13.433518151660433,
          14.441032013034967,
          15.045540329859685,
          15.616464851305254,
          15.314210692892894,
          15.287343656589574,
          10.075138613745326,
          10.075138613745326,
          10.075138613745326,
          10.075138613745326,
          12.761842244077412,
          12.761842244077412,
          12.761842244077412,
          13.208506722620122,
          13.724622490006915,
          13.63502092393534,
          13.78614800314152,
          14.306696831518362,
          14.508199603793269,
          14.592159092241147,
          14.844037557584778,
          14.978372739101383,
          15.045540329859685,
          15.045540329859685,
          14.844037557584778,
          12.600640026257487,
          12.600640026257487,
          12.600640026257487,
          12.600640026257487,
          12.600640026257487,
          12.600640026257487,
          12.600640026257487,
          12.152900866262645,
          13.225298620309697,
          13.433518151660433,
          13.433518151660433,
          13.433518151660433,
          15.17987551137629,
          15.045540329859685,
          13.997725914030172,
          13.399934356281282,
          13.601437128556189,
          14.105194059243455,
          14.105194059243455,
          14.105194059243455,
          14.105194059243455,
          14.105194059243455,
          14.105194059243455,
          14.105194059243455,
          12.761842244077412,
          12.761842244077412,
          13.097680197868923,
          13.433518151660433,
          13.433518151660433,
          12.224501518010994,
          12.09016633649439,
          12.896177425594017,
          12.09016633649439,
          12.09016633649439,
          12.593923267181657,
          14.105194059243455,
          14.172361650001758,
          14.23952924076006,
          14.441032013034967,
          14.776869966826476,
          14.978372739101383,
          14.978372739101383,
          15.045540329859685,
          14.441032013034967,
          14.23952924076006,
          13.997725914030172,
          13.836523696210246,
          13.769356105451944,
          13.433518151660433,
          13.433518151660433,
          13.433518151660433,
          13.433518151660433,
          13.836523696210246,
          14.441032013034967,
          14.414164976731644,
          14.306696831518362,
          14.340280626897513,
          14.360430904125003,
          14.279829795215042,
          14.441032013034967,
          14.105194059243455,
          14.105194059243455,
          14.105194059243455,
          14.105194059243455,
          14.105194059243455,
          14.105194059243455,
          13.567853333177037,
          13.433518151660433,
          13.433518151660433,
          13.433518151660433,
          13.433518151660433,
          14.105194059243455,
          14.105194059243455,
          14.105194059243455,
          14.105194059243455,
          14.105194059243455,
          14.105194059243455,
          14.357072524587089,
          13.097680197868923,
          12.761842244077412,
          12.761842244077412,
          12.761842244077412,
          12.761842244077412,
          12.761842244077412,
          13.876824250665228,
          13.970858877726851,
          13.876824250665228,
          14.441032013034967,
          15.381378283651197,
          15.717216237442708,
          15.582881055926103,
          16.859065280333844,
          17.463573597158565,
          17.463573597158565,
          16.590394917300635,
          16.38889214502573,
          14.441032013034967,
          14.441032013034967,
          14.441032013034967,
          14.441032013034967,
          14.944788943722232,
          15.280626897513743,
          15.78438382820101,
          15.78438382820101,
          15.78438382820101,
          15.78438382820101,
          15.78438382820101,
          15.78438382820101,
          14.441032013034967,
          15.448545874409499,
          15.448545874409499,
          15.448545874409499,
          15.448545874409499,
          15.448545874409499,
          15.448545874409499,
          15.448545874409499,
          15.448545874409499,
          15.448545874409499,
          14.776869966826476,
          15.112707920617988,
          12.761842244077412,
          12.54354757411293,
          13.14805589093765,
          13.433518151660433,
          14.105194059243455,
          14.105194059243455,
          14.105194059243455,
          14.642534785309872,
          14.776869966826476,
          15.17987551137629,
          15.78438382820101,
          16.12022178199252,
          16.45605973578403,
          15.985886600475917,
          15.81125086450433,
          15.999320118627576,
          16.200822890902483,
          16.187389372750822,
          16.36202510872241,
          16.34859159057075,
          16.76503065327222,
          17.32923841564196,
          17.732243960191774,
          17.759110996495092,
          15.78438382820101,
          15.78438382820101,
          15.78438382820101,
          15.448545874409499,
          16.12022178199252,
          16.12022178199252,
          16.38889214502573,
          16.45605973578403,
          16.321724554267426,
          16.72473009881724,
          17.127735643367053,
          17.463573597158565,
          14.105194059243455,
          14.105194059243455,
          14.105194059243455,
          14.105194059243455,
          14.273113036139211,
          14.961580841411807,
          15.851551418959312,
          16.12022178199252,
          16.12022178199252,
          16.12022178199252,
          16.12022178199252,
          16.791897689575542,
          17.463573597158565,
          18.135249504741584,
          17.59790877867517,
          16.38889214502573,
          15.269477077447865,
          14.508199603793269,
          14.642534785309872,
          14.776869966826476,
          14.776869966826476,
          14.776869966826476,
          14.776869966826476,
          14.776869966826476,
          18.094948950286604,
          18.61885615820136,
          19.021861702751174,
          19.747271682940838,
          20.204011300097292,
          20.821953135073674,
          20.15027722749065,
          21.15779108886518,
          21.829466996448204,
          22.836980857822738,
          22.836980857822738,
          22.836980857822738,
          18.30316848163734,
          19.47860131990763,
          19.47860131990763,
          19.47860131990763,
          19.47860131990763,
          19.142763366116117,
          21.24175057731306,
          21.325710065760937,
          21.292126270381786,
          21.292126270381786,
          21.829466996448204,
          21.66154801955245,
          16.12022178199252,
          17.127735643367053,
          18.806925412324606,
          18.806925412324606,
          18.135249504741584,
          18.359186252329767,
          21.493629042656693,
          22.836980857822738,
          22.29964013175632,
          21.493629042656693,
          22.836980857822738,
          22.836980857822738,
          14.776869966826476,
          14.776869966826476,
          14.776869966826476,
          14.776869966826476,
          14.776869966826476,
          14.776869966826476,
          14.776869966826476,
          14.776869966826476,
          14.776869966826476,
          15.532505362857377,
          16.12022178199252,
          16.372100247336153,
          22.730990399606135,
          22.165304950239715,
          21.46004524727754,
          21.381727836453365,
          20.821953135073674,
          20.828401223786468,
          19.01138355859288,
          22.202650130701333,
          22.769813267064436,
          24.410180168563688,
          26.342321740965197,
          26.72880540154028,
          21.869767550903187,
          20.821953135073674,
          21.073831600417304,
          21.493629042656693,
          21.493629042656693,
          21.66154801955245,
          21.15779108886518,
          23.17281881161425,
          23.004899834718493,
          23.39675555920243,
          29.105999430306294,
          28.7427570994854,
          22.165304950239715,
          22.702645676306133,
          22.836980857822738,
          22.836980857822738,
          23.028945832209963,
          24.18033267298878,
          24.18033267298878,
          23.9563959254006,
          25.523684488154824,
          25.299747740566644,
          24.490378271929103,
          24.852008580571802,
          16.791897689575542,
          16.791897689575542,
          18.087293188291973,
          21.493629042656693,
          21.493629042656693,
          21.493629042656693,
          22.861428517506944,
          24.193094515232858,
          25.709202717181068,
          26.423730204316072,
          26.867036303320866,
          26.867036303320866,
          26.88140882439133,
          26.584260746228416,
          26.531198349529355,
          26.363279372633603,
          25.523684488154824,
          25.92064494953639,
          25.66110937884631,
          25.187846534363313,
          25.031077377533435,
          25.19792167297706,
          25.27852278188702,
          26.05793550504636,
          23.569779272995813,
          23.450625310342403,
          23.933155938998226,
          23.488506488178267,
          23.826090799329496,
          23.610079827450793,
          23.17469950415548,
          24.012145025729993,
          25.164875218323974,
          25.09851363865477,
          25.01858420565239,
          24.899697570010197,
          24.717673399055197,
          24.717673399055197,
          24.553515807241908,
          24.18033267298878,
          24.18033267298878,
          24.18033267298878,
          24.18033267298878,
          24.18033267298878,
          24.18033267298878,
          24.51617062678029,
          25.523684488154824,
          25.523684488154824,
          26.867036303320866,
          26.867036303320866,
          26.867036303320866,
          26.867036303320866,
          26.867036303320866,
          26.867036303320866,
          26.867036303320866,
          28.277555709245213,
          30.897091748818998,
          30.990050351076672,
          31.031426930335602,
          31.031426930335602,
          26.34312909540611,
          26.046920020162,
          26.164866309533576,
          26.255003872979405,
          26.243316712187458,
          26.051889078526298,
          26.06747330293404,
          25.977065725773365,
          26.241168692635007,
          26.195360395737847,
          26.195360395737847,
          26.195360395737847,
          24.852008580571802,
          24.852008580571802,
          24.852008580571802,
          25.001254967236747,
          25.235802850812924,
          24.08871742254627,
          24.20330398902812,
          23.94524610533472,
          24.241455180578836,
          24.239574488037604,
          25.67293087481977,
          25.632495985183272,
          25.523684488154824,
          25.523684488154824,
          25.523684488154824,
          25.523684488154824,
          25.523684488154824,
          25.523684488154824,
          25.523684488154824,
          25.523684488154824,
          25.523684488154824,
          25.523684488154824,
          25.523684488154824,
          25.523684488154824,
          31.031426930335602,
          31.031426930335602,
          31.031426930335602,
          31.15541830287543,
          31.23292970261051,
          31.23292970261051,
          31.23292970261051,
          31.23292970261051,
          31.23292970261051,
          31.23292970261051,
          31.23292970261051,
          31.23292970261051,
          26.195360395737847,
          26.195360395737847,
          26.195360395737847,
          26.31532305618399,
          27.55698313894196,
          27.896982796656857,
          27.53871221090389,
          28.48967096085993,
          29.164839583162387,
          29.2709643765605,
          28.28104842396465,
          28.714145049174178,
          25.859522441946336,
          25.859522441946336,
          25.859522441946336,
          25.859522441946336,
          31.370354593301993,
          32.24044356398504,
          32.301566071575095,
          33.48304399301363,
          28.952724331547667,
          28.949231616828236,
          29.255247160323062,
          28.84673521668288,
          25.523684488154824,
          25.523684488154824,
          25.523684488154824,
          26.27005210001289,
          26.867036303320866,
          28.78615004981889,
          31.629890163992076,
          34.25547128673411,
          35.5241313976251,
          37.61385082464921,
          38.48702950450714,
          39.494543365881675,
          31.23292970261051,
          31.23292970261051,
          31.23292970261051,
          32.07252458708928,
          34.735182219929904,
          36.897439958269345,
          40.3005544549813,
          40.3005544549813,
          40.3005544549813,
          40.3005544549813,
          36.74456786505527,
          35.59882310190015,
          29.265860983014687,
          29.78882650130701,
          31.215196115298504,
          31.434432474885416,
          31.539618265364734,
          32.03894079171013,
          32.06527048728739,
          31.658367879121776,
          31.408910133749078,
          30.119426726371188,
          30.225415841235975,
          31.065010725714753,
          28.21038811848691,
          28.493163675579364,
          28.546226072278422,
          28.79367013328019,
          29.67585195700336,
          31.56876765640202,
          32.91211947156806,
          31.083681972593748,
          30.897091748818998,
          30.065558318583033,
          29.553739933652952,
          31.462778541537233,
          41.64390627014735,
          41.64390627014735,
          37.40173557303449,
          34.64437163722467,
          33.95012741914687,
          33.650962969909386,
          34.56081515432135,
          33.583795379151084,
          32.947448280955115,
          30.62842138578579,
          32.24044356398504,
          32.24044356398504,
          35.59882310190015,
          35.59882310190015,
          35.59882310190015,
          35.93466105569166,
          37.41624377263829,
          37.61385082464921,
          37.61385082464921,
          37.61385082464921,
          38.8676024170955,
          30.300107545511025,
          30.81313226037112,
          29.129508087071702,
          31.031426930335602,
          30.561253795027486,
          30.426918613510882,
          31.15823799833546,
          31.05694927147194,
          31.05694927147194,
          32.57628151777655,
          34.57357565321361,
          34.83552925717099,
          36.628769595236136,
          35.5241313976251,
          33.55330129294681,
          31.533438847014967,
          32.3589285374345,
          31.848589182852923,
          31.56876765640202,
          31.56876765640202,
          31.56876765640202,
          31.41616154684734,
          30.949346791077144,
          31.536797226552885,
          31.56876765640202,
          31.008994298374144,
          30.897091748818998,
          32.24044356398504,
          33.44946019763448,
          33.583795379151084,
          32.32440305243292,
          32.24044356398504,
          32.24044356398504,
          34.19434877914405,
          34.92714719431713,
          34.92714719431713,
          34.92714719431713,
          34.553964060064,
          31.263423788814777,
          28.21038811848691,
          28.21038811848691,
          30.897091748818998,
          30.897091748818998,
          30.897091748818998,
          33.50480763577114,
          30.897091748818998,
          30.897091748818998,
          32.77778429005146,
          32.24044356398504,
          32.24044356398504,
          32.24044356398504,
          31.83743801943523,
          32.374778745501644,
          32.112556471181236,
          32.31110386946278,
          31.56876765640202,
          31.17180719502045,
          32.386467249645406,
          31.472853680150976,
          30.737234226166056,
          31.065010725714753,
          29.461050001758313,
          30.723800708014394,
          30.32616722737343,
          29.740330157427703,
          30.225415841235975,
          30.08396089509899,
          31.144535809820766,
          31.083681972593748,
          31.56876765640202,
          31.56876765640202,
          31.26651349798966,
          30.977021181821375,
          30.9642593395773,
          28.057782008932236,
          31.371160604391093,
          35.19581755735034,
          35.5634942925131,
          34.92714719431713,
          34.92714719431713,
          34.92714719431713,
          34.80503517096672,
          32.374778745501644,
          32.24044356398504,
          31.109207000433717,
          32.33635754023608,
          33.687097790385536,
          32.24044356398504,
          32.24044356398504,
          32.301566071575095,
          33.278451511563844,
          33.583795379151084,
          32.294177636591684,
          32.24044356398504,
          32.24044356398504,
          32.24044356398504,
          32.24044356398504,
          32.00790802142798,
          33.315125016117875,
          29.75524270592786,
          29.878023718482222,
          29.91201051940592,
          29.710507747131015,
          29.900460380499126,
          31.138895075548884,
          32.45282882931461,
          32.56472734881431,
          31.927038242154985,
          31.89305144123129,
          32.3972113774631,
          32.413734604789646,
          30.80950521047017,
          32.24044356398504,
          32.69839354112696,
          32.77066452543107,
          33.20416415618516,
          34.03153588249774,
          34.159557310483066,
          32.91211947156806,
          32.91211947156806,
          32.91211947156806,
          32.91211947156806,
          32.91211947156806,
          33.53583637599784,
          30.36928882064026,
          28.837329067273085,
          26.867036303320866,
          29.374669793339503,
          31.434432474885416,
          29.553739933652952,
          30.20378653365999,
          32.05519534867364,
          34.74189897900573,
          34.30020624553095,
          37.51793684839817,
          32.91211947156806,
          32.24044356398504,
          32.24044356398504,
          32.24044356398504,
          33.679709355402125,
          34.92714719431713,
          36.57382919269948,
          38.91381237618539,
          40.3005544549813,
          40.3005544549813,
          40.3005544549813,
          40.3005544549813,
          32.531546558979706,
          34.61535523801709,
          33.650962969909386,
          34.64920904711109,
          33.225524793398115,
          33.673395601870844,
          34.060416603171994,
          34.23303865477265,
          34.92714719431713,
          34.64920904711109,
          34.92714719431713,
          34.92714719431713,
          32.91211947156806,
          32.91211947156806,
          32.91211947156806,
          33.487881402900044,
          33.40862230245343,
          32.91211947156806,
          32.91211947156806,
          33.26394196860823,
          34.06350631234688,
          33.012870857705515,
          32.620074786950966,
          33.52267287156103,
          43.89254153020197,
          44.33060990047943,
          42.07727156571991,
          41.83587124453457,
          40.52448985921767,
          43.45044579118264,
          43.16054912611799,
          42.987258085313385,
          42.987258085313385,
          42.987258085313385,
          42.987258085313385,
          42.987258085313385,
          42.78830633813548,
          42.987258085313385,
          42.987258085313385,
          42.987258085313385,
          42.987258085313385,
          42.987258085313385,
          39.78390134686844,
          41.26776776190085,
          41.64390627014735,
          42.28361174788123,
          42.382749768488665,
          42.987258085313385,
          35.58538958374849,
          35.9154524680866,
          36.355534522735,
          36.14959734611823,
          35.7699661231523,
          35.67942421081011,
          35.871793534093705,
          35.88092698308502,
          35.730875928682785,
          35.7757411926057,
          36.001828646449965,
          35.97146889542721,
          34.25547128673411,
          34.65847683128392,
          33.583795379151084,
          34.25547128673411,
          34.98316362165774,
          35.569673710862865,
          33.63981180649169,
          34.92714719431713,
          35.733158283416756,
          34.92714719431713,
          34.50734975207774,
          34.81027558639769,
          42.987258085313385,
          42.987258085313385,
          42.987258085313385,
          42.987258085313385,
          42.987258085313385,
          42.987258085313385,
          42.987258085313385,
          42.2461322322381,
          37.52116089275457,
          36.83389941741199,
          37.61385082464921,
          37.61385082464921,
          42.987258085313385,
          42.987258085313385,
          42.987258085313385,
          41.83587124453457,
          42.987258085313385,
          42.987258085313385,
          42.688765311983495,
          42.987258085313385,
          42.987258085313385,
          42.987258085313385,
          42.987258085313385,
          43.15517706220914,
          36.24806637752172,
          36.29924539497591,
          36.198897014383,
          35.894360501236676,
          35.4107538477769,
          35.795891469833194,
          35.33015273886694,
          34.68090946324538,
          34.44354054085735,
          34.92714719431713,
          35.7107256514553,
          37.22387579270651,
          37.13024417118944,
          37.61385082464921,
          36.39261103283358,
          34.32263887749241,
          34.401494972394474,
          34.68292717767176,
          33.959933887397575,
          34.92714719431713,
          34.50291534773587,
          33.583795379151084,
          33.583795379151084,
          33.583795379151084,
          37.70049701672742,
          40.3005544549813,
          40.3005544549813,
          38.41986191374884,
          37.61385082464921,
          43.45044579118264,
          45.673961715645476,
          44.50968004079288,
          45.673961715645476,
          46.88727841845526,
          64.48088712797008,
          64.48088712797008,
          43.30966252095324,
          43.3230960391049,
          42.31558217773036,
          38.24079177343539,
          37.61385082464921,
          37.61385082464921,
          37.61385082464921,
          37.61385082464921,
          37.61385082464921,
          38.07059044180567,
          38.26309410027078,
          37.350017871502416,
          37.61385082464921,
          37.61385082464921,
          37.35391090506277,
          38.4422945457103,
          38.415561844588495,
          38.77813249950181,
          39.11397045329332,
          38.44766929632278,
          34.28233832303743,
          33.583795379151084,
          33.82089563117607,
          32.91211947156806,
          33.30719789705658,
          36.04656226189499,
          34.868710047005585,
          33.32788551501014,
          32.24044356398504,
          32.24044356398504,
          64.48088712797008,
          64.48088712797008,
          64.48088712797008,
          64.83136492984328,
          65.95857412465273,
          65.82423894313612,
          65.82423894313612,
          65.82423894313612,
          65.82423894313612,
          64.21221676493687
         ],
         "yaxis": "y"
        }
       ],
       "layout": {
        "barmode": "relative",
        "legend": {
         "tracegroupgap": 0
        },
        "margin": {
         "t": 60
        },
        "template": {
         "data": {
          "bar": [
           {
            "error_x": {
             "color": "#2a3f5f"
            },
            "error_y": {
             "color": "#2a3f5f"
            },
            "marker": {
             "line": {
              "color": "#E5ECF6",
              "width": 0.5
             }
            },
            "type": "bar"
           }
          ],
          "barpolar": [
           {
            "marker": {
             "line": {
              "color": "#E5ECF6",
              "width": 0.5
             }
            },
            "type": "barpolar"
           }
          ],
          "carpet": [
           {
            "aaxis": {
             "endlinecolor": "#2a3f5f",
             "gridcolor": "white",
             "linecolor": "white",
             "minorgridcolor": "white",
             "startlinecolor": "#2a3f5f"
            },
            "baxis": {
             "endlinecolor": "#2a3f5f",
             "gridcolor": "white",
             "linecolor": "white",
             "minorgridcolor": "white",
             "startlinecolor": "#2a3f5f"
            },
            "type": "carpet"
           }
          ],
          "choropleth": [
           {
            "colorbar": {
             "outlinewidth": 0,
             "ticks": ""
            },
            "type": "choropleth"
           }
          ],
          "contour": [
           {
            "colorbar": {
             "outlinewidth": 0,
             "ticks": ""
            },
            "colorscale": [
             [
              0,
              "#0d0887"
             ],
             [
              0.1111111111111111,
              "#46039f"
             ],
             [
              0.2222222222222222,
              "#7201a8"
             ],
             [
              0.3333333333333333,
              "#9c179e"
             ],
             [
              0.4444444444444444,
              "#bd3786"
             ],
             [
              0.5555555555555556,
              "#d8576b"
             ],
             [
              0.6666666666666666,
              "#ed7953"
             ],
             [
              0.7777777777777778,
              "#fb9f3a"
             ],
             [
              0.8888888888888888,
              "#fdca26"
             ],
             [
              1,
              "#f0f921"
             ]
            ],
            "type": "contour"
           }
          ],
          "contourcarpet": [
           {
            "colorbar": {
             "outlinewidth": 0,
             "ticks": ""
            },
            "type": "contourcarpet"
           }
          ],
          "heatmap": [
           {
            "colorbar": {
             "outlinewidth": 0,
             "ticks": ""
            },
            "colorscale": [
             [
              0,
              "#0d0887"
             ],
             [
              0.1111111111111111,
              "#46039f"
             ],
             [
              0.2222222222222222,
              "#7201a8"
             ],
             [
              0.3333333333333333,
              "#9c179e"
             ],
             [
              0.4444444444444444,
              "#bd3786"
             ],
             [
              0.5555555555555556,
              "#d8576b"
             ],
             [
              0.6666666666666666,
              "#ed7953"
             ],
             [
              0.7777777777777778,
              "#fb9f3a"
             ],
             [
              0.8888888888888888,
              "#fdca26"
             ],
             [
              1,
              "#f0f921"
             ]
            ],
            "type": "heatmap"
           }
          ],
          "heatmapgl": [
           {
            "colorbar": {
             "outlinewidth": 0,
             "ticks": ""
            },
            "colorscale": [
             [
              0,
              "#0d0887"
             ],
             [
              0.1111111111111111,
              "#46039f"
             ],
             [
              0.2222222222222222,
              "#7201a8"
             ],
             [
              0.3333333333333333,
              "#9c179e"
             ],
             [
              0.4444444444444444,
              "#bd3786"
             ],
             [
              0.5555555555555556,
              "#d8576b"
             ],
             [
              0.6666666666666666,
              "#ed7953"
             ],
             [
              0.7777777777777778,
              "#fb9f3a"
             ],
             [
              0.8888888888888888,
              "#fdca26"
             ],
             [
              1,
              "#f0f921"
             ]
            ],
            "type": "heatmapgl"
           }
          ],
          "histogram": [
           {
            "marker": {
             "colorbar": {
              "outlinewidth": 0,
              "ticks": ""
             }
            },
            "type": "histogram"
           }
          ],
          "histogram2d": [
           {
            "colorbar": {
             "outlinewidth": 0,
             "ticks": ""
            },
            "colorscale": [
             [
              0,
              "#0d0887"
             ],
             [
              0.1111111111111111,
              "#46039f"
             ],
             [
              0.2222222222222222,
              "#7201a8"
             ],
             [
              0.3333333333333333,
              "#9c179e"
             ],
             [
              0.4444444444444444,
              "#bd3786"
             ],
             [
              0.5555555555555556,
              "#d8576b"
             ],
             [
              0.6666666666666666,
              "#ed7953"
             ],
             [
              0.7777777777777778,
              "#fb9f3a"
             ],
             [
              0.8888888888888888,
              "#fdca26"
             ],
             [
              1,
              "#f0f921"
             ]
            ],
            "type": "histogram2d"
           }
          ],
          "histogram2dcontour": [
           {
            "colorbar": {
             "outlinewidth": 0,
             "ticks": ""
            },
            "colorscale": [
             [
              0,
              "#0d0887"
             ],
             [
              0.1111111111111111,
              "#46039f"
             ],
             [
              0.2222222222222222,
              "#7201a8"
             ],
             [
              0.3333333333333333,
              "#9c179e"
             ],
             [
              0.4444444444444444,
              "#bd3786"
             ],
             [
              0.5555555555555556,
              "#d8576b"
             ],
             [
              0.6666666666666666,
              "#ed7953"
             ],
             [
              0.7777777777777778,
              "#fb9f3a"
             ],
             [
              0.8888888888888888,
              "#fdca26"
             ],
             [
              1,
              "#f0f921"
             ]
            ],
            "type": "histogram2dcontour"
           }
          ],
          "mesh3d": [
           {
            "colorbar": {
             "outlinewidth": 0,
             "ticks": ""
            },
            "type": "mesh3d"
           }
          ],
          "parcoords": [
           {
            "line": {
             "colorbar": {
              "outlinewidth": 0,
              "ticks": ""
             }
            },
            "type": "parcoords"
           }
          ],
          "pie": [
           {
            "automargin": true,
            "type": "pie"
           }
          ],
          "scatter": [
           {
            "marker": {
             "colorbar": {
              "outlinewidth": 0,
              "ticks": ""
             }
            },
            "type": "scatter"
           }
          ],
          "scatter3d": [
           {
            "line": {
             "colorbar": {
              "outlinewidth": 0,
              "ticks": ""
             }
            },
            "marker": {
             "colorbar": {
              "outlinewidth": 0,
              "ticks": ""
             }
            },
            "type": "scatter3d"
           }
          ],
          "scattercarpet": [
           {
            "marker": {
             "colorbar": {
              "outlinewidth": 0,
              "ticks": ""
             }
            },
            "type": "scattercarpet"
           }
          ],
          "scattergeo": [
           {
            "marker": {
             "colorbar": {
              "outlinewidth": 0,
              "ticks": ""
             }
            },
            "type": "scattergeo"
           }
          ],
          "scattergl": [
           {
            "marker": {
             "colorbar": {
              "outlinewidth": 0,
              "ticks": ""
             }
            },
            "type": "scattergl"
           }
          ],
          "scattermapbox": [
           {
            "marker": {
             "colorbar": {
              "outlinewidth": 0,
              "ticks": ""
             }
            },
            "type": "scattermapbox"
           }
          ],
          "scatterpolar": [
           {
            "marker": {
             "colorbar": {
              "outlinewidth": 0,
              "ticks": ""
             }
            },
            "type": "scatterpolar"
           }
          ],
          "scatterpolargl": [
           {
            "marker": {
             "colorbar": {
              "outlinewidth": 0,
              "ticks": ""
             }
            },
            "type": "scatterpolargl"
           }
          ],
          "scatterternary": [
           {
            "marker": {
             "colorbar": {
              "outlinewidth": 0,
              "ticks": ""
             }
            },
            "type": "scatterternary"
           }
          ],
          "surface": [
           {
            "colorbar": {
             "outlinewidth": 0,
             "ticks": ""
            },
            "colorscale": [
             [
              0,
              "#0d0887"
             ],
             [
              0.1111111111111111,
              "#46039f"
             ],
             [
              0.2222222222222222,
              "#7201a8"
             ],
             [
              0.3333333333333333,
              "#9c179e"
             ],
             [
              0.4444444444444444,
              "#bd3786"
             ],
             [
              0.5555555555555556,
              "#d8576b"
             ],
             [
              0.6666666666666666,
              "#ed7953"
             ],
             [
              0.7777777777777778,
              "#fb9f3a"
             ],
             [
              0.8888888888888888,
              "#fdca26"
             ],
             [
              1,
              "#f0f921"
             ]
            ],
            "type": "surface"
           }
          ],
          "table": [
           {
            "cells": {
             "fill": {
              "color": "#EBF0F8"
             },
             "line": {
              "color": "white"
             }
            },
            "header": {
             "fill": {
              "color": "#C8D4E3"
             },
             "line": {
              "color": "white"
             }
            },
            "type": "table"
           }
          ]
         },
         "layout": {
          "annotationdefaults": {
           "arrowcolor": "#2a3f5f",
           "arrowhead": 0,
           "arrowwidth": 1
          },
          "coloraxis": {
           "colorbar": {
            "outlinewidth": 0,
            "ticks": ""
           }
          },
          "colorscale": {
           "diverging": [
            [
             0,
             "#8e0152"
            ],
            [
             0.1,
             "#c51b7d"
            ],
            [
             0.2,
             "#de77ae"
            ],
            [
             0.3,
             "#f1b6da"
            ],
            [
             0.4,
             "#fde0ef"
            ],
            [
             0.5,
             "#f7f7f7"
            ],
            [
             0.6,
             "#e6f5d0"
            ],
            [
             0.7,
             "#b8e186"
            ],
            [
             0.8,
             "#7fbc41"
            ],
            [
             0.9,
             "#4d9221"
            ],
            [
             1,
             "#276419"
            ]
           ],
           "sequential": [
            [
             0,
             "#0d0887"
            ],
            [
             0.1111111111111111,
             "#46039f"
            ],
            [
             0.2222222222222222,
             "#7201a8"
            ],
            [
             0.3333333333333333,
             "#9c179e"
            ],
            [
             0.4444444444444444,
             "#bd3786"
            ],
            [
             0.5555555555555556,
             "#d8576b"
            ],
            [
             0.6666666666666666,
             "#ed7953"
            ],
            [
             0.7777777777777778,
             "#fb9f3a"
            ],
            [
             0.8888888888888888,
             "#fdca26"
            ],
            [
             1,
             "#f0f921"
            ]
           ],
           "sequentialminus": [
            [
             0,
             "#0d0887"
            ],
            [
             0.1111111111111111,
             "#46039f"
            ],
            [
             0.2222222222222222,
             "#7201a8"
            ],
            [
             0.3333333333333333,
             "#9c179e"
            ],
            [
             0.4444444444444444,
             "#bd3786"
            ],
            [
             0.5555555555555556,
             "#d8576b"
            ],
            [
             0.6666666666666666,
             "#ed7953"
            ],
            [
             0.7777777777777778,
             "#fb9f3a"
            ],
            [
             0.8888888888888888,
             "#fdca26"
            ],
            [
             1,
             "#f0f921"
            ]
           ]
          },
          "colorway": [
           "#636efa",
           "#EF553B",
           "#00cc96",
           "#ab63fa",
           "#FFA15A",
           "#19d3f3",
           "#FF6692",
           "#B6E880",
           "#FF97FF",
           "#FECB52"
          ],
          "font": {
           "color": "#2a3f5f"
          },
          "geo": {
           "bgcolor": "white",
           "lakecolor": "white",
           "landcolor": "#E5ECF6",
           "showlakes": true,
           "showland": true,
           "subunitcolor": "white"
          },
          "hoverlabel": {
           "align": "left"
          },
          "hovermode": "closest",
          "mapbox": {
           "style": "light"
          },
          "paper_bgcolor": "white",
          "plot_bgcolor": "#E5ECF6",
          "polar": {
           "angularaxis": {
            "gridcolor": "white",
            "linecolor": "white",
            "ticks": ""
           },
           "bgcolor": "#E5ECF6",
           "radialaxis": {
            "gridcolor": "white",
            "linecolor": "white",
            "ticks": ""
           }
          },
          "scene": {
           "xaxis": {
            "backgroundcolor": "#E5ECF6",
            "gridcolor": "white",
            "gridwidth": 2,
            "linecolor": "white",
            "showbackground": true,
            "ticks": "",
            "zerolinecolor": "white"
           },
           "yaxis": {
            "backgroundcolor": "#E5ECF6",
            "gridcolor": "white",
            "gridwidth": 2,
            "linecolor": "white",
            "showbackground": true,
            "ticks": "",
            "zerolinecolor": "white"
           },
           "zaxis": {
            "backgroundcolor": "#E5ECF6",
            "gridcolor": "white",
            "gridwidth": 2,
            "linecolor": "white",
            "showbackground": true,
            "ticks": "",
            "zerolinecolor": "white"
           }
          },
          "shapedefaults": {
           "line": {
            "color": "#2a3f5f"
           }
          },
          "ternary": {
           "aaxis": {
            "gridcolor": "white",
            "linecolor": "white",
            "ticks": ""
           },
           "baxis": {
            "gridcolor": "white",
            "linecolor": "white",
            "ticks": ""
           },
           "bgcolor": "#E5ECF6",
           "caxis": {
            "gridcolor": "white",
            "linecolor": "white",
            "ticks": ""
           }
          },
          "title": {
           "x": 0.05
          },
          "xaxis": {
           "automargin": true,
           "gridcolor": "white",
           "linecolor": "white",
           "ticks": "",
           "title": {
            "standoff": 15
           },
           "zerolinecolor": "white",
           "zerolinewidth": 2
          },
          "yaxis": {
           "automargin": true,
           "gridcolor": "white",
           "linecolor": "white",
           "ticks": "",
           "title": {
            "standoff": 15
           },
           "zerolinecolor": "white",
           "zerolinewidth": 2
          }
         }
        },
        "xaxis": {
         "anchor": "y",
         "domain": [
          0,
          1
         ],
         "title": {
          "text": "Year"
         }
        },
        "yaxis": {
         "anchor": "x",
         "domain": [
          0,
          1
         ],
         "title": {
          "text": "Price in $"
         }
        }
       }
      },
      "text/html": [
       "<div>\n",
       "        \n",
       "        \n",
       "            <div id=\"439a4d13-9027-4b9e-9d39-d0a6f149045b\" class=\"plotly-graph-div\" style=\"height:525px; width:100%;\"></div>\n",
       "            <script type=\"text/javascript\">\n",
       "                require([\"plotly\"], function(Plotly) {\n",
       "                    window.PLOTLYENV=window.PLOTLYENV || {};\n",
       "                    \n",
       "                if (document.getElementById(\"439a4d13-9027-4b9e-9d39-d0a6f149045b\")) {\n",
       "                    Plotly.newPlot(\n",
       "                        '439a4d13-9027-4b9e-9d39-d0a6f149045b',\n",
       "                        [{\"alignmentgroup\": \"True\", \"hovertemplate\": \"Year=%{x}<br>Price in $=%{y}<extra></extra>\", \"legendgroup\": \"\", \"marker\": {\"color\": \"#636efa\"}, \"name\": \"\", \"offsetgroup\": \"\", \"orientation\": \"v\", \"showlegend\": false, \"textposition\": \"auto\", \"type\": \"bar\", \"x\": [2000, 2000, 2000, 2000, 2000, 2000, 2000, 2000, 2000, 2000, 2000, 2000, 2000, 2000, 2000, 2000, 2000, 2000, 2000, 2000, 2000, 2000, 2000, 2000, 2000, 2000, 2000, 2000, 2000, 2000, 2000, 2000, 2000, 2000, 2000, 2000, 2000, 2000, 2000, 2000, 2000, 2000, 2000, 2000, 2000, 2000, 2001, 2001, 2001, 2001, 2001, 2001, 2001, 2001, 2001, 2001, 2001, 2001, 2001, 2001, 2001, 2001, 2001, 2001, 2001, 2001, 2001, 2001, 2001, 2001, 2001, 2001, 2001, 2001, 2001, 2001, 2001, 2001, 2001, 2001, 2001, 2001, 2001, 2001, 2001, 2001, 2001, 2001, 2002, 2002, 2002, 2002, 2002, 2002, 2002, 2002, 2002, 2002, 2002, 2002, 2002, 2002, 2002, 2002, 2002, 2002, 2002, 2002, 2002, 2002, 2002, 2002, 2002, 2002, 2002, 2002, 2002, 2002, 2002, 2002, 2002, 2002, 2002, 2002, 2002, 2002, 2002, 2003, 2003, 2003, 2003, 2003, 2003, 2003, 2003, 2003, 2003, 2003, 2003, 2003, 2003, 2003, 2003, 2003, 2003, 2003, 2003, 2003, 2003, 2003, 2003, 2003, 2003, 2003, 2003, 2003, 2003, 2003, 2003, 2003, 2003, 2003, 2003, 2003, 2003, 2003, 2003, 2003, 2004, 2004, 2004, 2004, 2004, 2004, 2004, 2004, 2004, 2004, 2004, 2004, 2004, 2004, 2004, 2004, 2004, 2004, 2004, 2004, 2004, 2004, 2004, 2004, 2004, 2004, 2004, 2004, 2004, 2004, 2004, 2004, 2004, 2004, 2004, 2004, 2004, 2004, 2004, 2004, 2004, 2004, 2004, 2005, 2005, 2005, 2005, 2005, 2005, 2005, 2005, 2005, 2005, 2005, 2005, 2005, 2005, 2005, 2005, 2005, 2005, 2005, 2005, 2005, 2005, 2005, 2005, 2005, 2005, 2005, 2005, 2005, 2005, 2005, 2005, 2005, 2005, 2005, 2005, 2005, 2005, 2005, 2005, 2005, 2005, 2005, 2005, 2005, 2005, 2005, 2005, 2006, 2006, 2006, 2006, 2006, 2006, 2006, 2006, 2006, 2006, 2006, 2006, 2006, 2006, 2006, 2006, 2006, 2006, 2006, 2006, 2006, 2006, 2006, 2006, 2006, 2006, 2006, 2006, 2006, 2006, 2006, 2006, 2006, 2006, 2006, 2006, 2006, 2006, 2006, 2006, 2006, 2006, 2006, 2006, 2006, 2006, 2006, 2006, 2007, 2007, 2007, 2007, 2007, 2007, 2007, 2007, 2007, 2007, 2007, 2007, 2007, 2007, 2007, 2007, 2007, 2007, 2007, 2007, 2007, 2007, 2007, 2007, 2007, 2007, 2007, 2007, 2007, 2007, 2007, 2007, 2007, 2007, 2007, 2007, 2007, 2007, 2007, 2007, 2007, 2007, 2007, 2007, 2007, 2007, 2007, 2007, 2008, 2008, 2008, 2008, 2008, 2008, 2008, 2008, 2008, 2008, 2008, 2008, 2008, 2008, 2008, 2008, 2008, 2008, 2008, 2008, 2008, 2008, 2008, 2008, 2008, 2008, 2008, 2008, 2008, 2008, 2008, 2008, 2008, 2008, 2008, 2008, 2008, 2008, 2008, 2008, 2008, 2008, 2008, 2008, 2008, 2008, 2008, 2008, 2009, 2009, 2009, 2009, 2009, 2009, 2009, 2009, 2009, 2009, 2009, 2009, 2009, 2009, 2009, 2009, 2009, 2009, 2009, 2009, 2009, 2009, 2009, 2009, 2009, 2009, 2009, 2009, 2009, 2009, 2009, 2009, 2009, 2009, 2009, 2009, 2009, 2009, 2009, 2009, 2009, 2009, 2009, 2009, 2009, 2009, 2009, 2009, 2010, 2010, 2010, 2010, 2010, 2010, 2010, 2010, 2010, 2010, 2010, 2010, 2010, 2010, 2010, 2010, 2010, 2010, 2010, 2010, 2010, 2010, 2010, 2010, 2010, 2010, 2010, 2010, 2010, 2010, 2010, 2010, 2010, 2010, 2010, 2010, 2010, 2010, 2010, 2010, 2010, 2010, 2010, 2010, 2010, 2010, 2010, 2010, 2011, 2011, 2011, 2011, 2011, 2011, 2011, 2011, 2011, 2011, 2011, 2011, 2011, 2011, 2011, 2011, 2011, 2011, 2011, 2011, 2011, 2011, 2011, 2011, 2011, 2011, 2011, 2011, 2011, 2011, 2011, 2011, 2011, 2011, 2011, 2011, 2011, 2011, 2011, 2011, 2011, 2011, 2011, 2011, 2011, 2011, 2011, 2011, 2012, 2012, 2012, 2012, 2012, 2012, 2012, 2012, 2012, 2012, 2012, 2012, 2012, 2012, 2012, 2012, 2012, 2012, 2012, 2012, 2012, 2012, 2012, 2012, 2012, 2012, 2012, 2012, 2012, 2012, 2012, 2012, 2012, 2012, 2012, 2012, 2012, 2012, 2012, 2012, 2012, 2012, 2012, 2012, 2012, 2012, 2012, 2012, 2013, 2013, 2013, 2013, 2013, 2013, 2013, 2013, 2013, 2013, 2013, 2013, 2013, 2013, 2013, 2013, 2013, 2013, 2013, 2013, 2013, 2013, 2013, 2013, 2013, 2013, 2013, 2013, 2013, 2013, 2013, 2013, 2013, 2013, 2013, 2013, 2013, 2013, 2013, 2013, 2013, 2013, 2013, 2013, 2013, 2013, 2013, 2013, 2014, 2014, 2014, 2014, 2014, 2014, 2014, 2014, 2014, 2014, 2014, 2014, 2014, 2014, 2014, 2014, 2014, 2014, 2014, 2014, 2014, 2014, 2014, 2014, 2014, 2014, 2014, 2014, 2014, 2014, 2014, 2014, 2014, 2014, 2014, 2014, 2014, 2014, 2014, 2014, 2014, 2014, 2014, 2014, 2014, 2014, 2014, 2014, 2015, 2015, 2015, 2015, 2015, 2015, 2015, 2015, 2015, 2015, 2015, 2015, 2015, 2015, 2015, 2015, 2015, 2015, 2015, 2015, 2015, 2015, 2015, 2015, 2015, 2015, 2015, 2015, 2015, 2015, 2015, 2015, 2015, 2015, 2015, 2015, 2015, 2015, 2015, 2015, 2015, 2015, 2015, 2015, 2015, 2015, 2015, 2015, 2016, 2016, 2016, 2016, 2016, 2016, 2016, 2016, 2016, 2016, 2016, 2016, 2016, 2016, 2016, 2016, 2016, 2016, 2016, 2016, 2016, 2016, 2016, 2016, 2016, 2016, 2016, 2016, 2016, 2016, 2016, 2016, 2016, 2016, 2016, 2016, 2016, 2016, 2016, 2016, 2016, 2016, 2016, 2016, 2016, 2016, 2016, 2016, 2017, 2017, 2017, 2017, 2017, 2017, 2017, 2017, 2017, 2017, 2017, 2017, 2017, 2017, 2017, 2017, 2017, 2017, 2017, 2017, 2017, 2017, 2017, 2017, 2017, 2017, 2017, 2017, 2017, 2017, 2017, 2017, 2017, 2017, 2017, 2017, 2017, 2017, 2017, 2017, 2017, 2017, 2017, 2017, 2017, 2017, 2017, 2017, 2018, 2018, 2018, 2018, 2018, 2018, 2018, 2018, 2018, 2018, 2018, 2018, 2018, 2018, 2018, 2018, 2018, 2018, 2018, 2018, 2018, 2018, 2018, 2018, 2018, 2018, 2018, 2018, 2018, 2018, 2018, 2018, 2018, 2018, 2018, 2018, 2018, 2018, 2018, 2018, 2018, 2018, 2018, 2018, 2018, 2018, 2018, 2018, 2019, 2019, 2019, 2019, 2019, 2019, 2019, 2019, 2019, 2019, 2019, 2019, 2019, 2019, 2019, 2019, 2019, 2019, 2019, 2019, 2019, 2019, 2019, 2019, 2019, 2019, 2019, 2019, 2019, 2019, 2019, 2019, 2019, 2019, 2019, 2019, 2019, 2019, 2019, 2019, 2019, 2019, 2019, 2019, 2019, 2019, 2019, 2019, 2020, 2020, 2020, 2020, 2020, 2020, 2020, 2020, 2020, 2020, 2020, 2020, 2020, 2020, 2020, 2020, 2020, 2020, 2020, 2020, 2020, 2020, 2020, 2020, 2020, 2020, 2020, 2020, 2020, 2020, 2020, 2020, 2020, 2020, 2020, 2020, 2020, 2020, 2020, 2020], \"xaxis\": \"x\", \"y\": [10.746814521328346, 10.88114970284495, 11.082652475119858, 10.746814521328346, 10.746814521328346, 10.746814521328346, 10.8475659074658, 10.948317293603253, 10.948317293603253, 10.075138613745326, 14.441032013034967, 14.105194059243455, 14.105194059243455, 14.149927674688483, 14.360430904125003, 14.105194059243455, 14.004442673106002, 13.769356105451944, 12.649941037874079, 11.821495973461182, 11.821495973461182, 11.79906199814791, 15.267193379362082, 15.448545874409499, 15.448545874409499, 15.83140114173182, 15.92409241697828, 15.78438382820101, 15.448545874409499, 15.240326343058761, 14.572008815013655, 14.441032013034967, 14.575367194551571, 14.441032013034967, 14.340280626897513, 14.608950989930722, 14.072953615679468, 13.198431584006377, 12.788709280380733, 13.097680197868923, 13.34391658558886, 13.097680197868923, 12.963345016352319, 12.761842244077412, 12.761842244077412, 13.164847788627226, 12.09016633649439, 12.09016633649439, 12.09016633649439, 10.075138613745326, 10.075138613745326, 10.075138613745326, 11.75432838270288, 11.75432838270288, 11.75432838270288, 12.442796187975476, 13.097680197868923, 13.097680197868923, 12.929761220973168, 12.963345016352319, 12.84580173252529, 12.761842244077412, 12.822293075759884, 13.033870986648536, 14.441032013034967, 14.441032013034967, 14.441032013034967, 14.441032013034967, 14.441032013034967, 14.441032013034967, 14.441032013034967, 14.441032013034967, 14.441032013034967, 14.441032013034967, 14.441032013034967, 14.441032013034967, 13.299182970143828, 12.761842244077412, 12.761842244077412, 11.75432838270288, 11.418490428911369, 11.855079768840332, 13.131263993248075, 12.627507062560808, 12.929761220973168, 13.809656659906926, 13.970858877726851, 13.836523696210246, 10.075138613745326, 10.075138613745326, 10.075138613745326, 12.929761220973168, 12.476379983354628, 12.174125824942267, 12.09016633649439, 12.537905496489232, 12.112600311807663, 12.157333927252692, 12.577131369492081, 12.493171881044203, 12.560339471802505, 12.644298960250383, 12.31410308408257, 14.441032013034967, 14.441032013034967, 14.441032013034967, 14.441032013034967, 14.441032013034967, 13.993292853040124, 13.433518151660433, 13.097680197868923, 12.873743450280744, 12.761842244077412, 12.761842244077412, 12.761842244077412, 13.299182970143828, 12.963345016352319, 11.922247359598634, 12.04543272104936, 11.821495973461182, 11.687160791944578, 12.022998745736087, 12.761842244077412, 13.433518151660433, 14.776869966826476, 14.944788943722232, 15.448545874409499, 10.243057590641081, 10.075138613745326, 10.075138613745326, 10.075138613745326, 10.410976567536837, 12.318536145072617, 12.381270674840872, 12.426004290285901, 12.442796187975476, 12.677882755629534, 12.381270674840872, 12.745050346387837, 12.54354757411293, 12.761842244077412, 12.980136914041895, 12.717108628632381, 12.963345016352319, 12.761842244077412, 12.761842244077412, 12.513322158271693, 12.264802072465976, 12.264802072465976, 12.264802072465976, 12.264802072465976, 12.264802072465976, 12.260369011475927, 12.261443692928061, 12.264802072465976, 12.364210106788263, 15.582881055926103, 11.284155247394764, 14.407448217655816, 13.433518151660433, 13.433518151660433, 13.433518151660433, 13.433518151660433, 14.441032013034967, 15.045540329859685, 15.616464851305254, 15.314210692892894, 15.287343656589574, 10.075138613745326, 10.075138613745326, 10.075138613745326, 10.075138613745326, 12.761842244077412, 12.761842244077412, 12.761842244077412, 13.208506722620122, 13.724622490006915, 13.63502092393534, 13.78614800314152, 14.306696831518362, 14.508199603793269, 14.592159092241147, 14.844037557584778, 14.978372739101383, 15.045540329859685, 15.045540329859685, 14.844037557584778, 12.600640026257487, 12.600640026257487, 12.600640026257487, 12.600640026257487, 12.600640026257487, 12.600640026257487, 12.600640026257487, 12.152900866262645, 13.225298620309697, 13.433518151660433, 13.433518151660433, 13.433518151660433, 15.17987551137629, 15.045540329859685, 13.997725914030172, 13.399934356281282, 13.601437128556189, 14.105194059243455, 14.105194059243455, 14.105194059243455, 14.105194059243455, 14.105194059243455, 14.105194059243455, 14.105194059243455, 12.761842244077412, 12.761842244077412, 13.097680197868923, 13.433518151660433, 13.433518151660433, 12.224501518010994, 12.09016633649439, 12.896177425594017, 12.09016633649439, 12.09016633649439, 12.593923267181657, 14.105194059243455, 14.172361650001758, 14.23952924076006, 14.441032013034967, 14.776869966826476, 14.978372739101383, 14.978372739101383, 15.045540329859685, 14.441032013034967, 14.23952924076006, 13.997725914030172, 13.836523696210246, 13.769356105451944, 13.433518151660433, 13.433518151660433, 13.433518151660433, 13.433518151660433, 13.836523696210246, 14.441032013034967, 14.414164976731644, 14.306696831518362, 14.340280626897513, 14.360430904125003, 14.279829795215042, 14.441032013034967, 14.105194059243455, 14.105194059243455, 14.105194059243455, 14.105194059243455, 14.105194059243455, 14.105194059243455, 13.567853333177037, 13.433518151660433, 13.433518151660433, 13.433518151660433, 13.433518151660433, 14.105194059243455, 14.105194059243455, 14.105194059243455, 14.105194059243455, 14.105194059243455, 14.105194059243455, 14.357072524587089, 13.097680197868923, 12.761842244077412, 12.761842244077412, 12.761842244077412, 12.761842244077412, 12.761842244077412, 13.876824250665228, 13.970858877726851, 13.876824250665228, 14.441032013034967, 15.381378283651197, 15.717216237442708, 15.582881055926103, 16.859065280333844, 17.463573597158565, 17.463573597158565, 16.590394917300635, 16.38889214502573, 14.441032013034967, 14.441032013034967, 14.441032013034967, 14.441032013034967, 14.944788943722232, 15.280626897513743, 15.78438382820101, 15.78438382820101, 15.78438382820101, 15.78438382820101, 15.78438382820101, 15.78438382820101, 14.441032013034967, 15.448545874409499, 15.448545874409499, 15.448545874409499, 15.448545874409499, 15.448545874409499, 15.448545874409499, 15.448545874409499, 15.448545874409499, 15.448545874409499, 14.776869966826476, 15.112707920617988, 12.761842244077412, 12.54354757411293, 13.14805589093765, 13.433518151660433, 14.105194059243455, 14.105194059243455, 14.105194059243455, 14.642534785309872, 14.776869966826476, 15.17987551137629, 15.78438382820101, 16.12022178199252, 16.45605973578403, 15.985886600475917, 15.81125086450433, 15.999320118627576, 16.200822890902483, 16.187389372750822, 16.36202510872241, 16.34859159057075, 16.76503065327222, 17.32923841564196, 17.732243960191774, 17.759110996495092, 15.78438382820101, 15.78438382820101, 15.78438382820101, 15.448545874409499, 16.12022178199252, 16.12022178199252, 16.38889214502573, 16.45605973578403, 16.321724554267426, 16.72473009881724, 17.127735643367053, 17.463573597158565, 14.105194059243455, 14.105194059243455, 14.105194059243455, 14.105194059243455, 14.273113036139211, 14.961580841411807, 15.851551418959312, 16.12022178199252, 16.12022178199252, 16.12022178199252, 16.12022178199252, 16.791897689575542, 17.463573597158565, 18.135249504741584, 17.59790877867517, 16.38889214502573, 15.269477077447865, 14.508199603793269, 14.642534785309872, 14.776869966826476, 14.776869966826476, 14.776869966826476, 14.776869966826476, 14.776869966826476, 18.094948950286604, 18.61885615820136, 19.021861702751174, 19.747271682940838, 20.204011300097292, 20.821953135073674, 20.15027722749065, 21.15779108886518, 21.829466996448204, 22.836980857822738, 22.836980857822738, 22.836980857822738, 18.30316848163734, 19.47860131990763, 19.47860131990763, 19.47860131990763, 19.47860131990763, 19.142763366116117, 21.24175057731306, 21.325710065760937, 21.292126270381786, 21.292126270381786, 21.829466996448204, 21.66154801955245, 16.12022178199252, 17.127735643367053, 18.806925412324606, 18.806925412324606, 18.135249504741584, 18.359186252329767, 21.493629042656693, 22.836980857822738, 22.29964013175632, 21.493629042656693, 22.836980857822738, 22.836980857822738, 14.776869966826476, 14.776869966826476, 14.776869966826476, 14.776869966826476, 14.776869966826476, 14.776869966826476, 14.776869966826476, 14.776869966826476, 14.776869966826476, 15.532505362857377, 16.12022178199252, 16.372100247336153, 22.730990399606135, 22.165304950239715, 21.46004524727754, 21.381727836453365, 20.821953135073674, 20.828401223786468, 19.01138355859288, 22.202650130701333, 22.769813267064436, 24.410180168563688, 26.342321740965197, 26.72880540154028, 21.869767550903187, 20.821953135073674, 21.073831600417304, 21.493629042656693, 21.493629042656693, 21.66154801955245, 21.15779108886518, 23.17281881161425, 23.004899834718493, 23.39675555920243, 29.105999430306294, 28.7427570994854, 22.165304950239715, 22.702645676306133, 22.836980857822738, 22.836980857822738, 23.028945832209963, 24.18033267298878, 24.18033267298878, 23.9563959254006, 25.523684488154824, 25.299747740566644, 24.490378271929103, 24.852008580571802, 16.791897689575542, 16.791897689575542, 18.087293188291973, 21.493629042656693, 21.493629042656693, 21.493629042656693, 22.861428517506944, 24.193094515232858, 25.709202717181068, 26.423730204316072, 26.867036303320866, 26.867036303320866, 26.88140882439133, 26.584260746228416, 26.531198349529355, 26.363279372633603, 25.523684488154824, 25.92064494953639, 25.66110937884631, 25.187846534363313, 25.031077377533435, 25.19792167297706, 25.27852278188702, 26.05793550504636, 23.569779272995813, 23.450625310342403, 23.933155938998226, 23.488506488178267, 23.826090799329496, 23.610079827450793, 23.17469950415548, 24.012145025729993, 25.164875218323974, 25.09851363865477, 25.01858420565239, 24.899697570010197, 24.717673399055197, 24.717673399055197, 24.553515807241908, 24.18033267298878, 24.18033267298878, 24.18033267298878, 24.18033267298878, 24.18033267298878, 24.18033267298878, 24.51617062678029, 25.523684488154824, 25.523684488154824, 26.867036303320866, 26.867036303320866, 26.867036303320866, 26.867036303320866, 26.867036303320866, 26.867036303320866, 26.867036303320866, 28.277555709245213, 30.897091748818998, 30.990050351076672, 31.031426930335602, 31.031426930335602, 26.34312909540611, 26.046920020162, 26.164866309533576, 26.255003872979405, 26.243316712187458, 26.051889078526298, 26.06747330293404, 25.977065725773365, 26.241168692635007, 26.195360395737847, 26.195360395737847, 26.195360395737847, 24.852008580571802, 24.852008580571802, 24.852008580571802, 25.001254967236747, 25.235802850812924, 24.08871742254627, 24.20330398902812, 23.94524610533472, 24.241455180578836, 24.239574488037604, 25.67293087481977, 25.632495985183272, 25.523684488154824, 25.523684488154824, 25.523684488154824, 25.523684488154824, 25.523684488154824, 25.523684488154824, 25.523684488154824, 25.523684488154824, 25.523684488154824, 25.523684488154824, 25.523684488154824, 25.523684488154824, 31.031426930335602, 31.031426930335602, 31.031426930335602, 31.15541830287543, 31.23292970261051, 31.23292970261051, 31.23292970261051, 31.23292970261051, 31.23292970261051, 31.23292970261051, 31.23292970261051, 31.23292970261051, 26.195360395737847, 26.195360395737847, 26.195360395737847, 26.31532305618399, 27.55698313894196, 27.896982796656857, 27.53871221090389, 28.48967096085993, 29.164839583162387, 29.2709643765605, 28.28104842396465, 28.714145049174178, 25.859522441946336, 25.859522441946336, 25.859522441946336, 25.859522441946336, 31.370354593301993, 32.24044356398504, 32.301566071575095, 33.48304399301363, 28.952724331547667, 28.949231616828236, 29.255247160323062, 28.84673521668288, 25.523684488154824, 25.523684488154824, 25.523684488154824, 26.27005210001289, 26.867036303320866, 28.78615004981889, 31.629890163992076, 34.25547128673411, 35.5241313976251, 37.61385082464921, 38.48702950450714, 39.494543365881675, 31.23292970261051, 31.23292970261051, 31.23292970261051, 32.07252458708928, 34.735182219929904, 36.897439958269345, 40.3005544549813, 40.3005544549813, 40.3005544549813, 40.3005544549813, 36.74456786505527, 35.59882310190015, 29.265860983014687, 29.78882650130701, 31.215196115298504, 31.434432474885416, 31.539618265364734, 32.03894079171013, 32.06527048728739, 31.658367879121776, 31.408910133749078, 30.119426726371188, 30.225415841235975, 31.065010725714753, 28.21038811848691, 28.493163675579364, 28.546226072278422, 28.79367013328019, 29.67585195700336, 31.56876765640202, 32.91211947156806, 31.083681972593748, 30.897091748818998, 30.065558318583033, 29.553739933652952, 31.462778541537233, 41.64390627014735, 41.64390627014735, 37.40173557303449, 34.64437163722467, 33.95012741914687, 33.650962969909386, 34.56081515432135, 33.583795379151084, 32.947448280955115, 30.62842138578579, 32.24044356398504, 32.24044356398504, 35.59882310190015, 35.59882310190015, 35.59882310190015, 35.93466105569166, 37.41624377263829, 37.61385082464921, 37.61385082464921, 37.61385082464921, 38.8676024170955, 30.300107545511025, 30.81313226037112, 29.129508087071702, 31.031426930335602, 30.561253795027486, 30.426918613510882, 31.15823799833546, 31.05694927147194, 31.05694927147194, 32.57628151777655, 34.57357565321361, 34.83552925717099, 36.628769595236136, 35.5241313976251, 33.55330129294681, 31.533438847014967, 32.3589285374345, 31.848589182852923, 31.56876765640202, 31.56876765640202, 31.56876765640202, 31.41616154684734, 30.949346791077144, 31.536797226552885, 31.56876765640202, 31.008994298374144, 30.897091748818998, 32.24044356398504, 33.44946019763448, 33.583795379151084, 32.32440305243292, 32.24044356398504, 32.24044356398504, 34.19434877914405, 34.92714719431713, 34.92714719431713, 34.92714719431713, 34.553964060064, 31.263423788814777, 28.21038811848691, 28.21038811848691, 30.897091748818998, 30.897091748818998, 30.897091748818998, 33.50480763577114, 30.897091748818998, 30.897091748818998, 32.77778429005146, 32.24044356398504, 32.24044356398504, 32.24044356398504, 31.83743801943523, 32.374778745501644, 32.112556471181236, 32.31110386946278, 31.56876765640202, 31.17180719502045, 32.386467249645406, 31.472853680150976, 30.737234226166056, 31.065010725714753, 29.461050001758313, 30.723800708014394, 30.32616722737343, 29.740330157427703, 30.225415841235975, 30.08396089509899, 31.144535809820766, 31.083681972593748, 31.56876765640202, 31.56876765640202, 31.26651349798966, 30.977021181821375, 30.9642593395773, 28.057782008932236, 31.371160604391093, 35.19581755735034, 35.5634942925131, 34.92714719431713, 34.92714719431713, 34.92714719431713, 34.80503517096672, 32.374778745501644, 32.24044356398504, 31.109207000433717, 32.33635754023608, 33.687097790385536, 32.24044356398504, 32.24044356398504, 32.301566071575095, 33.278451511563844, 33.583795379151084, 32.294177636591684, 32.24044356398504, 32.24044356398504, 32.24044356398504, 32.24044356398504, 32.00790802142798, 33.315125016117875, 29.75524270592786, 29.878023718482222, 29.91201051940592, 29.710507747131015, 29.900460380499126, 31.138895075548884, 32.45282882931461, 32.56472734881431, 31.927038242154985, 31.89305144123129, 32.3972113774631, 32.413734604789646, 30.80950521047017, 32.24044356398504, 32.69839354112696, 32.77066452543107, 33.20416415618516, 34.03153588249774, 34.159557310483066, 32.91211947156806, 32.91211947156806, 32.91211947156806, 32.91211947156806, 32.91211947156806, 33.53583637599784, 30.36928882064026, 28.837329067273085, 26.867036303320866, 29.374669793339503, 31.434432474885416, 29.553739933652952, 30.20378653365999, 32.05519534867364, 34.74189897900573, 34.30020624553095, 37.51793684839817, 32.91211947156806, 32.24044356398504, 32.24044356398504, 32.24044356398504, 33.679709355402125, 34.92714719431713, 36.57382919269948, 38.91381237618539, 40.3005544549813, 40.3005544549813, 40.3005544549813, 40.3005544549813, 32.531546558979706, 34.61535523801709, 33.650962969909386, 34.64920904711109, 33.225524793398115, 33.673395601870844, 34.060416603171994, 34.23303865477265, 34.92714719431713, 34.64920904711109, 34.92714719431713, 34.92714719431713, 32.91211947156806, 32.91211947156806, 32.91211947156806, 33.487881402900044, 33.40862230245343, 32.91211947156806, 32.91211947156806, 33.26394196860823, 34.06350631234688, 33.012870857705515, 32.620074786950966, 33.52267287156103, 43.89254153020197, 44.33060990047943, 42.07727156571991, 41.83587124453457, 40.52448985921767, 43.45044579118264, 43.16054912611799, 42.987258085313385, 42.987258085313385, 42.987258085313385, 42.987258085313385, 42.987258085313385, 42.78830633813548, 42.987258085313385, 42.987258085313385, 42.987258085313385, 42.987258085313385, 42.987258085313385, 39.78390134686844, 41.26776776190085, 41.64390627014735, 42.28361174788123, 42.382749768488665, 42.987258085313385, 35.58538958374849, 35.9154524680866, 36.355534522735, 36.14959734611823, 35.7699661231523, 35.67942421081011, 35.871793534093705, 35.88092698308502, 35.730875928682785, 35.7757411926057, 36.001828646449965, 35.97146889542721, 34.25547128673411, 34.65847683128392, 33.583795379151084, 34.25547128673411, 34.98316362165774, 35.569673710862865, 33.63981180649169, 34.92714719431713, 35.733158283416756, 34.92714719431713, 34.50734975207774, 34.81027558639769, 42.987258085313385, 42.987258085313385, 42.987258085313385, 42.987258085313385, 42.987258085313385, 42.987258085313385, 42.987258085313385, 42.2461322322381, 37.52116089275457, 36.83389941741199, 37.61385082464921, 37.61385082464921, 42.987258085313385, 42.987258085313385, 42.987258085313385, 41.83587124453457, 42.987258085313385, 42.987258085313385, 42.688765311983495, 42.987258085313385, 42.987258085313385, 42.987258085313385, 42.987258085313385, 43.15517706220914, 36.24806637752172, 36.29924539497591, 36.198897014383, 35.894360501236676, 35.4107538477769, 35.795891469833194, 35.33015273886694, 34.68090946324538, 34.44354054085735, 34.92714719431713, 35.7107256514553, 37.22387579270651, 37.13024417118944, 37.61385082464921, 36.39261103283358, 34.32263887749241, 34.401494972394474, 34.68292717767176, 33.959933887397575, 34.92714719431713, 34.50291534773587, 33.583795379151084, 33.583795379151084, 33.583795379151084, 37.70049701672742, 40.3005544549813, 40.3005544549813, 38.41986191374884, 37.61385082464921, 43.45044579118264, 45.673961715645476, 44.50968004079288, 45.673961715645476, 46.88727841845526, 64.48088712797008, 64.48088712797008, 43.30966252095324, 43.3230960391049, 42.31558217773036, 38.24079177343539, 37.61385082464921, 37.61385082464921, 37.61385082464921, 37.61385082464921, 37.61385082464921, 38.07059044180567, 38.26309410027078, 37.350017871502416, 37.61385082464921, 37.61385082464921, 37.35391090506277, 38.4422945457103, 38.415561844588495, 38.77813249950181, 39.11397045329332, 38.44766929632278, 34.28233832303743, 33.583795379151084, 33.82089563117607, 32.91211947156806, 33.30719789705658, 36.04656226189499, 34.868710047005585, 33.32788551501014, 32.24044356398504, 32.24044356398504, 64.48088712797008, 64.48088712797008, 64.48088712797008, 64.83136492984328, 65.95857412465273, 65.82423894313612, 65.82423894313612, 65.82423894313612, 65.82423894313612, 64.21221676493687], \"yaxis\": \"y\"}],\n",
       "                        {\"barmode\": \"relative\", \"legend\": {\"tracegroupgap\": 0}, \"margin\": {\"t\": 60}, \"template\": {\"data\": {\"bar\": [{\"error_x\": {\"color\": \"#2a3f5f\"}, \"error_y\": {\"color\": \"#2a3f5f\"}, \"marker\": {\"line\": {\"color\": \"#E5ECF6\", \"width\": 0.5}}, \"type\": \"bar\"}], \"barpolar\": [{\"marker\": {\"line\": {\"color\": \"#E5ECF6\", \"width\": 0.5}}, \"type\": \"barpolar\"}], \"carpet\": [{\"aaxis\": {\"endlinecolor\": \"#2a3f5f\", \"gridcolor\": \"white\", \"linecolor\": \"white\", \"minorgridcolor\": \"white\", \"startlinecolor\": \"#2a3f5f\"}, \"baxis\": {\"endlinecolor\": \"#2a3f5f\", \"gridcolor\": \"white\", \"linecolor\": \"white\", \"minorgridcolor\": \"white\", \"startlinecolor\": \"#2a3f5f\"}, \"type\": \"carpet\"}], \"choropleth\": [{\"colorbar\": {\"outlinewidth\": 0, \"ticks\": \"\"}, \"type\": \"choropleth\"}], \"contour\": [{\"colorbar\": {\"outlinewidth\": 0, \"ticks\": \"\"}, \"colorscale\": [[0.0, \"#0d0887\"], [0.1111111111111111, \"#46039f\"], [0.2222222222222222, \"#7201a8\"], [0.3333333333333333, \"#9c179e\"], [0.4444444444444444, \"#bd3786\"], [0.5555555555555556, \"#d8576b\"], [0.6666666666666666, \"#ed7953\"], [0.7777777777777778, \"#fb9f3a\"], [0.8888888888888888, \"#fdca26\"], [1.0, \"#f0f921\"]], \"type\": \"contour\"}], \"contourcarpet\": [{\"colorbar\": {\"outlinewidth\": 0, \"ticks\": \"\"}, \"type\": \"contourcarpet\"}], \"heatmap\": [{\"colorbar\": {\"outlinewidth\": 0, \"ticks\": \"\"}, \"colorscale\": [[0.0, \"#0d0887\"], [0.1111111111111111, \"#46039f\"], [0.2222222222222222, \"#7201a8\"], [0.3333333333333333, \"#9c179e\"], [0.4444444444444444, \"#bd3786\"], [0.5555555555555556, \"#d8576b\"], [0.6666666666666666, \"#ed7953\"], [0.7777777777777778, \"#fb9f3a\"], [0.8888888888888888, \"#fdca26\"], [1.0, \"#f0f921\"]], \"type\": \"heatmap\"}], \"heatmapgl\": [{\"colorbar\": {\"outlinewidth\": 0, \"ticks\": \"\"}, \"colorscale\": [[0.0, \"#0d0887\"], [0.1111111111111111, \"#46039f\"], [0.2222222222222222, \"#7201a8\"], [0.3333333333333333, \"#9c179e\"], [0.4444444444444444, \"#bd3786\"], [0.5555555555555556, \"#d8576b\"], [0.6666666666666666, \"#ed7953\"], [0.7777777777777778, \"#fb9f3a\"], [0.8888888888888888, \"#fdca26\"], [1.0, \"#f0f921\"]], \"type\": \"heatmapgl\"}], \"histogram\": [{\"marker\": {\"colorbar\": {\"outlinewidth\": 0, \"ticks\": \"\"}}, \"type\": \"histogram\"}], \"histogram2d\": [{\"colorbar\": {\"outlinewidth\": 0, \"ticks\": \"\"}, \"colorscale\": [[0.0, \"#0d0887\"], [0.1111111111111111, \"#46039f\"], [0.2222222222222222, \"#7201a8\"], [0.3333333333333333, \"#9c179e\"], [0.4444444444444444, \"#bd3786\"], [0.5555555555555556, \"#d8576b\"], [0.6666666666666666, \"#ed7953\"], [0.7777777777777778, \"#fb9f3a\"], [0.8888888888888888, \"#fdca26\"], [1.0, \"#f0f921\"]], \"type\": \"histogram2d\"}], \"histogram2dcontour\": [{\"colorbar\": {\"outlinewidth\": 0, \"ticks\": \"\"}, \"colorscale\": [[0.0, \"#0d0887\"], [0.1111111111111111, \"#46039f\"], [0.2222222222222222, \"#7201a8\"], [0.3333333333333333, \"#9c179e\"], [0.4444444444444444, \"#bd3786\"], [0.5555555555555556, \"#d8576b\"], [0.6666666666666666, \"#ed7953\"], [0.7777777777777778, \"#fb9f3a\"], [0.8888888888888888, \"#fdca26\"], [1.0, \"#f0f921\"]], \"type\": \"histogram2dcontour\"}], \"mesh3d\": [{\"colorbar\": {\"outlinewidth\": 0, \"ticks\": \"\"}, \"type\": \"mesh3d\"}], \"parcoords\": [{\"line\": {\"colorbar\": {\"outlinewidth\": 0, \"ticks\": \"\"}}, \"type\": \"parcoords\"}], \"pie\": [{\"automargin\": true, \"type\": \"pie\"}], \"scatter\": [{\"marker\": {\"colorbar\": {\"outlinewidth\": 0, \"ticks\": \"\"}}, \"type\": \"scatter\"}], \"scatter3d\": [{\"line\": {\"colorbar\": {\"outlinewidth\": 0, \"ticks\": \"\"}}, \"marker\": {\"colorbar\": {\"outlinewidth\": 0, \"ticks\": \"\"}}, \"type\": \"scatter3d\"}], \"scattercarpet\": [{\"marker\": {\"colorbar\": {\"outlinewidth\": 0, \"ticks\": \"\"}}, \"type\": \"scattercarpet\"}], \"scattergeo\": [{\"marker\": {\"colorbar\": {\"outlinewidth\": 0, \"ticks\": \"\"}}, \"type\": \"scattergeo\"}], \"scattergl\": [{\"marker\": {\"colorbar\": {\"outlinewidth\": 0, \"ticks\": \"\"}}, \"type\": \"scattergl\"}], \"scattermapbox\": [{\"marker\": {\"colorbar\": {\"outlinewidth\": 0, \"ticks\": \"\"}}, \"type\": \"scattermapbox\"}], \"scatterpolar\": [{\"marker\": {\"colorbar\": {\"outlinewidth\": 0, \"ticks\": \"\"}}, \"type\": \"scatterpolar\"}], \"scatterpolargl\": [{\"marker\": {\"colorbar\": {\"outlinewidth\": 0, \"ticks\": \"\"}}, \"type\": \"scatterpolargl\"}], \"scatterternary\": [{\"marker\": {\"colorbar\": {\"outlinewidth\": 0, \"ticks\": \"\"}}, \"type\": \"scatterternary\"}], \"surface\": [{\"colorbar\": {\"outlinewidth\": 0, \"ticks\": \"\"}, \"colorscale\": [[0.0, \"#0d0887\"], [0.1111111111111111, \"#46039f\"], [0.2222222222222222, \"#7201a8\"], [0.3333333333333333, \"#9c179e\"], [0.4444444444444444, \"#bd3786\"], [0.5555555555555556, \"#d8576b\"], [0.6666666666666666, \"#ed7953\"], [0.7777777777777778, \"#fb9f3a\"], [0.8888888888888888, \"#fdca26\"], [1.0, \"#f0f921\"]], \"type\": \"surface\"}], \"table\": [{\"cells\": {\"fill\": {\"color\": \"#EBF0F8\"}, \"line\": {\"color\": \"white\"}}, \"header\": {\"fill\": {\"color\": \"#C8D4E3\"}, \"line\": {\"color\": \"white\"}}, \"type\": \"table\"}]}, \"layout\": {\"annotationdefaults\": {\"arrowcolor\": \"#2a3f5f\", \"arrowhead\": 0, \"arrowwidth\": 1}, \"coloraxis\": {\"colorbar\": {\"outlinewidth\": 0, \"ticks\": \"\"}}, \"colorscale\": {\"diverging\": [[0, \"#8e0152\"], [0.1, \"#c51b7d\"], [0.2, \"#de77ae\"], [0.3, \"#f1b6da\"], [0.4, \"#fde0ef\"], [0.5, \"#f7f7f7\"], [0.6, \"#e6f5d0\"], [0.7, \"#b8e186\"], [0.8, \"#7fbc41\"], [0.9, \"#4d9221\"], [1, \"#276419\"]], \"sequential\": [[0.0, \"#0d0887\"], [0.1111111111111111, \"#46039f\"], [0.2222222222222222, \"#7201a8\"], [0.3333333333333333, \"#9c179e\"], [0.4444444444444444, \"#bd3786\"], [0.5555555555555556, \"#d8576b\"], [0.6666666666666666, \"#ed7953\"], [0.7777777777777778, \"#fb9f3a\"], [0.8888888888888888, \"#fdca26\"], [1.0, \"#f0f921\"]], \"sequentialminus\": [[0.0, \"#0d0887\"], [0.1111111111111111, \"#46039f\"], [0.2222222222222222, \"#7201a8\"], [0.3333333333333333, \"#9c179e\"], [0.4444444444444444, \"#bd3786\"], [0.5555555555555556, \"#d8576b\"], [0.6666666666666666, \"#ed7953\"], [0.7777777777777778, \"#fb9f3a\"], [0.8888888888888888, \"#fdca26\"], [1.0, \"#f0f921\"]]}, \"colorway\": [\"#636efa\", \"#EF553B\", \"#00cc96\", \"#ab63fa\", \"#FFA15A\", \"#19d3f3\", \"#FF6692\", \"#B6E880\", \"#FF97FF\", \"#FECB52\"], \"font\": {\"color\": \"#2a3f5f\"}, \"geo\": {\"bgcolor\": \"white\", \"lakecolor\": \"white\", \"landcolor\": \"#E5ECF6\", \"showlakes\": true, \"showland\": true, \"subunitcolor\": \"white\"}, \"hoverlabel\": {\"align\": \"left\"}, \"hovermode\": \"closest\", \"mapbox\": {\"style\": \"light\"}, \"paper_bgcolor\": \"white\", \"plot_bgcolor\": \"#E5ECF6\", \"polar\": {\"angularaxis\": {\"gridcolor\": \"white\", \"linecolor\": \"white\", \"ticks\": \"\"}, \"bgcolor\": \"#E5ECF6\", \"radialaxis\": {\"gridcolor\": \"white\", \"linecolor\": \"white\", \"ticks\": \"\"}}, \"scene\": {\"xaxis\": {\"backgroundcolor\": \"#E5ECF6\", \"gridcolor\": \"white\", \"gridwidth\": 2, \"linecolor\": \"white\", \"showbackground\": true, \"ticks\": \"\", \"zerolinecolor\": \"white\"}, \"yaxis\": {\"backgroundcolor\": \"#E5ECF6\", \"gridcolor\": \"white\", \"gridwidth\": 2, \"linecolor\": \"white\", \"showbackground\": true, \"ticks\": \"\", \"zerolinecolor\": \"white\"}, \"zaxis\": {\"backgroundcolor\": \"#E5ECF6\", \"gridcolor\": \"white\", \"gridwidth\": 2, \"linecolor\": \"white\", \"showbackground\": true, \"ticks\": \"\", \"zerolinecolor\": \"white\"}}, \"shapedefaults\": {\"line\": {\"color\": \"#2a3f5f\"}}, \"ternary\": {\"aaxis\": {\"gridcolor\": \"white\", \"linecolor\": \"white\", \"ticks\": \"\"}, \"baxis\": {\"gridcolor\": \"white\", \"linecolor\": \"white\", \"ticks\": \"\"}, \"bgcolor\": \"#E5ECF6\", \"caxis\": {\"gridcolor\": \"white\", \"linecolor\": \"white\", \"ticks\": \"\"}}, \"title\": {\"x\": 0.05}, \"xaxis\": {\"automargin\": true, \"gridcolor\": \"white\", \"linecolor\": \"white\", \"ticks\": \"\", \"title\": {\"standoff\": 15}, \"zerolinecolor\": \"white\", \"zerolinewidth\": 2}, \"yaxis\": {\"automargin\": true, \"gridcolor\": \"white\", \"linecolor\": \"white\", \"ticks\": \"\", \"title\": {\"standoff\": 15}, \"zerolinecolor\": \"white\", \"zerolinewidth\": 2}}}, \"xaxis\": {\"anchor\": \"y\", \"domain\": [0.0, 1.0], \"title\": {\"text\": \"Year\"}}, \"yaxis\": {\"anchor\": \"x\", \"domain\": [0.0, 1.0], \"title\": {\"text\": \"Price in $\"}}},\n",
       "                        {\"responsive\": true}\n",
       "                    ).then(function(){\n",
       "                            \n",
       "var gd = document.getElementById('439a4d13-9027-4b9e-9d39-d0a6f149045b');\n",
       "var x = new MutationObserver(function (mutations, observer) {{\n",
       "        var display = window.getComputedStyle(gd).display;\n",
       "        if (!display || display === 'none') {{\n",
       "            console.log([gd, 'removed!']);\n",
       "            Plotly.purge(gd);\n",
       "            observer.disconnect();\n",
       "        }}\n",
       "}});\n",
       "\n",
       "// Listen for the removal of the full notebook cells\n",
       "var notebookContainer = gd.closest('#notebook-container');\n",
       "if (notebookContainer) {{\n",
       "    x.observe(notebookContainer, {childList: true});\n",
       "}}\n",
       "\n",
       "// Listen for the clearing of the current output cell\n",
       "var outputEl = gd.closest('.output');\n",
       "if (outputEl) {{\n",
       "    x.observe(outputEl, {childList: true});\n",
       "}}\n",
       "\n",
       "                        })\n",
       "                };\n",
       "                });\n",
       "            </script>\n",
       "        </div>"
      ]
     },
     "metadata": {},
     "output_type": "display_data"
    }
   ],
   "source": [
    "#countries_list_top_20 = output3['cm_name'].unique()\n",
    "import matplotlib.pyplot as plt\n",
    "import plotly.express as px\n",
    "items_list = item_specific['cm_name'].unique().tolist()\n",
    "#fig, ax = plt.subplots(nrows=len(items_list), figsize=(12,len(items_list)*3.5)) #dynamically set the figure size from the number of subplots. I find that 3.5 is a good height per subplot to see the data\n",
    "\n",
    "for i in items_list:\n",
    "    ind = items_list.index(i) #a trick to get a list of 0 to whatever \n",
    "    filt = item_specific['cm_name'] == i #filter the dataframe for each item in the list\n",
    "    print(i)\n",
    "    fig = px.bar(x=item_specific.loc[filt]['mp_year'], y=item_specific.loc[filt]['currency_product'], labels={'x':'Year', 'y':'Price in $'})\n",
    "    fig.show()\n"
   ]
  },
  {
   "cell_type": "markdown",
   "metadata": {},
   "source": [
    "# Arkouda Configuration"
   ]
  },
  {
   "cell_type": "code",
   "execution_count": 48,
   "metadata": {},
   "outputs": [],
   "source": [
    "cfg=ak.get_config()"
   ]
  },
  {
   "cell_type": "code",
   "execution_count": 49,
   "metadata": {},
   "outputs": [
    {
     "data": {
      "text/plain": [
       "{'arkoudaVersion': 'v2021.08.20+18.g7a657ad',\n",
       " 'ZMQVersion': '4.3.2',\n",
       " 'HDF5Version': '1.12.1',\n",
       " 'serverHostname': 'MacBook-Pro-7.local',\n",
       " 'ServerPort': 5555,\n",
       " 'numLocales': 1,\n",
       " 'numPUs': 4,\n",
       " 'maxTaskPar': 4,\n",
       " 'physicalMemory': 8589934592,\n",
       " 'distributionType': 'domain(1,int(64),false)',\n",
       " 'LocaleConfigs': [{'id': 0,\n",
       "   'name': 'MacBook-Pro-7.local',\n",
       "   'numPUs': 4,\n",
       "   'maxTaskPar': 4,\n",
       "   'physicalMemory': 8589934592}],\n",
       " 'authenticate': False,\n",
       " 'logLevel': 'INFO',\n",
       " 'byteorder': 'little'}"
      ]
     },
     "execution_count": 49,
     "metadata": {},
     "output_type": "execute_result"
    }
   ],
   "source": [
    "cfg"
   ]
  }
 ],
 "metadata": {
  "kernelspec": {
   "display_name": "Python 3",
   "language": "python",
   "name": "python3"
  },
  "language_info": {
   "codemirror_mode": {
    "name": "ipython",
    "version": 3
   },
   "file_extension": ".py",
   "mimetype": "text/x-python",
   "name": "python",
   "nbconvert_exporter": "python",
   "pygments_lexer": "ipython3",
   "version": "3.8.3"
  }
 },
 "nbformat": 4,
 "nbformat_minor": 4
}
